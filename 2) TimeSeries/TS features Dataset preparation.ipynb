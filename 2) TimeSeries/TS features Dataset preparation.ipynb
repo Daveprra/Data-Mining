{
 "cells": [
  {
   "cell_type": "code",
   "execution_count": 1,
   "id": "practical-ultimate",
   "metadata": {},
   "outputs": [],
   "source": [
    "%matplotlib inline\n",
    "\n",
    "import os\n",
    "\n",
    "import IPython.display as ipd\n",
    "import numpy as np\n",
    "import pandas as pd\n",
    "import matplotlib.pyplot as plt\n",
    "import seaborn as sns\n",
    "import sklearn as skl\n",
    "import sklearn.utils, sklearn.preprocessing, sklearn.decomposition, sklearn.svm\n",
    "import librosa\n",
    "import librosa.display\n",
    "import utils"
   ]
  },
  {
   "cell_type": "code",
   "execution_count": 2,
   "id": "stuck-privilege",
   "metadata": {},
   "outputs": [],
   "source": [
    "tracks= utils.load(\"/Users/david/Desktop/DM2 project/fma_metadata/tracks.csv\")\n",
    "tracks_cut=['album','artist']\n",
    "tracks.drop(tracks_cut,axis=1,inplace=True)\n",
    "tracks=tracks.droplevel(0,axis=1)\n",
    "tracks.drop(index=tracks[tracks.subset=='large'].index, inplace=True)\n",
    "tracks_cut=['composer','comments', 'date_created','date_recorded',\n",
    "            'license','number','title','language_code',\n",
    "            'publisher', 'tags','information','lyricist','genres','genres_all',\n",
    "            'favorites','listens','interest','bit_rate', 'duration','split','subset']\n",
    "tracks.drop(tracks_cut,axis=1,inplace=True)"
   ]
  },
  {
   "cell_type": "code",
   "execution_count": 3,
   "id": "precious-redhead",
   "metadata": {},
   "outputs": [],
   "source": [
    "features= utils.load(\"/Users/david/Desktop/DM2 project/fma_metadata/features.csv\")\n",
    "feat=features[['spectral_rolloff']]\n",
    "feat=feat.droplevel(0,axis=1)\n",
    "feat.columns=['roll_kurtosis','roll_max','roll_mean','roll_median','roll_min','roll_skew','roll_std']\n",
    "cut=['roll_kurtosis','roll_max','roll_std','roll_median','roll_min','roll_skew']\n",
    "feat.drop(cut,axis=1,inplace=True)"
   ]
  },
  {
   "cell_type": "code",
   "execution_count": 4,
   "id": "medium-helena",
   "metadata": {},
   "outputs": [
    {
     "data": {
      "text/plain": [
       "(24980, 217)"
      ]
     },
     "execution_count": 4,
     "metadata": {},
     "output_type": "execute_result"
    }
   ],
   "source": [
    "#estrazioni da librosa_mp3 di 10  secondi dopo i primi 10 features rolloff\n",
    "ts=pd.read_csv(\"/Users/david/Desktop/DM2 project/fma_metadata/ts_spectral_dataset.csv\")\n",
    "ts.shape"
   ]
  },
  {
   "cell_type": "markdown",
   "id": "environmental-musical",
   "metadata": {},
   "source": [
    "# Drop all genres from Time  Series"
   ]
  },
  {
   "cell_type": "code",
   "execution_count": 5,
   "id": "congressional-granny",
   "metadata": {},
   "outputs": [],
   "source": [
    "index=tracks[tracks['genre_top']=='Experimental'].index\n",
    "for i in index:\n",
    "    ts.drop(ts.loc[ts.track_id == i].index, inplace=True)"
   ]
  },
  {
   "cell_type": "raw",
   "id": "impressive-saying",
   "metadata": {},
   "source": [
    "index=tracks[tracks['genre_top']=='Classical'].index\n",
    "for i in index:\n",
    "    ts.drop(ts.loc[ts.track_id == i].index, inplace=True)"
   ]
  },
  {
   "cell_type": "code",
   "execution_count": 6,
   "id": "brazilian-swimming",
   "metadata": {},
   "outputs": [],
   "source": [
    "index=tracks[tracks['genre_top']=='Soul-RnB'].index\n",
    "for i in index:\n",
    "    ts.drop(ts.loc[ts.track_id == i].index, inplace=True)"
   ]
  },
  {
   "cell_type": "code",
   "execution_count": 7,
   "id": "understanding-professor",
   "metadata": {},
   "outputs": [],
   "source": [
    "index=tracks[tracks['genre_top']=='Instrumental'].index\n",
    "for i in index:\n",
    "    ts.drop(ts.loc[ts.track_id == i].index, inplace=True)"
   ]
  },
  {
   "cell_type": "code",
   "execution_count": 8,
   "id": "manual-senegal",
   "metadata": {},
   "outputs": [],
   "source": [
    "index=tracks[tracks['genre_top']=='Jazz'].index\n",
    "for i in index:\n",
    "    ts.drop(ts.loc[ts.track_id == i].index, inplace=True)"
   ]
  },
  {
   "cell_type": "code",
   "execution_count": 9,
   "id": "demographic-murder",
   "metadata": {},
   "outputs": [],
   "source": [
    "index=tracks[tracks['genre_top']=='International'].index\n",
    "for i in index:\n",
    "    ts.drop(ts.loc[ts.track_id == i].index, inplace=True)"
   ]
  },
  {
   "cell_type": "code",
   "execution_count": 10,
   "id": "digital-boulder",
   "metadata": {},
   "outputs": [],
   "source": [
    "index=tracks[tracks['genre_top']=='Electronic'].index\n",
    "for i in index:\n",
    "    ts.drop(ts.loc[ts.track_id == i].index, inplace=True)"
   ]
  },
  {
   "cell_type": "code",
   "execution_count": 11,
   "id": "tested-measure",
   "metadata": {},
   "outputs": [],
   "source": [
    "index=tracks[tracks['genre_top']=='Country'].index\n",
    "for i in index:\n",
    "    ts.drop(ts.loc[ts.track_id == i].index, inplace=True)"
   ]
  },
  {
   "cell_type": "code",
   "execution_count": 12,
   "id": "controversial-president",
   "metadata": {},
   "outputs": [],
   "source": [
    "index=tracks[tracks['genre_top']=='Easy Listening'].index\n",
    "for i in index:\n",
    "    ts.drop(ts.loc[ts.track_id == i].index, inplace=True)"
   ]
  },
  {
   "cell_type": "code",
   "execution_count": 13,
   "id": "painful-element",
   "metadata": {},
   "outputs": [],
   "source": [
    "index=tracks[tracks['genre_top']=='Hip-Hop'].index\n",
    "for i in index:\n",
    "    ts.drop(ts.loc[ts.track_id == i].index, inplace=True)"
   ]
  },
  {
   "cell_type": "code",
   "execution_count": 14,
   "id": "opening-delivery",
   "metadata": {},
   "outputs": [],
   "source": [
    "index=tracks[tracks['genre_top']=='Pop'].index\n",
    "for i in index:\n",
    "    ts.drop(ts.loc[ts.track_id == i].index, inplace=True)"
   ]
  },
  {
   "cell_type": "code",
   "execution_count": 15,
   "id": "patient-philippines",
   "metadata": {},
   "outputs": [],
   "source": [
    "index=tracks[tracks['genre_top']=='Spoken'].index\n",
    "for i in index:\n",
    "    ts.drop(ts.loc[ts.track_id == i].index, inplace=True)"
   ]
  },
  {
   "cell_type": "code",
   "execution_count": 16,
   "id": "published-depression",
   "metadata": {},
   "outputs": [],
   "source": [
    "index=tracks[tracks['genre_top']=='Folk'].index\n",
    "for i in index:\n",
    "    ts.drop(ts.loc[ts.track_id == i].index, inplace=True)"
   ]
  },
  {
   "cell_type": "code",
   "execution_count": 17,
   "id": "solved-radical",
   "metadata": {},
   "outputs": [],
   "source": [
    "index=tracks[tracks['genre_top']=='Rock'].index\n",
    "for i in index:\n",
    "    ts.drop(ts.loc[ts.track_id == i].index, inplace=True)"
   ]
  },
  {
   "cell_type": "code",
   "execution_count": 18,
   "id": "entire-simon",
   "metadata": {},
   "outputs": [
    {
     "data": {
      "text/plain": [
       "(1203, 217)"
      ]
     },
     "execution_count": 18,
     "metadata": {},
     "output_type": "execute_result"
    }
   ],
   "source": [
    "ts.shape"
   ]
  },
  {
   "cell_type": "markdown",
   "id": "unlikely-distinction",
   "metadata": {},
   "source": [
    "# Dropp all genres from tracks"
   ]
  },
  {
   "cell_type": "code",
   "execution_count": 20,
   "id": "spare-triple",
   "metadata": {},
   "outputs": [],
   "source": [
    "index=tracks[tracks['genre_top']=='Experimental'].index\n",
    "for i in index:\n",
    "    tracks.drop(i, inplace=True)"
   ]
  },
  {
   "cell_type": "code",
   "execution_count": 21,
   "id": "tropical-correspondence",
   "metadata": {},
   "outputs": [],
   "source": [
    "index=tracks[tracks['genre_top']=='Classical'].index\n",
    "for i in index:\n",
    "    tracks.drop(i, inplace=True)"
   ]
  },
  {
   "cell_type": "code",
   "execution_count": 22,
   "id": "noticed-audience",
   "metadata": {},
   "outputs": [],
   "source": [
    "index=tracks[tracks['genre_top']=='Soul-RnB'].index\n",
    "for i in index:\n",
    "    tracks.drop(i, inplace=True)"
   ]
  },
  {
   "cell_type": "code",
   "execution_count": 23,
   "id": "packed-folks",
   "metadata": {},
   "outputs": [],
   "source": [
    "index=tracks[tracks['genre_top']=='Instrumental'].index\n",
    "for i in index:\n",
    "    tracks.drop(i, inplace=True)"
   ]
  },
  {
   "cell_type": "code",
   "execution_count": 24,
   "id": "paperback-reasoning",
   "metadata": {},
   "outputs": [],
   "source": [
    "index=tracks[tracks['genre_top']=='Jazz'].index\n",
    "for i in index:\n",
    "    tracks.drop(i, inplace=True)"
   ]
  },
  {
   "cell_type": "code",
   "execution_count": 25,
   "id": "empty-viking",
   "metadata": {},
   "outputs": [],
   "source": [
    "index=tracks[tracks['genre_top']=='International'].index\n",
    "for i in index:\n",
    "    tracks.drop(i, inplace=True)"
   ]
  },
  {
   "cell_type": "code",
   "execution_count": 26,
   "id": "healthy-scottish",
   "metadata": {},
   "outputs": [],
   "source": [
    "index=tracks[tracks['genre_top']=='Electronic'].index\n",
    "for i in index:\n",
    "    tracks.drop(i, inplace=True)"
   ]
  },
  {
   "cell_type": "code",
   "execution_count": 27,
   "id": "killing-boxing",
   "metadata": {},
   "outputs": [],
   "source": [
    "index=tracks[tracks['genre_top']=='Country'].index\n",
    "for i in index:\n",
    "    tracks.drop(i, inplace=True)"
   ]
  },
  {
   "cell_type": "code",
   "execution_count": 28,
   "id": "northern-appreciation",
   "metadata": {},
   "outputs": [],
   "source": [
    "index=tracks[tracks['genre_top']=='Easy Listening'].index\n",
    "for i in index:\n",
    "    tracks.drop(i, inplace=True)"
   ]
  },
  {
   "cell_type": "code",
   "execution_count": 29,
   "id": "effective-circus",
   "metadata": {},
   "outputs": [],
   "source": [
    "index=tracks[tracks['genre_top']=='Hip-Hop'].index\n",
    "for i in index:\n",
    "    tracks.drop(i, inplace=True)"
   ]
  },
  {
   "cell_type": "code",
   "execution_count": 30,
   "id": "surgical-magazine",
   "metadata": {},
   "outputs": [],
   "source": [
    "index=tracks[tracks['genre_top']=='Pop'].index\n",
    "for i in index:\n",
    "    tracks.drop(i, inplace=True)"
   ]
  },
  {
   "cell_type": "code",
   "execution_count": 31,
   "id": "normal-termination",
   "metadata": {},
   "outputs": [],
   "source": [
    "index=tracks[tracks['genre_top']=='Spoken'].index\n",
    "for i in index:\n",
    "    tracks.drop(i, inplace=True)"
   ]
  },
  {
   "cell_type": "code",
   "execution_count": 32,
   "id": "excess-handling",
   "metadata": {},
   "outputs": [],
   "source": [
    "index=tracks[tracks['genre_top']=='Folk'].index\n",
    "for i in index:\n",
    "    tracks.drop(i, inplace=True)"
   ]
  },
  {
   "cell_type": "code",
   "execution_count": 33,
   "id": "elect-subscriber",
   "metadata": {},
   "outputs": [],
   "source": [
    "index=tracks[tracks['genre_top']=='Rock'].index\n",
    "for i in index:\n",
    "    tracks.drop(i, inplace=True)"
   ]
  },
  {
   "cell_type": "code",
   "execution_count": 34,
   "id": "seventh-testament",
   "metadata": {},
   "outputs": [
    {
     "data": {
      "text/plain": [
       "(584, 1)"
      ]
     },
     "execution_count": 34,
     "metadata": {},
     "output_type": "execute_result"
    }
   ],
   "source": [
    "tracks.shape"
   ]
  },
  {
   "cell_type": "code",
   "execution_count": 19,
   "id": "ordinary-isaac",
   "metadata": {},
   "outputs": [],
   "source": [
    "#save dataset - spectral rolloff time series\n",
    "with open('ts.csv', mode='w') as dataset:\n",
    "    dataset.write(ts.to_csv())"
   ]
  },
  {
   "cell_type": "code",
   "execution_count": null,
   "id": "practical-gibraltar",
   "metadata": {},
   "outputs": [],
   "source": []
  }
 ],
 "metadata": {
  "kernelspec": {
   "display_name": "Python 3 (ipykernel)",
   "language": "python",
   "name": "python3"
  },
  "language_info": {
   "codemirror_mode": {
    "name": "ipython",
    "version": 3
   },
   "file_extension": ".py",
   "mimetype": "text/x-python",
   "name": "python",
   "nbconvert_exporter": "python",
   "pygments_lexer": "ipython3",
   "version": "3.10.5"
  }
 },
 "nbformat": 4,
 "nbformat_minor": 5
}
