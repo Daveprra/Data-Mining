{
 "cells": [
  {
   "cell_type": "code",
   "execution_count": 1,
   "id": "practical-ultimate",
   "metadata": {},
   "outputs": [],
   "source": [
    "%matplotlib inline\n",
    "\n",
    "import os\n",
    "\n",
    "import IPython.display as ipd\n",
    "import numpy as np\n",
    "import pandas as pd\n",
    "import matplotlib.pyplot as plt\n",
    "import seaborn as sns\n",
    "import sklearn as skl\n",
    "import sklearn.utils, sklearn.preprocessing, sklearn.decomposition, sklearn.svm\n",
    "import librosa\n",
    "import librosa.display\n",
    "import utils"
   ]
  },
  {
   "cell_type": "code",
   "execution_count": 2,
   "id": "stuck-privilege",
   "metadata": {},
   "outputs": [],
   "source": [
    "tracks= utils.load(\"/Users/david/Desktop/DM2 project/fma_metadata/tracks.csv\")\n",
    "tracks_cut=['album','artist']\n",
    "tracks.drop(tracks_cut,axis=1,inplace=True)\n",
    "tracks=tracks.droplevel(0,axis=1)\n",
    "tracks.drop(index=tracks[tracks.subset=='large'].index, inplace=True)\n",
    "tracks_cut=['composer','comments', 'date_created','date_recorded',\n",
    "            'license','number','title','language_code',\n",
    "            'publisher', 'tags','information','lyricist','genres','genres_all',\n",
    "            'favorites','listens','interest','bit_rate', 'duration','split','subset']\n",
    "tracks.drop(tracks_cut,axis=1,inplace=True)"
   ]
  },
  {
   "cell_type": "raw",
   "id": "basic-underground",
   "metadata": {},
   "source": [
    "features= utils.load(\"/Users/david/Desktop/DM2 project/fma_metadata/features.csv\")\n",
    "feat=features[['spectral_rolloff']]\n",
    "feat=feat.droplevel(0,axis=1)\n",
    "feat.columns=['roll_kurtosis','roll_max','roll_mean','roll_median','roll_min','roll_skew','roll_std']\n",
    "cut=['roll_kurtosis','roll_max','roll_std','roll_median','roll_min','roll_skew']\n",
    "feat.drop(cut,axis=1,inplace=True)"
   ]
  },
  {
   "cell_type": "code",
   "execution_count": 3,
   "id": "medium-helena",
   "metadata": {},
   "outputs": [
    {
     "data": {
      "text/plain": [
       "(1095, 1208)"
      ]
     },
     "execution_count": 3,
     "metadata": {},
     "output_type": "execute_result"
    }
   ],
   "source": [
    "#estrazioni da librosa_mp3 di 28 secondi con 22059 sr tramite spectral centroid\n",
    "ts=pd.read_csv(\"/Users/david/Desktop/DM2 project/fma_metadata/ts_centroid.csv\")\n",
    "ts.shape"
   ]
  },
  {
   "cell_type": "code",
   "execution_count": 4,
   "id": "modified-physiology",
   "metadata": {},
   "outputs": [
    {
     "data": {
      "text/html": [
       "<div>\n",
       "<style scoped>\n",
       "    .dataframe tbody tr th:only-of-type {\n",
       "        vertical-align: middle;\n",
       "    }\n",
       "\n",
       "    .dataframe tbody tr th {\n",
       "        vertical-align: top;\n",
       "    }\n",
       "\n",
       "    .dataframe thead th {\n",
       "        text-align: right;\n",
       "    }\n",
       "</style>\n",
       "<table border=\"1\" class=\"dataframe\">\n",
       "  <thead>\n",
       "    <tr style=\"text-align: right;\">\n",
       "      <th></th>\n",
       "      <th>track_id</th>\n",
       "      <th>0</th>\n",
       "      <th>1</th>\n",
       "      <th>2</th>\n",
       "      <th>3</th>\n",
       "      <th>4</th>\n",
       "      <th>5</th>\n",
       "      <th>6</th>\n",
       "      <th>7</th>\n",
       "      <th>8</th>\n",
       "      <th>...</th>\n",
       "      <th>1196</th>\n",
       "      <th>1197</th>\n",
       "      <th>1198</th>\n",
       "      <th>1199</th>\n",
       "      <th>1200</th>\n",
       "      <th>1201</th>\n",
       "      <th>1202</th>\n",
       "      <th>1203</th>\n",
       "      <th>1204</th>\n",
       "      <th>1205</th>\n",
       "    </tr>\n",
       "  </thead>\n",
       "  <tbody>\n",
       "    <tr>\n",
       "      <th>0</th>\n",
       "      <td>148</td>\n",
       "      <td>0.179404</td>\n",
       "      <td>0.185908</td>\n",
       "      <td>0.194919</td>\n",
       "      <td>0.267505</td>\n",
       "      <td>0.280505</td>\n",
       "      <td>0.294268</td>\n",
       "      <td>0.281828</td>\n",
       "      <td>0.333020</td>\n",
       "      <td>0.374387</td>\n",
       "      <td>...</td>\n",
       "      <td>0.495307</td>\n",
       "      <td>0.470147</td>\n",
       "      <td>0.483129</td>\n",
       "      <td>0.491965</td>\n",
       "      <td>0.472263</td>\n",
       "      <td>0.491776</td>\n",
       "      <td>0.480190</td>\n",
       "      <td>0.503967</td>\n",
       "      <td>0.500774</td>\n",
       "      <td>0.497112</td>\n",
       "    </tr>\n",
       "    <tr>\n",
       "      <th>1</th>\n",
       "      <td>237</td>\n",
       "      <td>0.133888</td>\n",
       "      <td>0.225544</td>\n",
       "      <td>0.300802</td>\n",
       "      <td>0.311688</td>\n",
       "      <td>0.307265</td>\n",
       "      <td>0.304860</td>\n",
       "      <td>0.348167</td>\n",
       "      <td>0.461615</td>\n",
       "      <td>0.517444</td>\n",
       "      <td>...</td>\n",
       "      <td>0.825822</td>\n",
       "      <td>0.760108</td>\n",
       "      <td>0.607031</td>\n",
       "      <td>0.623963</td>\n",
       "      <td>0.766678</td>\n",
       "      <td>0.854057</td>\n",
       "      <td>0.875452</td>\n",
       "      <td>0.837235</td>\n",
       "      <td>0.813575</td>\n",
       "      <td>0.786520</td>\n",
       "    </tr>\n",
       "    <tr>\n",
       "      <th>2</th>\n",
       "      <td>458</td>\n",
       "      <td>0.659132</td>\n",
       "      <td>0.535371</td>\n",
       "      <td>0.397943</td>\n",
       "      <td>0.308906</td>\n",
       "      <td>0.325826</td>\n",
       "      <td>0.314305</td>\n",
       "      <td>0.285952</td>\n",
       "      <td>0.262106</td>\n",
       "      <td>0.204989</td>\n",
       "      <td>...</td>\n",
       "      <td>0.318043</td>\n",
       "      <td>0.305574</td>\n",
       "      <td>0.297776</td>\n",
       "      <td>0.258070</td>\n",
       "      <td>0.145286</td>\n",
       "      <td>0.189159</td>\n",
       "      <td>0.266729</td>\n",
       "      <td>0.269988</td>\n",
       "      <td>0.276952</td>\n",
       "      <td>0.370088</td>\n",
       "    </tr>\n",
       "    <tr>\n",
       "      <th>3</th>\n",
       "      <td>459</td>\n",
       "      <td>0.000000</td>\n",
       "      <td>0.154945</td>\n",
       "      <td>0.238087</td>\n",
       "      <td>0.228944</td>\n",
       "      <td>0.177237</td>\n",
       "      <td>0.175010</td>\n",
       "      <td>0.216251</td>\n",
       "      <td>0.192408</td>\n",
       "      <td>0.384064</td>\n",
       "      <td>...</td>\n",
       "      <td>0.500272</td>\n",
       "      <td>0.360106</td>\n",
       "      <td>0.318147</td>\n",
       "      <td>0.590711</td>\n",
       "      <td>0.738984</td>\n",
       "      <td>0.647391</td>\n",
       "      <td>0.526201</td>\n",
       "      <td>0.367045</td>\n",
       "      <td>0.237850</td>\n",
       "      <td>0.296326</td>\n",
       "    </tr>\n",
       "    <tr>\n",
       "      <th>4</th>\n",
       "      <td>550</td>\n",
       "      <td>0.042518</td>\n",
       "      <td>0.030067</td>\n",
       "      <td>0.007602</td>\n",
       "      <td>0.008407</td>\n",
       "      <td>0.025658</td>\n",
       "      <td>0.058638</td>\n",
       "      <td>0.063999</td>\n",
       "      <td>0.065895</td>\n",
       "      <td>0.069185</td>\n",
       "      <td>...</td>\n",
       "      <td>0.344651</td>\n",
       "      <td>0.331682</td>\n",
       "      <td>0.304599</td>\n",
       "      <td>0.221120</td>\n",
       "      <td>0.127218</td>\n",
       "      <td>0.076240</td>\n",
       "      <td>0.035515</td>\n",
       "      <td>0.024802</td>\n",
       "      <td>0.028929</td>\n",
       "      <td>0.013140</td>\n",
       "    </tr>\n",
       "    <tr>\n",
       "      <th>5</th>\n",
       "      <td>590</td>\n",
       "      <td>0.235632</td>\n",
       "      <td>0.239715</td>\n",
       "      <td>0.253036</td>\n",
       "      <td>0.271426</td>\n",
       "      <td>0.281450</td>\n",
       "      <td>0.248144</td>\n",
       "      <td>0.222798</td>\n",
       "      <td>0.226749</td>\n",
       "      <td>0.242987</td>\n",
       "      <td>...</td>\n",
       "      <td>0.640655</td>\n",
       "      <td>0.561028</td>\n",
       "      <td>0.405538</td>\n",
       "      <td>0.360520</td>\n",
       "      <td>0.342660</td>\n",
       "      <td>0.368275</td>\n",
       "      <td>0.359344</td>\n",
       "      <td>0.311467</td>\n",
       "      <td>0.241755</td>\n",
       "      <td>0.201532</td>\n",
       "    </tr>\n",
       "    <tr>\n",
       "      <th>6</th>\n",
       "      <td>591</td>\n",
       "      <td>0.086201</td>\n",
       "      <td>0.106633</td>\n",
       "      <td>0.125718</td>\n",
       "      <td>0.129495</td>\n",
       "      <td>0.124091</td>\n",
       "      <td>0.139920</td>\n",
       "      <td>0.159165</td>\n",
       "      <td>0.176830</td>\n",
       "      <td>0.173445</td>\n",
       "      <td>...</td>\n",
       "      <td>0.737113</td>\n",
       "      <td>0.751728</td>\n",
       "      <td>0.948234</td>\n",
       "      <td>0.980785</td>\n",
       "      <td>0.868362</td>\n",
       "      <td>0.879206</td>\n",
       "      <td>0.965769</td>\n",
       "      <td>0.829034</td>\n",
       "      <td>0.699371</td>\n",
       "      <td>0.635238</td>\n",
       "    </tr>\n",
       "    <tr>\n",
       "      <th>7</th>\n",
       "      <td>592</td>\n",
       "      <td>0.324176</td>\n",
       "      <td>0.374956</td>\n",
       "      <td>0.421410</td>\n",
       "      <td>0.389676</td>\n",
       "      <td>0.383294</td>\n",
       "      <td>0.414023</td>\n",
       "      <td>0.300995</td>\n",
       "      <td>0.150889</td>\n",
       "      <td>0.091954</td>\n",
       "      <td>...</td>\n",
       "      <td>0.093711</td>\n",
       "      <td>0.078100</td>\n",
       "      <td>0.109109</td>\n",
       "      <td>0.224242</td>\n",
       "      <td>0.263943</td>\n",
       "      <td>0.259290</td>\n",
       "      <td>0.228735</td>\n",
       "      <td>0.194671</td>\n",
       "      <td>0.172138</td>\n",
       "      <td>0.166713</td>\n",
       "    </tr>\n",
       "    <tr>\n",
       "      <th>8</th>\n",
       "      <td>593</td>\n",
       "      <td>0.179121</td>\n",
       "      <td>0.207365</td>\n",
       "      <td>0.227628</td>\n",
       "      <td>0.216186</td>\n",
       "      <td>0.186098</td>\n",
       "      <td>0.194927</td>\n",
       "      <td>0.193649</td>\n",
       "      <td>0.158707</td>\n",
       "      <td>0.175215</td>\n",
       "      <td>...</td>\n",
       "      <td>0.119348</td>\n",
       "      <td>0.113784</td>\n",
       "      <td>0.099077</td>\n",
       "      <td>0.088760</td>\n",
       "      <td>0.132382</td>\n",
       "      <td>0.269903</td>\n",
       "      <td>0.193016</td>\n",
       "      <td>0.142461</td>\n",
       "      <td>0.108745</td>\n",
       "      <td>0.077525</td>\n",
       "    </tr>\n",
       "    <tr>\n",
       "      <th>9</th>\n",
       "      <td>696</td>\n",
       "      <td>0.723431</td>\n",
       "      <td>0.718759</td>\n",
       "      <td>0.739321</td>\n",
       "      <td>0.725301</td>\n",
       "      <td>0.558178</td>\n",
       "      <td>0.574291</td>\n",
       "      <td>0.726782</td>\n",
       "      <td>0.822803</td>\n",
       "      <td>0.885948</td>\n",
       "      <td>...</td>\n",
       "      <td>0.182959</td>\n",
       "      <td>0.097157</td>\n",
       "      <td>0.051507</td>\n",
       "      <td>0.099811</td>\n",
       "      <td>0.173974</td>\n",
       "      <td>0.172710</td>\n",
       "      <td>0.221416</td>\n",
       "      <td>0.288465</td>\n",
       "      <td>0.324671</td>\n",
       "      <td>0.262514</td>\n",
       "    </tr>\n",
       "  </tbody>\n",
       "</table>\n",
       "<p>10 rows × 1207 columns</p>\n",
       "</div>"
      ],
      "text/plain": [
       "   track_id         0         1         2         3         4         5  \\\n",
       "0       148  0.179404  0.185908  0.194919  0.267505  0.280505  0.294268   \n",
       "1       237  0.133888  0.225544  0.300802  0.311688  0.307265  0.304860   \n",
       "2       458  0.659132  0.535371  0.397943  0.308906  0.325826  0.314305   \n",
       "3       459  0.000000  0.154945  0.238087  0.228944  0.177237  0.175010   \n",
       "4       550  0.042518  0.030067  0.007602  0.008407  0.025658  0.058638   \n",
       "5       590  0.235632  0.239715  0.253036  0.271426  0.281450  0.248144   \n",
       "6       591  0.086201  0.106633  0.125718  0.129495  0.124091  0.139920   \n",
       "7       592  0.324176  0.374956  0.421410  0.389676  0.383294  0.414023   \n",
       "8       593  0.179121  0.207365  0.227628  0.216186  0.186098  0.194927   \n",
       "9       696  0.723431  0.718759  0.739321  0.725301  0.558178  0.574291   \n",
       "\n",
       "          6         7         8  ...      1196      1197      1198      1199  \\\n",
       "0  0.281828  0.333020  0.374387  ...  0.495307  0.470147  0.483129  0.491965   \n",
       "1  0.348167  0.461615  0.517444  ...  0.825822  0.760108  0.607031  0.623963   \n",
       "2  0.285952  0.262106  0.204989  ...  0.318043  0.305574  0.297776  0.258070   \n",
       "3  0.216251  0.192408  0.384064  ...  0.500272  0.360106  0.318147  0.590711   \n",
       "4  0.063999  0.065895  0.069185  ...  0.344651  0.331682  0.304599  0.221120   \n",
       "5  0.222798  0.226749  0.242987  ...  0.640655  0.561028  0.405538  0.360520   \n",
       "6  0.159165  0.176830  0.173445  ...  0.737113  0.751728  0.948234  0.980785   \n",
       "7  0.300995  0.150889  0.091954  ...  0.093711  0.078100  0.109109  0.224242   \n",
       "8  0.193649  0.158707  0.175215  ...  0.119348  0.113784  0.099077  0.088760   \n",
       "9  0.726782  0.822803  0.885948  ...  0.182959  0.097157  0.051507  0.099811   \n",
       "\n",
       "       1200      1201      1202      1203      1204      1205  \n",
       "0  0.472263  0.491776  0.480190  0.503967  0.500774  0.497112  \n",
       "1  0.766678  0.854057  0.875452  0.837235  0.813575  0.786520  \n",
       "2  0.145286  0.189159  0.266729  0.269988  0.276952  0.370088  \n",
       "3  0.738984  0.647391  0.526201  0.367045  0.237850  0.296326  \n",
       "4  0.127218  0.076240  0.035515  0.024802  0.028929  0.013140  \n",
       "5  0.342660  0.368275  0.359344  0.311467  0.241755  0.201532  \n",
       "6  0.868362  0.879206  0.965769  0.829034  0.699371  0.635238  \n",
       "7  0.263943  0.259290  0.228735  0.194671  0.172138  0.166713  \n",
       "8  0.132382  0.269903  0.193016  0.142461  0.108745  0.077525  \n",
       "9  0.173974  0.172710  0.221416  0.288465  0.324671  0.262514  \n",
       "\n",
       "[10 rows x 1207 columns]"
      ]
     },
     "execution_count": 4,
     "metadata": {},
     "output_type": "execute_result"
    }
   ],
   "source": [
    "ts.head(10)"
   ]
  },
  {
   "cell_type": "markdown",
   "id": "environmental-musical",
   "metadata": {},
   "source": [
    "# Drop all genres from Time  Series"
   ]
  },
  {
   "cell_type": "code",
   "execution_count": 4,
   "id": "about-detector",
   "metadata": {},
   "outputs": [],
   "source": [
    "index=tracks[tracks['genre_top']=='Blues'].index\n",
    "for i in index:\n",
    "    ts.drop(ts.loc[ts.track_id == i].index, inplace=True)"
   ]
  },
  {
   "cell_type": "code",
   "execution_count": 5,
   "id": "congressional-granny",
   "metadata": {},
   "outputs": [],
   "source": [
    "index=tracks[tracks['genre_top']=='Experimental'].index\n",
    "for i in index:\n",
    "    ts.drop(ts.loc[ts.track_id == i].index, inplace=True)"
   ]
  },
  {
   "cell_type": "code",
   "execution_count": 6,
   "id": "brazilian-swimming",
   "metadata": {},
   "outputs": [],
   "source": [
    "index=tracks[tracks['genre_top']=='Soul-RnB'].index\n",
    "for i in index:\n",
    "    ts.drop(ts.loc[ts.track_id == i].index, inplace=True)"
   ]
  },
  {
   "cell_type": "code",
   "execution_count": 7,
   "id": "understanding-professor",
   "metadata": {},
   "outputs": [],
   "source": [
    "index=tracks[tracks['genre_top']=='Instrumental'].index\n",
    "for i in index:\n",
    "    ts.drop(ts.loc[ts.track_id == i].index, inplace=True)"
   ]
  },
  {
   "cell_type": "code",
   "execution_count": 8,
   "id": "manual-senegal",
   "metadata": {},
   "outputs": [],
   "source": [
    "index=tracks[tracks['genre_top']=='Jazz'].index\n",
    "for i in index:\n",
    "    ts.drop(ts.loc[ts.track_id == i].index, inplace=True)"
   ]
  },
  {
   "cell_type": "code",
   "execution_count": 9,
   "id": "demographic-murder",
   "metadata": {},
   "outputs": [],
   "source": [
    "index=tracks[tracks['genre_top']=='International'].index\n",
    "for i in index:\n",
    "    ts.drop(ts.loc[ts.track_id == i].index, inplace=True)"
   ]
  },
  {
   "cell_type": "code",
   "execution_count": 10,
   "id": "digital-boulder",
   "metadata": {},
   "outputs": [],
   "source": [
    "index=tracks[tracks['genre_top']=='Electronic'].index\n",
    "for i in index:\n",
    "    ts.drop(ts.loc[ts.track_id == i].index, inplace=True)"
   ]
  },
  {
   "cell_type": "code",
   "execution_count": 11,
   "id": "tested-measure",
   "metadata": {},
   "outputs": [],
   "source": [
    "index=tracks[tracks['genre_top']=='Country'].index\n",
    "for i in index:\n",
    "    ts.drop(ts.loc[ts.track_id == i].index, inplace=True)"
   ]
  },
  {
   "cell_type": "code",
   "execution_count": 12,
   "id": "controversial-president",
   "metadata": {},
   "outputs": [],
   "source": [
    "index=tracks[tracks['genre_top']=='Easy Listening'].index\n",
    "for i in index:\n",
    "    ts.drop(ts.loc[ts.track_id == i].index, inplace=True)"
   ]
  },
  {
   "cell_type": "code",
   "execution_count": 13,
   "id": "painful-element",
   "metadata": {},
   "outputs": [],
   "source": [
    "index=tracks[tracks['genre_top']=='Hip-Hop'].index\n",
    "for i in index:\n",
    "    ts.drop(ts.loc[ts.track_id == i].index, inplace=True)"
   ]
  },
  {
   "cell_type": "code",
   "execution_count": 14,
   "id": "opening-delivery",
   "metadata": {},
   "outputs": [],
   "source": [
    "index=tracks[tracks['genre_top']=='Pop'].index\n",
    "for i in index:\n",
    "    ts.drop(ts.loc[ts.track_id == i].index, inplace=True)"
   ]
  },
  {
   "cell_type": "code",
   "execution_count": 15,
   "id": "patient-philippines",
   "metadata": {},
   "outputs": [],
   "source": [
    "index=tracks[tracks['genre_top']=='Spoken'].index\n",
    "for i in index:\n",
    "    ts.drop(ts.loc[ts.track_id == i].index, inplace=True)"
   ]
  },
  {
   "cell_type": "code",
   "execution_count": 16,
   "id": "published-depression",
   "metadata": {},
   "outputs": [],
   "source": [
    "index=tracks[tracks['genre_top']=='Folk'].index\n",
    "for i in index:\n",
    "    ts.drop(ts.loc[ts.track_id == i].index, inplace=True)"
   ]
  },
  {
   "cell_type": "code",
   "execution_count": 17,
   "id": "solved-radical",
   "metadata": {},
   "outputs": [],
   "source": [
    "index=tracks[tracks['genre_top']=='Rock'].index\n",
    "for i in index:\n",
    "    ts.drop(ts.loc[ts.track_id == i].index, inplace=True)"
   ]
  },
  {
   "cell_type": "code",
   "execution_count": 5,
   "id": "entire-simon",
   "metadata": {},
   "outputs": [
    {
     "data": {
      "text/plain": [
       "(1028, 1208)"
      ]
     },
     "execution_count": 5,
     "metadata": {},
     "output_type": "execute_result"
    }
   ],
   "source": [
    "ts.shape"
   ]
  },
  {
   "cell_type": "code",
   "execution_count": 6,
   "id": "ordinary-isaac",
   "metadata": {},
   "outputs": [],
   "source": [
    "#save dataset - spectral rolloff time series\n",
    "with open('ts_centroid.csv', mode='w') as dataset:\n",
    "    dataset.write(ts.to_csv())"
   ]
  },
  {
   "cell_type": "markdown",
   "id": "unlikely-distinction",
   "metadata": {},
   "source": [
    "# Dropp all genres from tracks"
   ]
  },
  {
   "cell_type": "code",
   "execution_count": 3,
   "id": "spare-triple",
   "metadata": {},
   "outputs": [],
   "source": [
    "index=tracks[tracks['genre_top']=='Experimental'].index\n",
    "for i in index:\n",
    "    tracks.drop(i, inplace=True)"
   ]
  },
  {
   "cell_type": "code",
   "execution_count": 4,
   "id": "noticed-audience",
   "metadata": {},
   "outputs": [],
   "source": [
    "index=tracks[tracks['genre_top']=='Soul-RnB'].index\n",
    "for i in index:\n",
    "    tracks.drop(i, inplace=True)"
   ]
  },
  {
   "cell_type": "code",
   "execution_count": 5,
   "id": "packed-folks",
   "metadata": {},
   "outputs": [],
   "source": [
    "index=tracks[tracks['genre_top']=='Instrumental'].index\n",
    "for i in index:\n",
    "    tracks.drop(i, inplace=True)"
   ]
  },
  {
   "cell_type": "code",
   "execution_count": 6,
   "id": "paperback-reasoning",
   "metadata": {},
   "outputs": [],
   "source": [
    "index=tracks[tracks['genre_top']=='Jazz'].index\n",
    "for i in index:\n",
    "    tracks.drop(i, inplace=True)"
   ]
  },
  {
   "cell_type": "code",
   "execution_count": 7,
   "id": "empty-viking",
   "metadata": {},
   "outputs": [],
   "source": [
    "index=tracks[tracks['genre_top']=='International'].index\n",
    "for i in index:\n",
    "    tracks.drop(i, inplace=True)"
   ]
  },
  {
   "cell_type": "code",
   "execution_count": 8,
   "id": "healthy-scottish",
   "metadata": {},
   "outputs": [],
   "source": [
    "index=tracks[tracks['genre_top']=='Electronic'].index\n",
    "for i in index:\n",
    "    tracks.drop(i, inplace=True)"
   ]
  },
  {
   "cell_type": "code",
   "execution_count": 9,
   "id": "killing-boxing",
   "metadata": {},
   "outputs": [],
   "source": [
    "index=tracks[tracks['genre_top']=='Country'].index\n",
    "for i in index:\n",
    "    tracks.drop(i, inplace=True)"
   ]
  },
  {
   "cell_type": "code",
   "execution_count": 10,
   "id": "northern-appreciation",
   "metadata": {},
   "outputs": [],
   "source": [
    "index=tracks[tracks['genre_top']=='Easy Listening'].index\n",
    "for i in index:\n",
    "    tracks.drop(i, inplace=True)"
   ]
  },
  {
   "cell_type": "code",
   "execution_count": 11,
   "id": "effective-circus",
   "metadata": {},
   "outputs": [],
   "source": [
    "index=tracks[tracks['genre_top']=='Hip-Hop'].index\n",
    "for i in index:\n",
    "    tracks.drop(i, inplace=True)"
   ]
  },
  {
   "cell_type": "code",
   "execution_count": 12,
   "id": "surgical-magazine",
   "metadata": {},
   "outputs": [],
   "source": [
    "index=tracks[tracks['genre_top']=='Pop'].index\n",
    "for i in index:\n",
    "    tracks.drop(i, inplace=True)"
   ]
  },
  {
   "cell_type": "code",
   "execution_count": 13,
   "id": "normal-termination",
   "metadata": {},
   "outputs": [],
   "source": [
    "index=tracks[tracks['genre_top']=='Spoken'].index\n",
    "for i in index:\n",
    "    tracks.drop(i, inplace=True)"
   ]
  },
  {
   "cell_type": "code",
   "execution_count": 14,
   "id": "excess-handling",
   "metadata": {},
   "outputs": [],
   "source": [
    "index=tracks[tracks['genre_top']=='Folk'].index\n",
    "for i in index:\n",
    "    tracks.drop(i, inplace=True)"
   ]
  },
  {
   "cell_type": "code",
   "execution_count": 15,
   "id": "elect-subscriber",
   "metadata": {},
   "outputs": [],
   "source": [
    "index=tracks[tracks['genre_top']=='Rock'].index\n",
    "for i in index:\n",
    "    tracks.drop(i, inplace=True)"
   ]
  },
  {
   "cell_type": "code",
   "execution_count": 20,
   "id": "amber-distributor",
   "metadata": {},
   "outputs": [],
   "source": [
    "index=tracks[tracks['genre_top']=='Blues'].index\n",
    "for i in index:\n",
    "    tracks.drop(i, inplace=True)"
   ]
  },
  {
   "cell_type": "code",
   "execution_count": 21,
   "id": "seventh-testament",
   "metadata": {},
   "outputs": [
    {
     "data": {
      "text/plain": [
       "(1129, 1)"
      ]
     },
     "execution_count": 21,
     "metadata": {},
     "output_type": "execute_result"
    }
   ],
   "source": [
    "tracks.shape"
   ]
  },
  {
   "cell_type": "code",
   "execution_count": 22,
   "id": "settled-telescope",
   "metadata": {},
   "outputs": [
    {
     "data": {
      "text/plain": [
       "Classical              619\n",
       "Old-Time / Historic    510\n",
       "Blues                    0\n",
       "Country                  0\n",
       "Easy Listening           0\n",
       "Electronic               0\n",
       "Experimental             0\n",
       "Folk                     0\n",
       "Hip-Hop                  0\n",
       "Instrumental             0\n",
       "International            0\n",
       "Jazz                     0\n",
       "Pop                      0\n",
       "Rock                     0\n",
       "Soul-RnB                 0\n",
       "Spoken                   0\n",
       "Name: genre_top, dtype: int64"
      ]
     },
     "execution_count": 22,
     "metadata": {},
     "output_type": "execute_result"
    }
   ],
   "source": [
    "tracks['genre_top'].value_counts()"
   ]
  },
  {
   "cell_type": "code",
   "execution_count": 24,
   "id": "practical-gibraltar",
   "metadata": {},
   "outputs": [],
   "source": [
    "#save dataset - spectral rolloff time series\n",
    "with open('track_new.csv', mode='w') as dataset:\n",
    "    dataset.write(tracks.to_csv())"
   ]
  },
  {
   "cell_type": "code",
   "execution_count": null,
   "id": "exposed-equality",
   "metadata": {},
   "outputs": [],
   "source": []
  }
 ],
 "metadata": {
  "kernelspec": {
   "display_name": "Python 3 (ipykernel)",
   "language": "python",
   "name": "python3"
  },
  "language_info": {
   "codemirror_mode": {
    "name": "ipython",
    "version": 3
   },
   "file_extension": ".py",
   "mimetype": "text/x-python",
   "name": "python",
   "nbconvert_exporter": "python",
   "pygments_lexer": "ipython3",
   "version": "3.10.5"
  }
 },
 "nbformat": 4,
 "nbformat_minor": 5
}
