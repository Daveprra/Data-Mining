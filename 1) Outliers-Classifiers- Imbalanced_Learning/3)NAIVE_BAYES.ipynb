{
 "cells": [
  {
   "cell_type": "code",
   "execution_count": 1,
   "id": "czech-involvement",
   "metadata": {},
   "outputs": [],
   "source": [
    "%matplotlib inline\n",
    "import utils\n",
    "import os\n",
    "import IPython.display as ipd\n",
    "import numpy as np\n",
    "import pandas as pd\n",
    "import matplotlib.pyplot as plt\n",
    "import seaborn as sns\n",
    "import sklearn as skl\n",
    "import sklearn.utils, sklearn.preprocessing, sklearn.decomposition, sklearn.svm\n",
    "from sklearn import preprocessing\n",
    "from sklearn.preprocessing import label_binarize\n",
    "import librosa\n",
    "import librosa.display\n",
    "import missingno as msno \n",
    "%matplotlib inline\n",
    "import seaborn as sns\n",
    "from sklearn.utils import shuffle\n",
    "from sklearn.preprocessing import MultiLabelBinarizer\n",
    "from sklearn.decomposition import PCA\n",
    "from sklearn.preprocessing import LabelEncoder, LabelBinarizer, StandardScaler, RobustScaler\n",
    "# importing warning in order to ignore them\n",
    "import warnings \n",
    "warnings.filterwarnings('always')   #suppresses all warnings\n",
    "warnings.filterwarnings('ignore')"
   ]
  },
  {
   "cell_type": "code",
   "execution_count": 2,
   "id": "blank-oasis",
   "metadata": {},
   "outputs": [
    {
     "ename": "SyntaxError",
     "evalue": "invalid syntax (<ipython-input-2-755eeadff360>, line 4)",
     "output_type": "error",
     "traceback": [
      "\u001b[1;36m  File \u001b[1;32m\"<ipython-input-2-755eeadff360>\"\u001b[1;36m, line \u001b[1;32m4\u001b[0m\n\u001b[1;33m    tracks= utils.load(''/Users/david/Desktop/DM2 project/fma_metadata/tracks.csv')\u001b[0m\n\u001b[1;37m                                                  ^\u001b[0m\n\u001b[1;31mSyntaxError\u001b[0m\u001b[1;31m:\u001b[0m invalid syntax\n"
     ]
    }
   ],
   "source": [
    "# Directory where mp3 are stored.\n",
    "AUDIO_DIR = os.environ.get('AUDIO_DIR')\n",
    "\n",
    "tracks= utils.load(''/Users/david/Desktop/DM2 project/fma_metadata/tracks.csv')\n",
    "genres= utils.load('/Users/david/Desktop/DM2 project/fma_metadata/genres.csv')\n",
    "features= utils.load('/Users/david/Desktop/DM2 project/fma_metadata/features.csv')\n",
    "echonest= utils.load('/Users/david/Desktop/DM2 project/fma_metadata/echonest.csv')\n",
    "\n",
    "np.testing.assert_array_equal(features.index, tracks.index)\n",
    "assert echonest.index.isin(tracks.index).all()\n",
    "\n",
    "tracks.shape, genres.shape, features.shape, echonest.shape"
   ]
  },
  {
   "cell_type": "code",
   "execution_count": null,
   "id": "configured-ambassador",
   "metadata": {},
   "outputs": [],
   "source": [
    "tracks_cut=['album','artist']\n",
    "tracks.drop(tracks_cut,axis=1,inplace=True)\n",
    "tracks.shape"
   ]
  },
  {
   "cell_type": "code",
   "execution_count": null,
   "id": "accurate-inspiration",
   "metadata": {},
   "outputs": [],
   "source": [
    "tracks=tracks.droplevel(0,axis=1)"
   ]
  },
  {
   "cell_type": "code",
   "execution_count": null,
   "id": "colonial-nicaragua",
   "metadata": {},
   "outputs": [],
   "source": [
    "tracks_cut=['composer','comments', 'date_created','date_recorded',\n",
    "            'license','number','title','language_code',\n",
    "            'publisher', 'tags','information','lyricist','genres','genres_all',\n",
    "            'favorites','listens','interest','bit_rate', 'duration']\n",
    "tracks.drop(tracks_cut,axis=1,inplace=True)"
   ]
  },
  {
   "cell_type": "code",
   "execution_count": null,
   "id": "accompanied-paris",
   "metadata": {},
   "outputs": [],
   "source": [
    "df_target=features[['spectral_rolloff','spectral_centroid']]"
   ]
  },
  {
   "cell_type": "code",
   "execution_count": null,
   "id": "humanitarian-institution",
   "metadata": {},
   "outputs": [],
   "source": [
    "df_target=df_target.droplevel(0,axis=1)"
   ]
  },
  {
   "cell_type": "code",
   "execution_count": null,
   "id": "sitting-consent",
   "metadata": {},
   "outputs": [],
   "source": [
    "df_target.columns=['roll_kurtosis','roll_max','roll_mean','roll_median','roll_min','roll_skew','roll_std',\n",
    "                   'centr_kurtosis','centr_max','centr_mean','centr_median','centr_min','centr_skew','centr_std']\n",
    "                   \n",
    "                   #'bandw_kurtosis','bandw_max','bandw_mean','bandw_median','bandw_min','bandw_skew','bandw_std']\n",
    "df_target.head()"
   ]
  },
  {
   "cell_type": "code",
   "execution_count": null,
   "id": "renewable-surgery",
   "metadata": {},
   "outputs": [],
   "source": [
    "df=pd.merge(tracks,df_target, on='track_id')"
   ]
  },
  {
   "cell_type": "code",
   "execution_count": null,
   "id": "hollow-ireland",
   "metadata": {},
   "outputs": [],
   "source": [
    "df.drop(index=df[df.subset=='large'].index, inplace=True)"
   ]
  },
  {
   "cell_type": "markdown",
   "id": "gorgeous-england",
   "metadata": {},
   "source": [
    "# Pre-processing"
   ]
  },
  {
   "cell_type": "code",
   "execution_count": null,
   "id": "affecting-apache",
   "metadata": {},
   "outputs": [],
   "source": [
    "train = df.index[df['split'] == 'training']\n",
    "val = df.index[df['split'] == 'validation']\n",
    "test = df.index[df['split'] == 'test']"
   ]
  },
  {
   "cell_type": "code",
   "execution_count": null,
   "id": "incoming-firewall",
   "metadata": {},
   "outputs": [],
   "source": [
    "#copy dataframe\n",
    "df_enc=df.copy()"
   ]
  },
  {
   "cell_type": "code",
   "execution_count": null,
   "id": "frozen-figure",
   "metadata": {},
   "outputs": [],
   "source": [
    "le=LabelEncoder()\n",
    "ple= preprocessing.LabelEncoder()\n",
    "df_enc['genre_top']=le.fit_transform(df_enc['genre_top'])"
   ]
  },
  {
   "cell_type": "code",
   "execution_count": null,
   "id": "built-entity",
   "metadata": {},
   "outputs": [],
   "source": [
    "df_enc['genre_top'].unique()"
   ]
  },
  {
   "cell_type": "code",
   "execution_count": null,
   "id": "humanitarian-device",
   "metadata": {},
   "outputs": [],
   "source": [
    "replace_values=[ 7, 12, 13,  6,  5, 10,  4,  9, 14,  0, 15,  2,  1,  8,  3]\n",
    "df_enc['genre_top']=df_enc['genre_top'].replace(replace_values,0)\n",
    "df_enc['genre_top']=df_enc['genre_top'].replace(11,1)"
   ]
  },
  {
   "cell_type": "code",
   "execution_count": null,
   "id": "alive-leather",
   "metadata": {},
   "outputs": [],
   "source": [
    "y_train = df_enc['genre_top'].loc[df_enc['split'] == 'training']\n",
    "y_val = df_enc['genre_top'].loc[df_enc['split'] == 'validation']\n",
    "y_test = df_enc['genre_top'].loc[df_enc['split'] == 'test']\n",
    "y_train.shape, y_val.shape, y_test.shape"
   ]
  },
  {
   "cell_type": "code",
   "execution_count": null,
   "id": "unavailable-confusion",
   "metadata": {},
   "outputs": [],
   "source": [
    "X=df_enc.drop('genre_top',axis=1)"
   ]
  },
  {
   "cell_type": "code",
   "execution_count": null,
   "id": "increasing-principal",
   "metadata": {},
   "outputs": [],
   "source": [
    "X_train = X.loc[X['split'] == 'training']\n",
    "X_val = X.loc[X['split'] == 'validation']\n",
    "X_test = X.loc[X['split'] == 'test']\n",
    "X_train.shape, X_val.shape, X_test.shape"
   ]
  },
  {
   "cell_type": "code",
   "execution_count": null,
   "id": "blind-chase",
   "metadata": {},
   "outputs": [],
   "source": [
    "X_train, y_train = shuffle(X_train, y_train, random_state=42)"
   ]
  },
  {
   "cell_type": "code",
   "execution_count": null,
   "id": "modular-olympus",
   "metadata": {},
   "outputs": [],
   "source": [
    "cut_columns=['split','subset',]#'genres_all'\n",
    "X_train.drop(cut_columns,axis=1,inplace=True)\n",
    "X_val.drop(cut_columns,axis=1,inplace=True)\n",
    "X_test.drop(cut_columns,axis=1,inplace=True)"
   ]
  },
  {
   "cell_type": "code",
   "execution_count": null,
   "id": "optical-angola",
   "metadata": {
    "scrolled": true
   },
   "outputs": [],
   "source": [
    "from sklearn.preprocessing import StandardScaler, RobustScaler, MinMaxScaler\n",
    "#normalize data with Robust scaler\n",
    "#scaler = RobustScaler()\n",
    "#scaler.fit_transform(X_train)\n",
    "#scaler.fit_transform(X_val)\n",
    "#scaler.fit_transform(X_test)"
   ]
  },
  {
   "cell_type": "code",
   "execution_count": null,
   "id": "random-article",
   "metadata": {},
   "outputs": [],
   "source": [
    "y_train.shape"
   ]
  },
  {
   "cell_type": "markdown",
   "id": "selected-mortality",
   "metadata": {},
   "source": [
    "# OUTLIER DETECTION"
   ]
  },
  {
   "cell_type": "code",
   "execution_count": null,
   "id": "funny-cartoon",
   "metadata": {},
   "outputs": [],
   "source": [
    "#task:rimuovere l'1% degli outliers:\n",
    "outlier_fraction = 0.1\n",
    "#andremo a cercare slamente l'1% degli outliers e li rimuoveremo o sostituiremo in seguito"
   ]
  },
  {
   "cell_type": "raw",
   "id": "massive-warren",
   "metadata": {},
   "source": [
    "ABOD"
   ]
  },
  {
   "cell_type": "code",
   "execution_count": null,
   "id": "theoretical-mills",
   "metadata": {},
   "outputs": [],
   "source": [
    "from pyod.models.abod import ABOD"
   ]
  },
  {
   "cell_type": "code",
   "execution_count": null,
   "id": "ranging-cameroon",
   "metadata": {},
   "outputs": [],
   "source": [
    "abod=ABOD(contamination=outlier_fraction)\n",
    "abod.fit(X_train)"
   ]
  },
  {
   "cell_type": "code",
   "execution_count": null,
   "id": "comparable-vintage",
   "metadata": {},
   "outputs": [],
   "source": [
    "abod_anomalies = abod.predict(X_train)\n",
    "np.unique(abod_anomalies, return_counts=True)"
   ]
  },
  {
   "cell_type": "code",
   "execution_count": null,
   "id": "third-forge",
   "metadata": {},
   "outputs": [],
   "source": [
    "# select all rows that are not outliers\n",
    "abod_inlier= abod_anomalies!=1\n",
    "abod_outliers= X_train[abod_anomalies==1]\n",
    "X_train.shape"
   ]
  },
  {
   "cell_type": "code",
   "execution_count": null,
   "id": "numerous-graphic",
   "metadata": {},
   "outputs": [],
   "source": [
    "# select all rows that are not outliers\n",
    "abod_inlier= abod_anomalies!=1\n",
    "abod_outlier= X_train[abod_anomalies==1]\n",
    "X_train1, y_train1 = X_train.iloc[abod_inlier, :], y_train.iloc[abod_inlier]\n",
    "# summarize the shape of the updated training dataset\n",
    "print(X_train1.shape, y_train1.shape)"
   ]
  },
  {
   "cell_type": "code",
   "execution_count": null,
   "id": "timely-hybrid",
   "metadata": {},
   "outputs": [],
   "source": [
    "y_train.shape"
   ]
  },
  {
   "cell_type": "raw",
   "id": "grave-penguin",
   "metadata": {},
   "source": [
    "Isolation Forest"
   ]
  },
  {
   "cell_type": "code",
   "execution_count": null,
   "id": "responsible-supply",
   "metadata": {},
   "outputs": [],
   "source": [
    "from sklearn.ensemble import IsolationForest"
   ]
  },
  {
   "cell_type": "code",
   "execution_count": null,
   "id": "spectacular-decrease",
   "metadata": {},
   "outputs": [],
   "source": [
    "iso = IsolationForest(max_samples=100,random_state=42, contamination=0.1) \n",
    "iso.fit(X_train)\n",
    "if_anomalies=iso.predict(X_train)"
   ]
  },
  {
   "cell_type": "code",
   "execution_count": null,
   "id": "photographic-opinion",
   "metadata": {},
   "outputs": [],
   "source": [
    "np.unique(if_anomalies,return_counts=True)"
   ]
  },
  {
   "cell_type": "code",
   "execution_count": null,
   "id": "separated-package",
   "metadata": {},
   "outputs": [],
   "source": [
    "# select all rows that are not outliers\n",
    "if_inlier=if_anomalies!=-1\n",
    "if_outlier=X_train[if_anomalies==-1]\n",
    "X_train4, y_train4 = X_train.iloc[if_inlier, :], y_train.iloc[if_inlier]\n",
    "# summarize the shape of the updated training dataset\n",
    "print(X_train4.shape, y_train4.shape)"
   ]
  },
  {
   "cell_type": "code",
   "execution_count": null,
   "id": "retained-robertson",
   "metadata": {},
   "outputs": [],
   "source": [
    "y_train.shape"
   ]
  },
  {
   "cell_type": "raw",
   "id": "fundamental-playlist",
   "metadata": {},
   "source": [
    "Comparison"
   ]
  },
  {
   "cell_type": "code",
   "execution_count": null,
   "id": "tender-neutral",
   "metadata": {},
   "outputs": [],
   "source": [
    "if_indexes=if_outlier.index.tolist()\n",
    "abod_indexes=abod_outlier.index.tolist()"
   ]
  },
  {
   "cell_type": "code",
   "execution_count": null,
   "id": "instrumental-spanish",
   "metadata": {},
   "outputs": [],
   "source": [
    "#comparison if with abod\n",
    "count_if_abod=0\n",
    "for i in set(if_indexes).intersection(set(abod_indexes)):\n",
    "    count_if_abod= count_if_abod+1\n",
    "print(count_if_abod) "
   ]
  },
  {
   "cell_type": "code",
   "execution_count": null,
   "id": "infrared-emergency",
   "metadata": {},
   "outputs": [],
   "source": [
    "X_train_clean=X_train.copy()\n",
    "y_train_clean=y_train.copy()"
   ]
  },
  {
   "cell_type": "code",
   "execution_count": null,
   "id": "steady-wonder",
   "metadata": {},
   "outputs": [],
   "source": [
    "for index in set(if_indexes).intersection(set(abod_indexes)):\n",
    "    X_train_clean.drop(index,inplace=True)\n",
    "    y_train_clean.drop(index, inplace=True)\n",
    "print('Dataset before outliers removed:',X_train.shape, y_train.shape)\n",
    "print('Dataset cleaned:', X_train_clean.shape, y_train_clean.shape)"
   ]
  },
  {
   "cell_type": "code",
   "execution_count": null,
   "id": "focused-packaging",
   "metadata": {},
   "outputs": [],
   "source": [
    "X_train=X_train_clean\n",
    "y_train=y_train_clean\n",
    "X_train.shape,y_train.shape"
   ]
  },
  {
   "cell_type": "code",
   "execution_count": null,
   "id": "large-lancaster",
   "metadata": {},
   "outputs": [],
   "source": [
    "from sklearn.metrics import accuracy_score, f1_score, classification_report, confusion_matrix\n",
    "from sklearn.metrics import roc_curve, auc, roc_auc_score\n",
    "from sklearn.model_selection import GridSearchCV\n",
    "from sklearn.metrics import plot_confusion_matrix\n",
    "from sklearn import metrics"
   ]
  },
  {
   "cell_type": "markdown",
   "id": "existing-rwanda",
   "metadata": {},
   "source": [
    "# Naive Bayes Classifier"
   ]
  },
  {
   "cell_type": "code",
   "execution_count": null,
   "id": "micro-tackle",
   "metadata": {},
   "outputs": [],
   "source": [
    "from sklearn.naive_bayes import GaussianNB, CategoricalNB\n",
    "from sklearn.metrics import accuracy_score, f1_score, classification_report\n",
    "from sklearn.metrics import roc_curve, auc, roc_auc_score\n",
    "from sklearn.model_selection import train_test_split, cross_val_score \n"
   ]
  },
  {
   "cell_type": "code",
   "execution_count": 42,
   "id": "alien-right",
   "metadata": {},
   "outputs": [
    {
     "data": {
      "text/plain": [
       "GaussianNB()"
      ]
     },
     "execution_count": 42,
     "metadata": {},
     "output_type": "execute_result"
    }
   ],
   "source": [
    "clf = GaussianNB()\n",
    "clf.fit(X_train, y_train)"
   ]
  },
  {
   "cell_type": "markdown",
   "id": "comic-chain",
   "metadata": {},
   "source": [
    "### Validation"
   ]
  },
  {
   "cell_type": "code",
   "execution_count": 56,
   "id": "hidden-disclosure",
   "metadata": {},
   "outputs": [],
   "source": [
    "y_val_pred = clf.predict(X_val)"
   ]
  },
  {
   "cell_type": "code",
   "execution_count": 57,
   "id": "potential-theorem",
   "metadata": {},
   "outputs": [
    {
     "name": "stdout",
     "output_type": "stream",
     "text": [
      "Accuracy 0.9337325349301397\n",
      "F1-score [0.96516995 0.31967213]\n",
      "              precision    recall  f1-score   support\n",
      "\n",
      "           0       0.99      0.94      0.97      2454\n",
      "           1       0.20      0.76      0.32        51\n",
      "\n",
      "    accuracy                           0.93      2505\n",
      "   macro avg       0.60      0.85      0.64      2505\n",
      "weighted avg       0.98      0.93      0.95      2505\n",
      "\n"
     ]
    }
   ],
   "source": [
    "print('Accuracy %s' % accuracy_score(y_val, y_val_pred))\n",
    "print('F1-score %s' % f1_score(y_val, y_val_pred, average=None))\n",
    "print(classification_report(y_val, y_val_pred))"
   ]
  },
  {
   "cell_type": "code",
   "execution_count": 58,
   "id": "million-cannon",
   "metadata": {},
   "outputs": [
    {
     "name": "stdout",
     "output_type": "stream",
     "text": [
      "0.8509755980631861\n"
     ]
    }
   ],
   "source": [
    "from sklearn.metrics import roc_curve, auc, roc_auc_score\n",
    "fpr,tpr,_=roc_curve(y_val,y_val_pred)\n",
    "roc_auc=auc(fpr,tpr)\n",
    "print(roc_auc)"
   ]
  },
  {
   "cell_type": "code",
   "execution_count": 59,
   "id": "convinced-latin",
   "metadata": {},
   "outputs": [
    {
     "name": "stdout",
     "output_type": "stream",
     "text": [
      "[[2300  154]\n",
      " [  12   39]]\n"
     ]
    },
    {
     "data": {
      "image/png": "[encoded data removed]",
      "text/plain": [
       "<Figure size 432x288 with 2 Axes>"
      ]
     },
     "metadata": {},
     "output_type": "display_data"
    }
   ],
   "source": [
    "from sklearn.metrics import plot_confusion_matrix\n",
    "sns.set_style('white')\n",
    "\n",
    "disp = plot_confusion_matrix(clf,X_val,y_val,\n",
    "                            cmap = plt.cm.Blues)\n",
    "disp.ax_.set_title('Confusion Matrix validation set')\n",
    "print(disp.confusion_matrix)\n",
    "plt.show()"
   ]
  },
  {
   "cell_type": "code",
   "execution_count": 60,
   "id": "worthy-allen",
   "metadata": {
    "scrolled": true
   },
   "outputs": [
    {
     "data": {
      "image/png": "[encoded data removed]",
      "text/plain": [
       "<Figure size 576x360 with 1 Axes>"
      ]
     },
     "metadata": {},
     "output_type": "display_data"
    }
   ],
   "source": [
    "plt.figure(figsize=(8,5))\n",
    "plt.plot(fpr,tpr,label='Roc curve (area=%0.2f)'%(roc_auc))\n",
    "\n",
    "plt.plot([0,1],[0,1], 'k--' )\n",
    "plt.xlim([0.0,1.0])\n",
    "plt.ylim([0.0,1.05])\n",
    "plt.xlabel('False Positive Rate',fontsize=20)\n",
    "plt.ylabel('True Positive Rate',fontsize=20)\n",
    "plt.tick_params(axis='both',which='major',labelsize=22)\n",
    "plt.legend(loc='lower right', fontsize=14, frameon=False)\n",
    "plt.show()"
   ]
  },
  {
   "cell_type": "markdown",
   "id": "level-panama",
   "metadata": {},
   "source": [
    "### Test set"
   ]
  },
  {
   "cell_type": "code",
   "execution_count": 50,
   "id": "ruled-statement",
   "metadata": {},
   "outputs": [],
   "source": [
    "y_pred = clf.predict(X_test)"
   ]
  },
  {
   "cell_type": "code",
   "execution_count": 51,
   "id": "false-proportion",
   "metadata": {},
   "outputs": [
    {
     "name": "stdout",
     "output_type": "stream",
     "text": [
      "Accuracy 0.9467547609794015\n",
      "F1-score [0.97220532 0.36866359]\n",
      "              precision    recall  f1-score   support\n",
      "\n",
      "           0       1.00      0.95      0.97      2522\n",
      "           1       0.24      0.78      0.37        51\n",
      "\n",
      "    accuracy                           0.95      2573\n",
      "   macro avg       0.62      0.87      0.67      2573\n",
      "weighted avg       0.98      0.95      0.96      2573\n",
      "\n"
     ]
    }
   ],
   "source": [
    "print('Accuracy %s' % accuracy_score(y_test, y_pred))\n",
    "print('F1-score %s' % f1_score(y_test, y_pred, average=None))\n",
    "print(classification_report(y_test, y_pred))"
   ]
  },
  {
   "cell_type": "code",
   "execution_count": 52,
   "id": "focused-forth",
   "metadata": {},
   "outputs": [
    {
     "name": "stdout",
     "output_type": "stream",
     "text": [
      "0.8671766882803874\n"
     ]
    }
   ],
   "source": [
    "from sklearn.metrics import roc_curve, auc, roc_auc_score\n",
    "fpr,tpr,_=roc_curve(y_test,y_pred)\n",
    "roc_auc=auc(fpr,tpr)\n",
    "print(roc_auc)"
   ]
  },
  {
   "cell_type": "code",
   "execution_count": 53,
   "id": "reverse-medication",
   "metadata": {},
   "outputs": [
    {
     "name": "stdout",
     "output_type": "stream",
     "text": [
      "[[2396  126]\n",
      " [  11   40]]\n"
     ]
    },
    {
     "data": {
      "image/png": "[encoded data removed]",
      "text/plain": [
       "<Figure size 432x288 with 2 Axes>"
      ]
     },
     "metadata": {},
     "output_type": "display_data"
    }
   ],
   "source": [
    "from sklearn.metrics import plot_confusion_matrix\n",
    "sns.set_style('white')\n",
    "\n",
    "disp = plot_confusion_matrix(clf,X_test,y_test,\n",
    "                            cmap = plt.cm.Blues)\n",
    "disp.ax_.set_title('Confusion Matrix test set')\n",
    "print(disp.confusion_matrix)\n",
    "plt.show()"
   ]
  },
  {
   "cell_type": "code",
   "execution_count": 54,
   "id": "cathedral-background",
   "metadata": {},
   "outputs": [
    {
     "data": {
      "image/png": "[encoded data removed]",
      "text/plain": [
       "<Figure size 576x360 with 1 Axes>"
      ]
     },
     "metadata": {},
     "output_type": "display_data"
    }
   ],
   "source": [
    "plt.figure(figsize=(8,5))\n",
    "plt.plot(fpr,tpr,label='Roc curve (area=%0.2f)'%(roc_auc))\n",
    "\n",
    "plt.plot([0,1],[0,1], 'k--' )\n",
    "plt.xlim([0.0,1.0])\n",
    "plt.ylim([0.0,1.05])\n",
    "plt.xlabel('False Positive Rate',fontsize=20)\n",
    "plt.ylabel('True Positive Rate',fontsize=20)\n",
    "plt.tick_params(axis='both',which='major',labelsize=22)\n",
    "plt.legend(loc='lower right', fontsize=14, frameon=False)\n",
    "plt.show()"
   ]
  },
  {
   "cell_type": "markdown",
   "id": "latin-testimony",
   "metadata": {},
   "source": [
    "# Random Oversamling"
   ]
  },
  {
   "cell_type": "code",
   "execution_count": 73,
   "id": "neither-convenience",
   "metadata": {},
   "outputs": [],
   "source": [
    "from collections import Counter\n",
    "from imblearn.over_sampling import RandomOverSampler"
   ]
  },
  {
   "cell_type": "code",
   "execution_count": 74,
   "id": "colored-century",
   "metadata": {},
   "outputs": [
    {
     "name": "stdout",
     "output_type": "stream",
     "text": [
      "Resampled dataset shape Counter({0: 18808, 1: 18808})\n"
     ]
    }
   ],
   "source": [
    "ros = RandomOverSampler(random_state=42)\n",
    "X_res, y_res = ros.fit_resample(X_train, y_train)\n",
    "print('Resampled dataset shape %s' % Counter(y_res))"
   ]
  },
  {
   "cell_type": "code",
   "execution_count": 75,
   "id": "instructional-delhi",
   "metadata": {},
   "outputs": [
    {
     "name": "stdout",
     "output_type": "stream",
     "text": [
      "Accuracy 0.9078896230081617\n",
      "F1-score [0.95086046 0.26625387]\n",
      "              precision    recall  f1-score   support\n",
      "\n",
      "           0       1.00      0.91      0.95      2522\n",
      "           1       0.16      0.84      0.27        51\n",
      "\n",
      "    accuracy                           0.91      2573\n",
      "   macro avg       0.58      0.88      0.61      2573\n",
      "weighted avg       0.98      0.91      0.94      2573\n",
      "\n",
      "[[2293  229]\n",
      " [   8   43]]\n"
     ]
    }
   ],
   "source": [
    "clf.fit(X_res, y_res)\n",
    "\n",
    "y_pred_random = clf.predict(X_test)\n",
    "\n",
    "print('Accuracy %s' % accuracy_score(y_test, y_pred_random))\n",
    "print('F1-score %s' % f1_score(y_test, y_pred_random, average=None))\n",
    "print(classification_report(y_test, y_pred_random))\n",
    "print(confusion_matrix(y_test,y_pred_random))"
   ]
  },
  {
   "cell_type": "markdown",
   "id": "preceding-state",
   "metadata": {},
   "source": [
    "# CondenseNearestNeighbour"
   ]
  },
  {
   "cell_type": "code",
   "execution_count": 76,
   "id": "spatial-perfume",
   "metadata": {},
   "outputs": [],
   "source": [
    "from imblearn.under_sampling import CondensedNearestNeighbour"
   ]
  },
  {
   "cell_type": "code",
   "execution_count": 77,
   "id": "graduate-stability",
   "metadata": {},
   "outputs": [
    {
     "name": "stdout",
     "output_type": "stream",
     "text": [
      "Resampled dataset shape Counter({0: 585, 1: 371})\n"
     ]
    }
   ],
   "source": [
    "cnn = CondensedNearestNeighbour(random_state=42, n_jobs=10)\n",
    "X_res_cnn, y_res_cnn = cnn.fit_resample(X_train, y_train)\n",
    "print('Resampled dataset shape %s' % Counter(y_res_cnn))"
   ]
  },
  {
   "cell_type": "code",
   "execution_count": 78,
   "id": "ideal-combine",
   "metadata": {},
   "outputs": [
    {
     "name": "stdout",
     "output_type": "stream",
     "text": [
      "Accuracy 0.9626894675476098\n",
      "F1-score [0.98069964 0.44186047]\n",
      "              precision    recall  f1-score   support\n",
      "\n",
      "           0       0.99      0.97      0.98      2522\n",
      "           1       0.31      0.75      0.44        51\n",
      "\n",
      "    accuracy                           0.96      2573\n",
      "   macro avg       0.65      0.86      0.71      2573\n",
      "weighted avg       0.98      0.96      0.97      2573\n",
      "\n",
      "[[2439   83]\n",
      " [  13   38]]\n"
     ]
    }
   ],
   "source": [
    "clf.fit(X_res_cnn, y_res_cnn)\n",
    "\n",
    "dt_pred_cnn = clf.predict(X_test)\n",
    "\n",
    "print('Accuracy %s' % accuracy_score(y_test, dt_pred_cnn))\n",
    "print('F1-score %s' % f1_score(y_test, dt_pred_cnn, average=None))\n",
    "print(classification_report(y_test, dt_pred_cnn))\n",
    "print(confusion_matrix(y_test,dt_pred_cnn))"
   ]
  },
  {
   "cell_type": "code",
   "execution_count": 79,
   "id": "dependent-reserve",
   "metadata": {},
   "outputs": [
    {
     "name": "stdout",
     "output_type": "stream",
     "text": [
      "0.8761681516381334\n"
     ]
    }
   ],
   "source": [
    "fpr_random,tpr_random,_=roc_curve(y_test,y_pred_random)\n",
    "roc_auc_random=auc(fpr_random,tpr_random)\n",
    "print(roc_auc_random)"
   ]
  },
  {
   "cell_type": "code",
   "execution_count": 80,
   "id": "ranking-wealth",
   "metadata": {},
   "outputs": [
    {
     "name": "stdout",
     "output_type": "stream",
     "text": [
      "0.8560938253175973\n"
     ]
    }
   ],
   "source": [
    "fpr_cnn,tpr_cnn,_=roc_curve(y_test,dt_pred_cnn)\n",
    "roc_auc_cnn=auc(fpr_cnn,tpr_cnn)\n",
    "print(roc_auc_cnn)"
   ]
  },
  {
   "cell_type": "code",
   "execution_count": 82,
   "id": "conservative-sullivan",
   "metadata": {},
   "outputs": [
    {
     "data": {
      "image/png": "[encoded data removed]",
      "text/plain": [
       "<Figure size 576x360 with 1 Axes>"
      ]
     },
     "metadata": {},
     "output_type": "display_data"
    }
   ],
   "source": [
    "plt.figure(figsize=(8, 5))\n",
    "plt.plot(fpr_random, tpr_random, label='Naive Bayes  + Random oversampling ROC curve (area = %0.2f)' % (roc_auc_random))\n",
    "plt.plot(fpr_cnn, tpr_cnn, label='Naive Bayes + Condensed nearest neighbor ROC curve (area = %0.2f)' % (roc_auc_cnn))\n",
    "    \n",
    "plt.plot([0, 1], [0, 1], 'k--')\n",
    "plt.xlim([0.0, 1.0])\n",
    "plt.ylim([0.0, 1.0])\n",
    "plt.xlabel('False Positive Rate', fontsize=20)\n",
    "plt.ylabel('True Positive Rate', fontsize=20) \n",
    "plt.tick_params(axis='both', which='major', labelsize=22)\n",
    "plt.legend(loc=\"lower right\", fontsize=10, frameon=False)\n",
    "plt.show()"
   ]
  },
  {
   "cell_type": "markdown",
   "id": "harmful-action",
   "metadata": {},
   "source": [
    "# CN2"
   ]
  },
  {
   "cell_type": "code",
   "execution_count": null,
   "id": "gothic-payday",
   "metadata": {},
   "outputs": [],
   "source": [
    "import Orange"
   ]
  },
  {
   "cell_type": "code",
   "execution_count": null,
   "id": "caroline-devil",
   "metadata": {},
   "outputs": [],
   "source": [
    "titanic = Orange.data.Table(\"titanic\")"
   ]
  },
  {
   "cell_type": "code",
   "execution_count": null,
   "id": "tired-proxy",
   "metadata": {},
   "outputs": [],
   "source": [
    "titanic"
   ]
  },
  {
   "cell_type": "code",
   "execution_count": null,
   "id": "lyric-atlanta",
   "metadata": {},
   "outputs": [],
   "source": [
    "cn2_learner = Orange.classification.rules.CN2Learner()\n",
    "cn2_classifier = cn2_learner(titanic)"
   ]
  },
  {
   "cell_type": "code",
   "execution_count": null,
   "id": "particular-firewall",
   "metadata": {},
   "outputs": [],
   "source": [
    "for r in cn2_classifier.rule_list:\n",
    "    print(r)"
   ]
  },
  {
   "cell_type": "code",
   "execution_count": null,
   "id": "negative-packet",
   "metadata": {},
   "outputs": [],
   "source": [
    "Orange.data.Domain([Orange.data.Variable(c, compute_value=None) for c in df.columns])"
   ]
  },
  {
   "cell_type": "code",
   "execution_count": null,
   "id": "animal-suspect",
   "metadata": {},
   "outputs": [],
   "source": [
    "data = Orange.data.Table.from_numpy(domain=np.array(df.columns), X=X_train, Y=y_train)"
   ]
  },
  {
   "cell_type": "code",
   "execution_count": null,
   "id": "interpreted-float",
   "metadata": {},
   "outputs": [],
   "source": [
    "print(data.columns)"
   ]
  },
  {
   "cell_type": "code",
   "execution_count": null,
   "id": "secure-manual",
   "metadata": {},
   "outputs": [],
   "source": [
    "data.__dict__"
   ]
  },
  {
   "cell_type": "code",
   "execution_count": null,
   "id": "racial-referral",
   "metadata": {},
   "outputs": [],
   "source": [
    "cn2_learner = Orange.classification.rules.CN2Learner()\n",
    "cn2_classifier = cn2_learner(data)"
   ]
  },
  {
   "cell_type": "code",
   "execution_count": null,
   "id": "continued-pressure",
   "metadata": {},
   "outputs": [],
   "source": [
    "for r in cn2_classifier.rule_list:\n",
    "    print(r)"
   ]
  },
  {
   "cell_type": "code",
   "execution_count": null,
   "id": "split-shelf",
   "metadata": {},
   "outputs": [],
   "source": []
  }
 ],
 "metadata": {
  "kernelspec": {
   "display_name": "Python 3 (ipykernel)",
   "language": "python",
   "name": "python3"
  },
  "language_info": {
   "codemirror_mode": {
    "name": "ipython",
    "version": 3
   },
   "file_extension": ".py",
   "mimetype": "text/x-python",
   "name": "python",
   "nbconvert_exporter": "python",
   "pygments_lexer": "ipython3",
   "version": "3.10.5"
  }
 },
 "nbformat": 4,
 "nbformat_minor": 5
}
