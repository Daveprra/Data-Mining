{
 "cells": [
  {
   "cell_type": "code",
   "execution_count": 1,
   "id": "acute-cholesterol",
   "metadata": {},
   "outputs": [],
   "source": [
    "%matplotlib inline\n",
    "import utils\n",
    "import os\n",
    "import IPython.display as ipd\n",
    "import numpy as np\n",
    "import pandas as pd\n",
    "import matplotlib.pyplot as plt\n",
    "import seaborn as sns\n",
    "import sklearn as skl\n",
    "import sklearn.utils, sklearn.preprocessing, sklearn.decomposition, sklearn.svm\n",
    "from sklearn import preprocessing\n",
    "from sklearn.preprocessing import label_binarize\n",
    "import librosa\n",
    "import librosa.display\n",
    "import missingno as msno \n",
    "%matplotlib inline\n",
    "import seaborn as sns\n",
    "from sklearn.utils import shuffle\n",
    "from sklearn.preprocessing import MultiLabelBinarizer\n",
    "from sklearn.decomposition import PCA\n",
    "from sklearn.preprocessing import LabelEncoder, LabelBinarizer, StandardScaler, RobustScaler\n",
    "# importing warning in order to ignore them\n",
    "import warnings \n",
    "warnings.filterwarnings('always')   #suppresses all warnings\n",
    "warnings.filterwarnings('ignore')"
   ]
  },
  {
   "cell_type": "code",
   "execution_count": 2,
   "id": "comfortable-length",
   "metadata": {},
   "outputs": [
    {
     "data": {
      "text/plain": [
       "((106574, 52), (163, 4), (106574, 518), (13129, 249))"
      ]
     },
     "execution_count": 2,
     "metadata": {},
     "output_type": "execute_result"
    }
   ],
   "source": [
    "# Directory where mp3 are stored.\n",
    "AUDIO_DIR = os.environ.get('AUDIO_DIR')\n",
    "\n",
    "tracks= utils.load(\"/Users/david/Desktop/DM2 project/fma_metadata/tracks.csv\")\n",
    "genres= utils.load(\"/Users/david/Desktop/DM2 project/fma_metadata/genres.csv\")\n",
    "features= utils.load(\"/Users/david/Desktop/DM2 project/fma_metadata/features.csv\")\n",
    "echonest= utils.load(\"/Users/david/Desktop/DM2 project/fma_metadata/echonest.csv\")\n",
    "\n",
    "np.testing.assert_array_equal(features.index, tracks.index)\n",
    "assert echonest.index.isin(tracks.index).all()\n",
    "\n",
    "tracks.shape, genres.shape, features.shape, echonest.shape"
   ]
  },
  {
   "cell_type": "code",
   "execution_count": 3,
   "id": "accepted-cricket",
   "metadata": {},
   "outputs": [
    {
     "data": {
      "text/plain": [
       "(106574, 22)"
      ]
     },
     "execution_count": 3,
     "metadata": {},
     "output_type": "execute_result"
    }
   ],
   "source": [
    "tracks_cut=['album','artist']\n",
    "tracks.drop(tracks_cut,axis=1,inplace=True)\n",
    "tracks.shape"
   ]
  },
  {
   "cell_type": "code",
   "execution_count": 4,
   "id": "affecting-carry",
   "metadata": {},
   "outputs": [],
   "source": [
    "tracks=tracks.droplevel(0,axis=1)"
   ]
  },
  {
   "cell_type": "code",
   "execution_count": 5,
   "id": "covered-hardware",
   "metadata": {},
   "outputs": [],
   "source": [
    "tracks_cut=['composer','comments', 'date_created','date_recorded',\n",
    "            'license','number','title','language_code',\n",
    "            'publisher', 'tags','information','lyricist','genres','genres_all',\n",
    "            'favorites','listens','interest','bit_rate', 'duration']\n",
    "tracks.drop(tracks_cut,axis=1,inplace=True)"
   ]
  },
  {
   "cell_type": "code",
   "execution_count": 6,
   "id": "rubber-break",
   "metadata": {},
   "outputs": [],
   "source": [
    "df_target=features[['spectral_rolloff','spectral_centroid']]"
   ]
  },
  {
   "cell_type": "code",
   "execution_count": 7,
   "id": "focal-opportunity",
   "metadata": {},
   "outputs": [],
   "source": [
    "df_target=df_target.droplevel(0,axis=1)"
   ]
  },
  {
   "cell_type": "code",
   "execution_count": 8,
   "id": "preceding-difficulty",
   "metadata": {},
   "outputs": [
    {
     "data": {
      "text/html": [
       "<div>\n",
       "<style scoped>\n",
       "    .dataframe tbody tr th:only-of-type {\n",
       "        vertical-align: middle;\n",
       "    }\n",
       "\n",
       "    .dataframe tbody tr th {\n",
       "        vertical-align: top;\n",
       "    }\n",
       "\n",
       "    .dataframe thead th {\n",
       "        text-align: right;\n",
       "    }\n",
       "</style>\n",
       "<table border=\"1\" class=\"dataframe\">\n",
       "  <thead>\n",
       "    <tr style=\"text-align: right;\">\n",
       "      <th></th>\n",
       "      <th>roll_kurtosis</th>\n",
       "      <th>roll_max</th>\n",
       "      <th>roll_mean</th>\n",
       "      <th>roll_median</th>\n",
       "      <th>roll_min</th>\n",
       "      <th>roll_skew</th>\n",
       "      <th>roll_std</th>\n",
       "      <th>centr_kurtosis</th>\n",
       "      <th>centr_max</th>\n",
       "      <th>centr_mean</th>\n",
       "      <th>centr_median</th>\n",
       "      <th>centr_min</th>\n",
       "      <th>centr_skew</th>\n",
       "      <th>centr_std</th>\n",
       "    </tr>\n",
       "    <tr>\n",
       "      <th>track_id</th>\n",
       "      <th></th>\n",
       "      <th></th>\n",
       "      <th></th>\n",
       "      <th></th>\n",
       "      <th></th>\n",
       "      <th></th>\n",
       "      <th></th>\n",
       "      <th></th>\n",
       "      <th></th>\n",
       "      <th></th>\n",
       "      <th></th>\n",
       "      <th></th>\n",
       "      <th></th>\n",
       "      <th></th>\n",
       "    </tr>\n",
       "  </thead>\n",
       "  <tbody>\n",
       "    <tr>\n",
       "      <th>2</th>\n",
       "      <td>0.840540</td>\n",
       "      <td>9410.009766</td>\n",
       "      <td>3267.804688</td>\n",
       "      <td>3143.847656</td>\n",
       "      <td>0.000000</td>\n",
       "      <td>0.347372</td>\n",
       "      <td>1300.729736</td>\n",
       "      <td>2.406808</td>\n",
       "      <td>5514.049805</td>\n",
       "      <td>1639.583252</td>\n",
       "      <td>1503.496704</td>\n",
       "      <td>0.000000</td>\n",
       "      <td>1.079815</td>\n",
       "      <td>719.770508</td>\n",
       "    </tr>\n",
       "    <tr>\n",
       "      <th>3</th>\n",
       "      <td>2.379145</td>\n",
       "      <td>10002.172852</td>\n",
       "      <td>3514.619629</td>\n",
       "      <td>3413.012695</td>\n",
       "      <td>0.000000</td>\n",
       "      <td>1.118952</td>\n",
       "      <td>1650.357788</td>\n",
       "      <td>3.519866</td>\n",
       "      <td>6288.426758</td>\n",
       "      <td>1763.012451</td>\n",
       "      <td>1517.993652</td>\n",
       "      <td>0.000000</td>\n",
       "      <td>1.652693</td>\n",
       "      <td>972.758423</td>\n",
       "    </tr>\n",
       "    <tr>\n",
       "      <th>5</th>\n",
       "      <td>-0.238572</td>\n",
       "      <td>9442.309570</td>\n",
       "      <td>2773.931885</td>\n",
       "      <td>2863.916016</td>\n",
       "      <td>0.000000</td>\n",
       "      <td>0.266975</td>\n",
       "      <td>1323.465210</td>\n",
       "      <td>1.322586</td>\n",
       "      <td>5648.614746</td>\n",
       "      <td>1292.958130</td>\n",
       "      <td>1186.514038</td>\n",
       "      <td>0.000000</td>\n",
       "      <td>0.937101</td>\n",
       "      <td>665.319275</td>\n",
       "    </tr>\n",
       "    <tr>\n",
       "      <th>10</th>\n",
       "      <td>3.619834</td>\n",
       "      <td>10056.005859</td>\n",
       "      <td>2603.491943</td>\n",
       "      <td>2002.587891</td>\n",
       "      <td>0.000000</td>\n",
       "      <td>1.800220</td>\n",
       "      <td>1524.401245</td>\n",
       "      <td>9.729688</td>\n",
       "      <td>5739.394531</td>\n",
       "      <td>1360.028687</td>\n",
       "      <td>1180.966797</td>\n",
       "      <td>0.000000</td>\n",
       "      <td>2.523783</td>\n",
       "      <td>668.700806</td>\n",
       "    </tr>\n",
       "    <tr>\n",
       "      <th>20</th>\n",
       "      <td>-0.744805</td>\n",
       "      <td>9496.142578</td>\n",
       "      <td>4201.346191</td>\n",
       "      <td>4166.674805</td>\n",
       "      <td>75.366211</td>\n",
       "      <td>0.160345</td>\n",
       "      <td>1495.297119</td>\n",
       "      <td>2.177669</td>\n",
       "      <td>5540.209961</td>\n",
       "      <td>1732.971802</td>\n",
       "      <td>1640.781128</td>\n",
       "      <td>123.611168</td>\n",
       "      <td>0.960959</td>\n",
       "      <td>481.929871</td>\n",
       "    </tr>\n",
       "  </tbody>\n",
       "</table>\n",
       "</div>"
      ],
      "text/plain": [
       "          roll_kurtosis      roll_max    roll_mean  roll_median   roll_min  \\\n",
       "track_id                                                                     \n",
       "2              0.840540   9410.009766  3267.804688  3143.847656   0.000000   \n",
       "3              2.379145  10002.172852  3514.619629  3413.012695   0.000000   \n",
       "5             -0.238572   9442.309570  2773.931885  2863.916016   0.000000   \n",
       "10             3.619834  10056.005859  2603.491943  2002.587891   0.000000   \n",
       "20            -0.744805   9496.142578  4201.346191  4166.674805  75.366211   \n",
       "\n",
       "          roll_skew     roll_std  centr_kurtosis    centr_max   centr_mean  \\\n",
       "track_id                                                                     \n",
       "2          0.347372  1300.729736        2.406808  5514.049805  1639.583252   \n",
       "3          1.118952  1650.357788        3.519866  6288.426758  1763.012451   \n",
       "5          0.266975  1323.465210        1.322586  5648.614746  1292.958130   \n",
       "10         1.800220  1524.401245        9.729688  5739.394531  1360.028687   \n",
       "20         0.160345  1495.297119        2.177669  5540.209961  1732.971802   \n",
       "\n",
       "          centr_median   centr_min  centr_skew   centr_std  \n",
       "track_id                                                    \n",
       "2          1503.496704    0.000000    1.079815  719.770508  \n",
       "3          1517.993652    0.000000    1.652693  972.758423  \n",
       "5          1186.514038    0.000000    0.937101  665.319275  \n",
       "10         1180.966797    0.000000    2.523783  668.700806  \n",
       "20         1640.781128  123.611168    0.960959  481.929871  "
      ]
     },
     "execution_count": 8,
     "metadata": {},
     "output_type": "execute_result"
    }
   ],
   "source": [
    "df_target.columns=['roll_kurtosis','roll_max','roll_mean','roll_median','roll_min','roll_skew','roll_std',\n",
    "                   'centr_kurtosis','centr_max','centr_mean','centr_median','centr_min','centr_skew','centr_std']\n",
    "                   \n",
    "                   #'bandw_kurtosis','bandw_max','bandw_mean','bandw_median','bandw_min','bandw_skew','bandw_std']\n",
    "df_target.head()"
   ]
  },
  {
   "cell_type": "code",
   "execution_count": 9,
   "id": "twenty-product",
   "metadata": {},
   "outputs": [],
   "source": [
    "df=pd.merge(tracks,df_target, on='track_id')"
   ]
  },
  {
   "cell_type": "code",
   "execution_count": 10,
   "id": "improving-terrace",
   "metadata": {},
   "outputs": [],
   "source": [
    "df.drop(index=df[df.subset=='large'].index, inplace=True)"
   ]
  },
  {
   "cell_type": "markdown",
   "id": "qualified-flight",
   "metadata": {},
   "source": [
    "# Pre-processing"
   ]
  },
  {
   "cell_type": "code",
   "execution_count": 11,
   "id": "written-defense",
   "metadata": {},
   "outputs": [],
   "source": [
    "train = df.index[df['split'] == 'training']\n",
    "val = df.index[df['split'] == 'validation']\n",
    "test = df.index[df['split'] == 'test']"
   ]
  },
  {
   "cell_type": "code",
   "execution_count": 12,
   "id": "fifteen-device",
   "metadata": {},
   "outputs": [],
   "source": [
    "#copy dataframe\n",
    "df_enc=df.copy()"
   ]
  },
  {
   "cell_type": "code",
   "execution_count": 13,
   "id": "fresh-carter",
   "metadata": {},
   "outputs": [
    {
     "data": {
      "text/html": [
       "<div>\n",
       "<style scoped>\n",
       "    .dataframe tbody tr th:only-of-type {\n",
       "        vertical-align: middle;\n",
       "    }\n",
       "\n",
       "    .dataframe tbody tr th {\n",
       "        vertical-align: top;\n",
       "    }\n",
       "\n",
       "    .dataframe thead th {\n",
       "        text-align: right;\n",
       "    }\n",
       "</style>\n",
       "<table border=\"1\" class=\"dataframe\">\n",
       "  <thead>\n",
       "    <tr style=\"text-align: right;\">\n",
       "      <th></th>\n",
       "      <th>split</th>\n",
       "      <th>subset</th>\n",
       "      <th>genre_top</th>\n",
       "      <th>roll_kurtosis</th>\n",
       "      <th>roll_max</th>\n",
       "      <th>roll_mean</th>\n",
       "      <th>roll_median</th>\n",
       "      <th>roll_min</th>\n",
       "      <th>roll_skew</th>\n",
       "      <th>roll_std</th>\n",
       "      <th>centr_kurtosis</th>\n",
       "      <th>centr_max</th>\n",
       "      <th>centr_mean</th>\n",
       "      <th>centr_median</th>\n",
       "      <th>centr_min</th>\n",
       "      <th>centr_skew</th>\n",
       "      <th>centr_std</th>\n",
       "    </tr>\n",
       "    <tr>\n",
       "      <th>track_id</th>\n",
       "      <th></th>\n",
       "      <th></th>\n",
       "      <th></th>\n",
       "      <th></th>\n",
       "      <th></th>\n",
       "      <th></th>\n",
       "      <th></th>\n",
       "      <th></th>\n",
       "      <th></th>\n",
       "      <th></th>\n",
       "      <th></th>\n",
       "      <th></th>\n",
       "      <th></th>\n",
       "      <th></th>\n",
       "      <th></th>\n",
       "      <th></th>\n",
       "      <th></th>\n",
       "    </tr>\n",
       "  </thead>\n",
       "  <tbody>\n",
       "    <tr>\n",
       "      <th>2</th>\n",
       "      <td>training</td>\n",
       "      <td>small</td>\n",
       "      <td>Hip-Hop</td>\n",
       "      <td>0.840540</td>\n",
       "      <td>9410.009766</td>\n",
       "      <td>3267.804688</td>\n",
       "      <td>3143.847656</td>\n",
       "      <td>0.000000</td>\n",
       "      <td>0.347372</td>\n",
       "      <td>1300.729736</td>\n",
       "      <td>2.406808</td>\n",
       "      <td>5514.049805</td>\n",
       "      <td>1639.583252</td>\n",
       "      <td>1503.496704</td>\n",
       "      <td>0.000000</td>\n",
       "      <td>1.079815</td>\n",
       "      <td>719.770508</td>\n",
       "    </tr>\n",
       "    <tr>\n",
       "      <th>3</th>\n",
       "      <td>training</td>\n",
       "      <td>medium</td>\n",
       "      <td>Hip-Hop</td>\n",
       "      <td>2.379145</td>\n",
       "      <td>10002.172852</td>\n",
       "      <td>3514.619629</td>\n",
       "      <td>3413.012695</td>\n",
       "      <td>0.000000</td>\n",
       "      <td>1.118952</td>\n",
       "      <td>1650.357788</td>\n",
       "      <td>3.519866</td>\n",
       "      <td>6288.426758</td>\n",
       "      <td>1763.012451</td>\n",
       "      <td>1517.993652</td>\n",
       "      <td>0.000000</td>\n",
       "      <td>1.652693</td>\n",
       "      <td>972.758423</td>\n",
       "    </tr>\n",
       "    <tr>\n",
       "      <th>5</th>\n",
       "      <td>training</td>\n",
       "      <td>small</td>\n",
       "      <td>Hip-Hop</td>\n",
       "      <td>-0.238572</td>\n",
       "      <td>9442.309570</td>\n",
       "      <td>2773.931885</td>\n",
       "      <td>2863.916016</td>\n",
       "      <td>0.000000</td>\n",
       "      <td>0.266975</td>\n",
       "      <td>1323.465210</td>\n",
       "      <td>1.322586</td>\n",
       "      <td>5648.614746</td>\n",
       "      <td>1292.958130</td>\n",
       "      <td>1186.514038</td>\n",
       "      <td>0.000000</td>\n",
       "      <td>0.937101</td>\n",
       "      <td>665.319275</td>\n",
       "    </tr>\n",
       "    <tr>\n",
       "      <th>10</th>\n",
       "      <td>training</td>\n",
       "      <td>small</td>\n",
       "      <td>Pop</td>\n",
       "      <td>3.619834</td>\n",
       "      <td>10056.005859</td>\n",
       "      <td>2603.491943</td>\n",
       "      <td>2002.587891</td>\n",
       "      <td>0.000000</td>\n",
       "      <td>1.800220</td>\n",
       "      <td>1524.401245</td>\n",
       "      <td>9.729688</td>\n",
       "      <td>5739.394531</td>\n",
       "      <td>1360.028687</td>\n",
       "      <td>1180.966797</td>\n",
       "      <td>0.000000</td>\n",
       "      <td>2.523783</td>\n",
       "      <td>668.700806</td>\n",
       "    </tr>\n",
       "    <tr>\n",
       "      <th>134</th>\n",
       "      <td>training</td>\n",
       "      <td>medium</td>\n",
       "      <td>Hip-Hop</td>\n",
       "      <td>0.488314</td>\n",
       "      <td>9442.309570</td>\n",
       "      <td>2462.616943</td>\n",
       "      <td>2099.487305</td>\n",
       "      <td>0.000000</td>\n",
       "      <td>0.750207</td>\n",
       "      <td>1406.506592</td>\n",
       "      <td>2.208298</td>\n",
       "      <td>5518.117188</td>\n",
       "      <td>1257.696289</td>\n",
       "      <td>1118.902588</td>\n",
       "      <td>0.000000</td>\n",
       "      <td>1.120293</td>\n",
       "      <td>718.104797</td>\n",
       "    </tr>\n",
       "    <tr>\n",
       "      <th>...</th>\n",
       "      <td>...</td>\n",
       "      <td>...</td>\n",
       "      <td>...</td>\n",
       "      <td>...</td>\n",
       "      <td>...</td>\n",
       "      <td>...</td>\n",
       "      <td>...</td>\n",
       "      <td>...</td>\n",
       "      <td>...</td>\n",
       "      <td>...</td>\n",
       "      <td>...</td>\n",
       "      <td>...</td>\n",
       "      <td>...</td>\n",
       "      <td>...</td>\n",
       "      <td>...</td>\n",
       "      <td>...</td>\n",
       "      <td>...</td>\n",
       "    </tr>\n",
       "    <tr>\n",
       "      <th>155297</th>\n",
       "      <td>training</td>\n",
       "      <td>medium</td>\n",
       "      <td>Instrumental</td>\n",
       "      <td>32.431602</td>\n",
       "      <td>9883.740234</td>\n",
       "      <td>1189.471436</td>\n",
       "      <td>1033.593750</td>\n",
       "      <td>204.565430</td>\n",
       "      <td>5.377576</td>\n",
       "      <td>1276.645996</td>\n",
       "      <td>55.303261</td>\n",
       "      <td>8601.571289</td>\n",
       "      <td>750.424744</td>\n",
       "      <td>636.640259</td>\n",
       "      <td>220.715759</td>\n",
       "      <td>7.249722</td>\n",
       "      <td>919.452454</td>\n",
       "    </tr>\n",
       "    <tr>\n",
       "      <th>155298</th>\n",
       "      <td>training</td>\n",
       "      <td>medium</td>\n",
       "      <td>Folk</td>\n",
       "      <td>7.010324</td>\n",
       "      <td>9991.406250</td>\n",
       "      <td>1504.343750</td>\n",
       "      <td>1313.525391</td>\n",
       "      <td>0.000000</td>\n",
       "      <td>2.150454</td>\n",
       "      <td>1135.410767</td>\n",
       "      <td>18.339352</td>\n",
       "      <td>6361.462402</td>\n",
       "      <td>770.230652</td>\n",
       "      <td>676.175720</td>\n",
       "      <td>0.000000</td>\n",
       "      <td>3.141982</td>\n",
       "      <td>449.027496</td>\n",
       "    </tr>\n",
       "    <tr>\n",
       "      <th>155306</th>\n",
       "      <td>training</td>\n",
       "      <td>medium</td>\n",
       "      <td>Folk</td>\n",
       "      <td>7.370663</td>\n",
       "      <td>9453.076172</td>\n",
       "      <td>1562.254517</td>\n",
       "      <td>1238.159180</td>\n",
       "      <td>193.798828</td>\n",
       "      <td>2.179922</td>\n",
       "      <td>1146.488037</td>\n",
       "      <td>10.664659</td>\n",
       "      <td>5597.755859</td>\n",
       "      <td>780.710510</td>\n",
       "      <td>650.279541</td>\n",
       "      <td>193.229736</td>\n",
       "      <td>2.397812</td>\n",
       "      <td>472.045807</td>\n",
       "    </tr>\n",
       "    <tr>\n",
       "      <th>155307</th>\n",
       "      <td>training</td>\n",
       "      <td>medium</td>\n",
       "      <td>Experimental</td>\n",
       "      <td>-0.546878</td>\n",
       "      <td>9496.142578</td>\n",
       "      <td>3154.937744</td>\n",
       "      <td>3090.014648</td>\n",
       "      <td>129.199219</td>\n",
       "      <td>-0.114283</td>\n",
       "      <td>1222.558594</td>\n",
       "      <td>0.757221</td>\n",
       "      <td>5676.028809</td>\n",
       "      <td>1534.082275</td>\n",
       "      <td>1469.584961</td>\n",
       "      <td>192.527817</td>\n",
       "      <td>0.546836</td>\n",
       "      <td>584.459290</td>\n",
       "    </tr>\n",
       "    <tr>\n",
       "      <th>155314</th>\n",
       "      <td>training</td>\n",
       "      <td>medium</td>\n",
       "      <td>Rock</td>\n",
       "      <td>1.741085</td>\n",
       "      <td>8602.514648</td>\n",
       "      <td>2080.285889</td>\n",
       "      <td>1841.088867</td>\n",
       "      <td>710.595703</td>\n",
       "      <td>1.233641</td>\n",
       "      <td>690.444214</td>\n",
       "      <td>3.424468</td>\n",
       "      <td>4474.959473</td>\n",
       "      <td>1033.740112</td>\n",
       "      <td>992.651306</td>\n",
       "      <td>355.737061</td>\n",
       "      <td>1.110507</td>\n",
       "      <td>282.995117</td>\n",
       "    </tr>\n",
       "  </tbody>\n",
       "</table>\n",
       "<p>25000 rows × 17 columns</p>\n",
       "</div>"
      ],
      "text/plain": [
       "             split  subset     genre_top  roll_kurtosis      roll_max  \\\n",
       "track_id                                                                \n",
       "2         training   small       Hip-Hop       0.840540   9410.009766   \n",
       "3         training  medium       Hip-Hop       2.379145  10002.172852   \n",
       "5         training   small       Hip-Hop      -0.238572   9442.309570   \n",
       "10        training   small           Pop       3.619834  10056.005859   \n",
       "134       training  medium       Hip-Hop       0.488314   9442.309570   \n",
       "...            ...     ...           ...            ...           ...   \n",
       "155297    training  medium  Instrumental      32.431602   9883.740234   \n",
       "155298    training  medium          Folk       7.010324   9991.406250   \n",
       "155306    training  medium          Folk       7.370663   9453.076172   \n",
       "155307    training  medium  Experimental      -0.546878   9496.142578   \n",
       "155314    training  medium          Rock       1.741085   8602.514648   \n",
       "\n",
       "            roll_mean  roll_median    roll_min  roll_skew     roll_std  \\\n",
       "track_id                                                                 \n",
       "2         3267.804688  3143.847656    0.000000   0.347372  1300.729736   \n",
       "3         3514.619629  3413.012695    0.000000   1.118952  1650.357788   \n",
       "5         2773.931885  2863.916016    0.000000   0.266975  1323.465210   \n",
       "10        2603.491943  2002.587891    0.000000   1.800220  1524.401245   \n",
       "134       2462.616943  2099.487305    0.000000   0.750207  1406.506592   \n",
       "...               ...          ...         ...        ...          ...   \n",
       "155297    1189.471436  1033.593750  204.565430   5.377576  1276.645996   \n",
       "155298    1504.343750  1313.525391    0.000000   2.150454  1135.410767   \n",
       "155306    1562.254517  1238.159180  193.798828   2.179922  1146.488037   \n",
       "155307    3154.937744  3090.014648  129.199219  -0.114283  1222.558594   \n",
       "155314    2080.285889  1841.088867  710.595703   1.233641   690.444214   \n",
       "\n",
       "          centr_kurtosis    centr_max   centr_mean  centr_median   centr_min  \\\n",
       "track_id                                                                       \n",
       "2               2.406808  5514.049805  1639.583252   1503.496704    0.000000   \n",
       "3               3.519866  6288.426758  1763.012451   1517.993652    0.000000   \n",
       "5               1.322586  5648.614746  1292.958130   1186.514038    0.000000   \n",
       "10              9.729688  5739.394531  1360.028687   1180.966797    0.000000   \n",
       "134             2.208298  5518.117188  1257.696289   1118.902588    0.000000   \n",
       "...                  ...          ...          ...           ...         ...   \n",
       "155297         55.303261  8601.571289   750.424744    636.640259  220.715759   \n",
       "155298         18.339352  6361.462402   770.230652    676.175720    0.000000   \n",
       "155306         10.664659  5597.755859   780.710510    650.279541  193.229736   \n",
       "155307          0.757221  5676.028809  1534.082275   1469.584961  192.527817   \n",
       "155314          3.424468  4474.959473  1033.740112    992.651306  355.737061   \n",
       "\n",
       "          centr_skew   centr_std  \n",
       "track_id                          \n",
       "2           1.079815  719.770508  \n",
       "3           1.652693  972.758423  \n",
       "5           0.937101  665.319275  \n",
       "10          2.523783  668.700806  \n",
       "134         1.120293  718.104797  \n",
       "...              ...         ...  \n",
       "155297      7.249722  919.452454  \n",
       "155298      3.141982  449.027496  \n",
       "155306      2.397812  472.045807  \n",
       "155307      0.546836  584.459290  \n",
       "155314      1.110507  282.995117  \n",
       "\n",
       "[25000 rows x 17 columns]"
      ]
     },
     "execution_count": 13,
     "metadata": {},
     "output_type": "execute_result"
    }
   ],
   "source": [
    "df_enc"
   ]
  },
  {
   "cell_type": "code",
   "execution_count": 14,
   "id": "miniature-angel",
   "metadata": {},
   "outputs": [],
   "source": [
    "le=LabelEncoder()\n",
    "ple= preprocessing.LabelEncoder()\n",
    "df_enc['genre_top']=le.fit_transform(df_enc['genre_top'])"
   ]
  },
  {
   "cell_type": "code",
   "execution_count": 15,
   "id": "outdoor-prior",
   "metadata": {},
   "outputs": [
    {
     "data": {
      "text/plain": [
       "array([ 7, 12, 13,  6,  5, 10,  4,  9, 14,  0, 15,  2,  1, 11,  8,  3])"
      ]
     },
     "execution_count": 15,
     "metadata": {},
     "output_type": "execute_result"
    }
   ],
   "source": [
    "df_enc['genre_top'].unique()"
   ]
  },
  {
   "cell_type": "code",
   "execution_count": 16,
   "id": "derived-looking",
   "metadata": {},
   "outputs": [],
   "source": [
    "replace_values=[ 7, 12, 13,  6,  5, 10,  4,  9, 14,  0, 15,  2,  1,  8,  3]\n",
    "df_enc['genre_top']=df_enc['genre_top'].replace(replace_values,0)\n",
    "df_enc['genre_top']=df_enc['genre_top'].replace(11,1)"
   ]
  },
  {
   "cell_type": "code",
   "execution_count": 17,
   "id": "aerial-detroit",
   "metadata": {},
   "outputs": [
    {
     "data": {
      "text/plain": [
       "((19922,), (2505,), (2573,))"
      ]
     },
     "execution_count": 17,
     "metadata": {},
     "output_type": "execute_result"
    }
   ],
   "source": [
    "y_train = df_enc['genre_top'].loc[df_enc['split'] == 'training']\n",
    "y_val = df_enc['genre_top'].loc[df_enc['split'] == 'validation']\n",
    "y_test = df_enc['genre_top'].loc[df_enc['split'] == 'test']\n",
    "y_train.shape, y_val.shape, y_test.shape"
   ]
  },
  {
   "cell_type": "code",
   "execution_count": 18,
   "id": "loving-harvey",
   "metadata": {},
   "outputs": [],
   "source": [
    "X=df_enc.drop('genre_top',axis=1)"
   ]
  },
  {
   "cell_type": "code",
   "execution_count": 19,
   "id": "abandoned-serve",
   "metadata": {},
   "outputs": [
    {
     "data": {
      "text/plain": [
       "((19922, 16), (2505, 16), (2573, 16))"
      ]
     },
     "execution_count": 19,
     "metadata": {},
     "output_type": "execute_result"
    }
   ],
   "source": [
    "X_train = X.loc[X['split'] == 'training']\n",
    "X_val = X.loc[X['split'] == 'validation']\n",
    "X_test = X.loc[X['split'] == 'test']\n",
    "X_train.shape, X_val.shape, X_test.shape"
   ]
  },
  {
   "cell_type": "code",
   "execution_count": 20,
   "id": "expanded-contributor",
   "metadata": {},
   "outputs": [],
   "source": [
    "X_train, y_train = shuffle(X_train, y_train, random_state=42)"
   ]
  },
  {
   "cell_type": "code",
   "execution_count": 21,
   "id": "planned-meeting",
   "metadata": {},
   "outputs": [],
   "source": [
    "cut_columns=['split','subset']\n",
    "            #'roll_max','roll_mean','roll_median','roll_min','roll_skew','roll_std',\n",
    "                   #'centr_kurtosis','centr_max','centr_mean','centr_median','centr_min','centr_skew','centr_std']\n",
    "X_train.drop(cut_columns,axis=1,inplace=True)\n",
    "X_val.drop(cut_columns,axis=1,inplace=True)\n",
    "X_test.drop(cut_columns,axis=1,inplace=True)"
   ]
  },
  {
   "cell_type": "raw",
   "id": "nominated-mother",
   "metadata": {},
   "source": [
    "from sklearn.preprocessing import StandardScaler, RobustScaler, MinMaxScaler\n",
    "#normalize data with Robust scaler\n",
    "scaler = RobustScaler()\n",
    "scaler.fit_transform(X_train)\n",
    "scaler.fit_transform(X_val)\n",
    "scaler.fit_transform(X_test)"
   ]
  },
  {
   "cell_type": "markdown",
   "id": "adjacent-roulette",
   "metadata": {},
   "source": [
    "# Outlier Detection"
   ]
  },
  {
   "cell_type": "code",
   "execution_count": 22,
   "id": "naked-concern",
   "metadata": {},
   "outputs": [],
   "source": [
    "#task:rimuovere l'1% degli outliers:\n",
    "outlier_fraction = 0.1\n",
    "#andremo a cercare slamente l'1% degli outliers e li rimuoveremo o sostituiremo in seguito"
   ]
  },
  {
   "cell_type": "markdown",
   "id": "designed-pledge",
   "metadata": {},
   "source": [
    "### ABOD"
   ]
  },
  {
   "cell_type": "code",
   "execution_count": 23,
   "id": "painful-breathing",
   "metadata": {},
   "outputs": [],
   "source": [
    "from pyod.models.abod import ABOD"
   ]
  },
  {
   "cell_type": "code",
   "execution_count": 24,
   "id": "posted-retro",
   "metadata": {},
   "outputs": [
    {
     "data": {
      "text/plain": [
       "ABOD(contamination=0.1, method='fast', n_neighbors=5)"
      ]
     },
     "execution_count": 24,
     "metadata": {},
     "output_type": "execute_result"
    }
   ],
   "source": [
    "abod=ABOD(contamination=outlier_fraction)\n",
    "abod.fit(X_train)"
   ]
  },
  {
   "cell_type": "code",
   "execution_count": 25,
   "id": "jewish-kruger",
   "metadata": {},
   "outputs": [
    {
     "data": {
      "text/plain": [
       "(array([0, 1]), array([17666,  2256], dtype=int64))"
      ]
     },
     "execution_count": 25,
     "metadata": {},
     "output_type": "execute_result"
    }
   ],
   "source": [
    "abod_anomalies = abod.predict(X_train)\n",
    "np.unique(abod_anomalies, return_counts=True)"
   ]
  },
  {
   "cell_type": "code",
   "execution_count": 26,
   "id": "minor-tennessee",
   "metadata": {},
   "outputs": [
    {
     "data": {
      "text/plain": [
       "(19922, 14)"
      ]
     },
     "execution_count": 26,
     "metadata": {},
     "output_type": "execute_result"
    }
   ],
   "source": [
    "# select all rows that are not outliers\n",
    "abod_inlier= abod_anomalies!=1\n",
    "abod_outliers= X_train[abod_anomalies==1]\n",
    "X_train.shape"
   ]
  },
  {
   "cell_type": "code",
   "execution_count": 27,
   "id": "medium-joseph",
   "metadata": {},
   "outputs": [
    {
     "name": "stdout",
     "output_type": "stream",
     "text": [
      "(17666, 14) (17666,)\n"
     ]
    }
   ],
   "source": [
    "# select all rows that are not outliers\n",
    "abod_inlier= abod_anomalies!=1\n",
    "abod_outlier= X_train[abod_anomalies==1]\n",
    "X_train1, y_train1 = X_train.iloc[abod_inlier, :], y_train.iloc[abod_inlier]\n",
    "# summarize the shape of the updated training dataset\n",
    "print(X_train1.shape, y_train1.shape)"
   ]
  },
  {
   "cell_type": "markdown",
   "id": "protected-stadium",
   "metadata": {},
   "source": [
    "### Isolation Forest"
   ]
  },
  {
   "cell_type": "code",
   "execution_count": 28,
   "id": "worldwide-oakland",
   "metadata": {},
   "outputs": [],
   "source": [
    "from sklearn.ensemble import IsolationForest"
   ]
  },
  {
   "cell_type": "code",
   "execution_count": 29,
   "id": "continued-belize",
   "metadata": {},
   "outputs": [],
   "source": [
    "iso = IsolationForest(max_samples=100,random_state=42, contamination=0.1) \n",
    "iso.fit(X_train)\n",
    "if_anomalies=iso.predict(X_train)"
   ]
  },
  {
   "cell_type": "code",
   "execution_count": 30,
   "id": "olive-algorithm",
   "metadata": {},
   "outputs": [
    {
     "data": {
      "text/plain": [
       "(array([-1,  1]), array([ 1993, 17929], dtype=int64))"
      ]
     },
     "execution_count": 30,
     "metadata": {},
     "output_type": "execute_result"
    }
   ],
   "source": [
    "np.unique(if_anomalies,return_counts=True)"
   ]
  },
  {
   "cell_type": "code",
   "execution_count": 31,
   "id": "blessed-device",
   "metadata": {},
   "outputs": [
    {
     "name": "stdout",
     "output_type": "stream",
     "text": [
      "(17929, 14) (17929,)\n"
     ]
    }
   ],
   "source": [
    "# select all rows that are not outliers\n",
    "if_inlier=if_anomalies!=-1\n",
    "if_outlier=X_train[if_anomalies==-1]\n",
    "X_train4, y_train4 = X_train.iloc[if_inlier, :], y_train.iloc[if_inlier]\n",
    "# summarize the shape of the updated training dataset\n",
    "print(X_train4.shape, y_train4.shape)"
   ]
  },
  {
   "cell_type": "markdown",
   "id": "integrated-exploration",
   "metadata": {},
   "source": [
    "### Comparison"
   ]
  },
  {
   "cell_type": "code",
   "execution_count": 32,
   "id": "intended-transaction",
   "metadata": {},
   "outputs": [],
   "source": [
    "if_indexes=if_outlier.index.tolist()\n",
    "abod_indexes=abod_outlier.index.tolist()"
   ]
  },
  {
   "cell_type": "code",
   "execution_count": 33,
   "id": "laughing-athletics",
   "metadata": {},
   "outputs": [
    {
     "name": "stdout",
     "output_type": "stream",
     "text": [
      "743\n"
     ]
    }
   ],
   "source": [
    "#comparison if with abod\n",
    "count_if_abod=0\n",
    "for i in set(if_indexes).intersection(set(abod_indexes)):\n",
    "    count_if_abod= count_if_abod+1\n",
    "print(count_if_abod) "
   ]
  },
  {
   "cell_type": "code",
   "execution_count": 34,
   "id": "signal-standard",
   "metadata": {},
   "outputs": [],
   "source": [
    "X_train_clean=X_train.copy()\n",
    "y_train_clean=y_train.copy()"
   ]
  },
  {
   "cell_type": "code",
   "execution_count": 35,
   "id": "nasty-tobacco",
   "metadata": {},
   "outputs": [
    {
     "name": "stdout",
     "output_type": "stream",
     "text": [
      "Dataset before outliers removed: (19922, 14) (19922,)\n",
      "Dataset cleaned: (19179, 14) (19179,)\n"
     ]
    }
   ],
   "source": [
    "for index in set(if_indexes).intersection(set(abod_indexes)):\n",
    "    X_train_clean.drop(index,inplace=True)\n",
    "    y_train_clean.drop(index, inplace=True)\n",
    "print('Dataset before outliers removed:',X_train.shape, y_train.shape)\n",
    "print('Dataset cleaned:', X_train_clean.shape, y_train_clean.shape)"
   ]
  },
  {
   "cell_type": "code",
   "execution_count": 36,
   "id": "canadian-senior",
   "metadata": {},
   "outputs": [
    {
     "data": {
      "text/plain": [
       "((19179, 14), (19179,))"
      ]
     },
     "execution_count": 36,
     "metadata": {},
     "output_type": "execute_result"
    }
   ],
   "source": [
    "X_train=X_train_clean\n",
    "y_train=y_train_clean\n",
    "X_train.shape,y_train.shape"
   ]
  },
  {
   "cell_type": "code",
   "execution_count": 37,
   "id": "medical-vegetable",
   "metadata": {},
   "outputs": [],
   "source": [
    "from sklearn.metrics import accuracy_score, f1_score, classification_report, confusion_matrix\n",
    "from sklearn.metrics import roc_curve, auc, roc_auc_score\n",
    "from sklearn.model_selection import GridSearchCV\n",
    "from sklearn.metrics import plot_confusion_matrix\n",
    "from sklearn import metrics"
   ]
  },
  {
   "cell_type": "markdown",
   "id": "informational-domestic",
   "metadata": {},
   "source": [
    "# Support Vector Machines"
   ]
  },
  {
   "cell_type": "markdown",
   "id": "annoying-forth",
   "metadata": {},
   "source": [
    "## Nonlinear SVM"
   ]
  },
  {
   "cell_type": "code",
   "execution_count": 40,
   "id": "objective-columbia",
   "metadata": {},
   "outputs": [],
   "source": [
    "def report(results, n_top=3):\n",
    "    for i in range(1, n_top + 1):\n",
    "        candidates = np.flatnonzero(results['rank_test_score'] == i)\n",
    "        for candidate in candidates:\n",
    "            print(\"Mean validation score: {0:.3f} (std: {1:.3f})\".format(\n",
    "                  results['mean_test_score'][candidate],\n",
    "                  results['std_test_score'][candidate]))"
   ]
  },
  {
   "cell_type": "code",
   "execution_count": 43,
   "id": "demonstrated-poker",
   "metadata": {},
   "outputs": [
    {
     "name": "stdout",
     "output_type": "stream",
     "text": [
      "Fitting 5 folds for each of 9 candidates, totalling 45 fits\n",
      "0.9928046653334295 {'C': 1000.0, 'kernel': 'rbf'}\n",
      "Mean validation score: 0.993 (std: 0.001)\n"
     ]
    }
   ],
   "source": [
    "from sklearn.model_selection import GridSearchCV\n",
    "from sklearn.svm import SVC\n",
    "grid_params= {'C': [100.0,500.0, 1000.0],\n",
    "              #'gamma': [0.00001, 0.001, 0.01, 0.1, 1, 10, 100], \n",
    "             'kernel': ['poly','rbf','sigmoid']}\n",
    "gs= GridSearchCV(SVC(),\n",
    "                grid_params,\n",
    "                verbose=1,\n",
    "                cv=5,\n",
    "                n_jobs=-1)\n",
    "gs_results=gs.fit(X_train,y_train)\n",
    "gs_results.cv_results_.keys()\n",
    "\n",
    "print(gs_results.best_score_,gs_results.best_params_)\n",
    "report(gs_results.cv_results_, n_top=1)"
   ]
  },
  {
   "cell_type": "code",
   "execution_count": 210,
   "id": "celtic-dollar",
   "metadata": {},
   "outputs": [
    {
     "data": {
      "text/plain": [
       "SVC(C=1000.0, gamma='auto', random_state=42)"
      ]
     },
     "execution_count": 210,
     "metadata": {},
     "output_type": "execute_result"
    }
   ],
   "source": [
    "from sklearn.svm import SVC\n",
    "clf=SVC(C=1000.0, kernel='rbf',gamma='auto', random_state=42)\n",
    "clf.fit(X_train,y_train)"
   ]
  },
  {
   "cell_type": "code",
   "execution_count": 211,
   "id": "social-plaza",
   "metadata": {},
   "outputs": [],
   "source": [
    "y_pred_val=clf.predict(X_val)"
   ]
  },
  {
   "cell_type": "code",
   "execution_count": 212,
   "id": "curious-shoot",
   "metadata": {},
   "outputs": [
    {
     "data": {
      "text/plain": [
       "array([    0,     1,     2, ..., 18955, 19052, 19101])"
      ]
     },
     "execution_count": 212,
     "metadata": {},
     "output_type": "execute_result"
    }
   ],
   "source": [
    "clf.support_"
   ]
  },
  {
   "cell_type": "code",
   "execution_count": 213,
   "id": "incomplete-chapel",
   "metadata": {},
   "outputs": [
    {
     "data": {
      "text/plain": [
       "array([[ 2.14424973e+01,  9.56074219e+03,  1.79032751e+03,\n",
       "         1.57192383e+03,  0.00000000e+00,  4.56024504e+00,\n",
       "         1.31740942e+03,  2.59521942e+01,  5.67784033e+03,\n",
       "         9.29862915e+02,  8.18161804e+02,  0.00000000e+00,\n",
       "         5.02569294e+00,  6.63488098e+02],\n",
       "       [ 1.47545834e+01,  9.34541016e+03,  1.64957031e+03,\n",
       "         1.61499023e+03,  4.41430664e+02,  2.52627540e+00,\n",
       "         5.42584106e+02,  8.36458874e+00,  5.31285498e+03,\n",
       "         9.32024048e+02,  9.09611755e+02,  3.19428009e+02,\n",
       "         1.13995159e+00,  2.68295013e+02],\n",
       "       [-1.27828157e+00,  6.04006348e+03,  2.78639917e+03,\n",
       "         2.91774902e+03,  6.13696289e+02, -1.92570798e-02,\n",
       "         1.13018909e+03, -7.72449732e-01,  2.86294043e+03,\n",
       "         1.28863464e+03,  1.22540796e+03,  4.54283783e+02,\n",
       "         4.01384234e-01,  5.02266693e+02],\n",
       "       [ 5.35230219e-01,  9.00087891e+03,  2.06170190e+03,\n",
       "         2.01335449e+03,  5.59863281e+02,  4.40245092e-01,\n",
       "         6.42253662e+02,  1.50903502e+01,  5.88212402e+03,\n",
       "         9.72912964e+02,  9.50114197e+02,  3.84903748e+02,\n",
       "         1.23914957e+00,  2.45118134e+02],\n",
       "       [ 1.10958948e+01,  9.65764160e+03,  2.50598511e+03,\n",
       "         2.42248535e+03,  0.00000000e+00,  2.04986143e+00,\n",
       "         7.05523865e+02,  1.47511473e+01,  5.60954248e+03,\n",
       "         1.27774646e+03,  1.25188525e+03,  0.00000000e+00,\n",
       "         2.35395789e+00,  3.40678375e+02],\n",
       "       [-7.47449756e-01,  9.82990723e+03,  4.54885010e+03,\n",
       "         4.72653809e+03,  1.07666016e+01, -3.75100672e-01,\n",
       "         2.19171484e+03,  1.97544470e-01,  6.17467188e+03,\n",
       "         2.21932495e+03,  2.09820386e+03,  2.56794300e+01,\n",
       "         5.23442805e-01,  1.22507263e+03],\n",
       "       [ 4.62000656e+00,  9.73300781e+03,  1.19499292e+03,\n",
       "         6.99829102e+02,  9.68994141e+01,  1.61112607e+00,\n",
       "         1.12829443e+03,  3.65642929e+01,  7.33391455e+03,\n",
       "         6.17113770e+02,  4.89478699e+02,  1.01881584e+02,\n",
       "         3.45517421e+00,  4.55630493e+02],\n",
       "       [ 7.44459391e+00,  9.51767578e+03,  1.18569177e+03,\n",
       "         7.75195312e+02,  0.00000000e+00,  2.19733548e+00,\n",
       "         1.11476990e+03,  1.86773796e+01,  5.66178809e+03,\n",
       "         6.44082703e+02,  5.51672363e+02,  0.00000000e+00,\n",
       "         3.09807611e+00,  4.43976257e+02],\n",
       "       [ 1.43483543e+00,  9.71147461e+03,  1.90218628e+03,\n",
       "         1.49655762e+03,  6.45996094e+01,  1.27496040e+00,\n",
       "         1.45361096e+03,  4.53784180e+00,  5.70217969e+03,\n",
       "         9.19300964e+02,  7.15712463e+02,  1.08894707e+02,\n",
       "         1.92752850e+00,  6.23138489e+02],\n",
       "       [ 1.10264568e+01,  9.53920898e+03,  2.41679712e+03,\n",
       "         2.33635254e+03,  0.00000000e+00,  1.30058146e+00,\n",
       "         8.74717896e+02,  1.14631891e+01,  5.57205029e+03,\n",
       "         1.19442273e+03,  1.13694824e+03,  0.00000000e+00,\n",
       "         1.82002223e+00,  4.94247803e+02]])"
      ]
     },
     "execution_count": 213,
     "metadata": {},
     "output_type": "execute_result"
    }
   ],
   "source": [
    "clf.support_vectors_[:10]"
   ]
  },
  {
   "cell_type": "code",
   "execution_count": 214,
   "id": "proof-settle",
   "metadata": {},
   "outputs": [
    {
     "data": {
      "text/plain": [
       "(array([18770,   371]), 19179)"
      ]
     },
     "execution_count": 214,
     "metadata": {},
     "output_type": "execute_result"
    }
   ],
   "source": [
    "clf.n_support_, len(X_train)"
   ]
  },
  {
   "cell_type": "code",
   "execution_count": 215,
   "id": "detected-operations",
   "metadata": {},
   "outputs": [
    {
     "name": "stdout",
     "output_type": "stream",
     "text": [
      "Accuracy 0.9796407185628743\n",
      "F1-score [0.98971567 0.        ]\n",
      "              precision    recall  f1-score   support\n",
      "\n",
      "           0       0.98      1.00      0.99      2454\n",
      "           1       0.00      0.00      0.00        51\n",
      "\n",
      "    accuracy                           0.98      2505\n",
      "   macro avg       0.49      0.50      0.49      2505\n",
      "weighted avg       0.96      0.98      0.97      2505\n",
      "\n",
      "[[2454    0]\n",
      " [  51    0]]\n"
     ]
    }
   ],
   "source": [
    "print('Accuracy {}'.format(accuracy_score(y_val,y_pred_val)))\n",
    "print('F1-score {}'.format(f1_score(y_val,y_pred_val, average=None)))\n",
    "print(classification_report(y_val,y_pred_val))\n",
    "print(confusion_matrix(y_val,y_pred_val))  "
   ]
  },
  {
   "cell_type": "code",
   "execution_count": 216,
   "id": "saved-preference",
   "metadata": {},
   "outputs": [
    {
     "name": "stdout",
     "output_type": "stream",
     "text": [
      "[[2454    0]\n",
      " [  51    0]]\n"
     ]
    },
    {
     "data": {
      "image/png": "[encoded data removed]",
      "text/plain": [
       "<Figure size 432x288 with 2 Axes>"
      ]
     },
     "metadata": {},
     "output_type": "display_data"
    }
   ],
   "source": [
    "from sklearn.metrics import plot_confusion_matrix\n",
    "sns.set_style('white')\n",
    "\n",
    "disp = plot_confusion_matrix(clf,X_val,y_val,\n",
    "                            cmap = plt.cm.Blues)\n",
    "disp.ax_.set_title('Confusion Matrix validation set')\n",
    "print(disp.confusion_matrix)\n",
    "plt.show()"
   ]
  },
  {
   "cell_type": "code",
   "execution_count": 217,
   "id": "golden-illinois",
   "metadata": {},
   "outputs": [
    {
     "name": "stdout",
     "output_type": "stream",
     "text": [
      "0.5\n"
     ]
    }
   ],
   "source": [
    "fpr,tpr,_=roc_curve(y_val,y_pred_val)\n",
    "roc_auc=auc(fpr,tpr)\n",
    "print(roc_auc)"
   ]
  },
  {
   "cell_type": "markdown",
   "id": "devoted-original",
   "metadata": {},
   "source": [
    "## Linear SVM"
   ]
  },
  {
   "cell_type": "code",
   "execution_count": 38,
   "id": "israeli-furniture",
   "metadata": {},
   "outputs": [],
   "source": [
    "from sklearn.svm import LinearSVC"
   ]
  },
  {
   "cell_type": "code",
   "execution_count": 53,
   "id": "regional-watershed",
   "metadata": {},
   "outputs": [
    {
     "name": "stdout",
     "output_type": "stream",
     "text": [
      "Fitting 5 folds for each of 6 candidates, totalling 30 fits\n",
      "0.9892069912025374 {'C': 0.001}\n",
      "Mean validation score: 0.989 (std: 0.001)\n"
     ]
    }
   ],
   "source": [
    "from sklearn.model_selection import GridSearchCV\n",
    "grid_params= {'C':[0.001,10.0,20.0,30.0,40.0,50.0]}\n",
    "gs= GridSearchCV(LinearSVC(),\n",
    "                grid_params,\n",
    "                verbose=1,\n",
    "                cv=5,\n",
    "                n_jobs=-1)\n",
    "gs_results=gs.fit(X_train,y_train)\n",
    "gs_results.cv_results_.keys()\n",
    "\n",
    "print(gs_results.best_score_,gs_results.best_params_)\n",
    "report(gs_results.cv_results_, n_top=1)"
   ]
  },
  {
   "cell_type": "code",
   "execution_count": 42,
   "id": "alien-peeing",
   "metadata": {},
   "outputs": [
    {
     "name": "stdout",
     "output_type": "stream",
     "text": [
      "Fitting 5 folds for each of 5 candidates, totalling 25 fits\n",
      "0.9891027023205672 {'C': 100.0}\n",
      "Mean validation score: 0.989 (std: 0.001)\n"
     ]
    }
   ],
   "source": [
    "from sklearn.model_selection import GridSearchCV\n",
    "from sklearn.svm import SVC\n",
    "grid_params= {'C':[60.0,70.0,80.0,90.0,100.0]}\n",
    "gs= GridSearchCV(LinearSVC(),\n",
    "                grid_params,\n",
    "                verbose=1,\n",
    "                cv=5,\n",
    "                n_jobs=-1)\n",
    "gs_results=gs.fit(X_train,y_train)\n",
    "gs_results.cv_results_.keys()\n",
    "\n",
    "print(gs_results.best_score_,gs_results.best_params_)\n",
    "report(gs_results.cv_results_, n_top=1)"
   ]
  },
  {
   "cell_type": "code",
   "execution_count": 43,
   "id": "geological-china",
   "metadata": {},
   "outputs": [
    {
     "data": {
      "text/plain": [
       "LinearSVC(C=80.0, class_weight='balanced', random_state=42)"
      ]
     },
     "execution_count": 43,
     "metadata": {},
     "output_type": "execute_result"
    }
   ],
   "source": [
    "clf=LinearSVC(C=80.0,class_weight='balanced',loss=\"squared_hinge\",random_state=42)\n",
    "clf.fit(X_train, y_train)"
   ]
  },
  {
   "cell_type": "code",
   "execution_count": 44,
   "id": "accredited-foster",
   "metadata": {},
   "outputs": [],
   "source": [
    "y_pred_val=clf.predict(X_val)"
   ]
  },
  {
   "cell_type": "code",
   "execution_count": 45,
   "id": "parental-choir",
   "metadata": {},
   "outputs": [
    {
     "name": "stdout",
     "output_type": "stream",
     "text": [
      "Accuracy 0.973253493013972\n",
      "F1-score [0.98629016 0.45528455]\n",
      "              precision    recall  f1-score   support\n",
      "\n",
      "           0       0.99      0.98      0.99      2454\n",
      "           1       0.39      0.55      0.46        51\n",
      "\n",
      "    accuracy                           0.97      2505\n",
      "   macro avg       0.69      0.77      0.72      2505\n",
      "weighted avg       0.98      0.97      0.98      2505\n",
      "\n",
      "[[2410   44]\n",
      " [  23   28]]\n"
     ]
    }
   ],
   "source": [
    "print('Accuracy %s' % accuracy_score(y_val,y_pred_val))\n",
    "print('F1-score %s' % f1_score(y_val, y_pred_val,average=None))\n",
    "print(classification_report(y_val,y_pred_val))\n",
    "print(confusion_matrix(y_val, y_pred_val)) "
   ]
  },
  {
   "cell_type": "code",
   "execution_count": 46,
   "id": "thermal-borough",
   "metadata": {},
   "outputs": [
    {
     "name": "stdout",
     "output_type": "stream",
     "text": [
      "[[2410   44]\n",
      " [  23   28]]\n"
     ]
    },
    {
     "data": {
      "image/png": "[encoded data removed]",
      "text/plain": [
       "<Figure size 432x288 with 2 Axes>"
      ]
     },
     "metadata": {},
     "output_type": "display_data"
    }
   ],
   "source": [
    "from sklearn.metrics import plot_confusion_matrix\n",
    "sns.set_style('white')\n",
    "\n",
    "disp = plot_confusion_matrix(clf,X_val,y_val,\n",
    "                            cmap = plt.cm.Blues)\n",
    "disp.ax_.set_title('Confusion Matrix validation set')\n",
    "print(disp.confusion_matrix)\n",
    "plt.show()"
   ]
  },
  {
   "cell_type": "code",
   "execution_count": 47,
   "id": "diverse-token",
   "metadata": {},
   "outputs": [
    {
     "name": "stdout",
     "output_type": "stream",
     "text": [
      "0.7655448487463445\n"
     ]
    }
   ],
   "source": [
    "from sklearn.metrics import roc_curve, auc, roc_auc_score\n",
    "fpr,tpr,_=roc_curve(y_val,y_pred_val)\n",
    "roc_auc=auc(fpr,tpr)\n",
    "print(roc_auc)\n",
    "\n",
    "roc_auc = roc_auc_score(y_val, y_pred_val, average=None)"
   ]
  },
  {
   "cell_type": "code",
   "execution_count": 48,
   "id": "respective-cincinnati",
   "metadata": {},
   "outputs": [
    {
     "data": {
      "image/png": "[encoded data removed]",
      "text/plain": [
       "<Figure size 576x360 with 1 Axes>"
      ]
     },
     "metadata": {},
     "output_type": "display_data"
    }
   ],
   "source": [
    "plt.figure(figsize=(8, 5))\n",
    "plt.plot(fpr, tpr, label='ROC curve (area = %0.2f)' % (roc_auc))\n",
    "    \n",
    "plt.plot([0, 1], [0, 1], 'k--')\n",
    "plt.xlim([0.0, 1.0])\n",
    "plt.ylim([0.0, 1.05])\n",
    "plt.xlabel('False Positive Rate', fontsize=20)\n",
    "plt.ylabel('True Positive Rate', fontsize=20) \n",
    "plt.tick_params(axis='both', which='major', labelsize=22)\n",
    "plt.legend(loc=\"lower right\", fontsize=14, frameon=False)\n",
    "plt.show()"
   ]
  },
  {
   "cell_type": "code",
   "execution_count": 49,
   "id": "aware-departure",
   "metadata": {},
   "outputs": [],
   "source": [
    "decision_function = clf.decision_function(X_train)\n",
    "support_vector_indices =  np.where(np.abs(decision_function) <= 1 + 1e-15)[0]\n",
    "support_vectors = X_train.iloc[support_vector_indices]"
   ]
  },
  {
   "cell_type": "code",
   "execution_count": 50,
   "id": "sporting-royal",
   "metadata": {},
   "outputs": [
    {
     "data": {
      "image/png": "[encoded data removed]",
      "text/plain": [
       "<Figure size 432x288 with 1 Axes>"
      ]
     },
     "metadata": {},
     "output_type": "display_data"
    }
   ],
   "source": [
    "# Visualize support vectors\n",
    "plt.scatter(X_train.iloc[:,0], X_train.iloc[:,7])\n",
    "plt.scatter(support_vectors.iloc[:,0], support_vectors.iloc[:,7], color='red')\n",
    "plt.title('Linearly separable data with support vectors')\n",
    "#plt.xlabel('X1')\n",
    "#plt.ylabel('X2')\n",
    "plt.show()"
   ]
  },
  {
   "cell_type": "markdown",
   "id": "romance-arbor",
   "metadata": {},
   "source": [
    "## BLIND TEST"
   ]
  },
  {
   "cell_type": "code",
   "execution_count": 51,
   "id": "outstanding-syntax",
   "metadata": {},
   "outputs": [],
   "source": [
    "y_pred_test=clf.predict(X_test)"
   ]
  },
  {
   "cell_type": "code",
   "execution_count": 52,
   "id": "weighted-horizontal",
   "metadata": {},
   "outputs": [
    {
     "name": "stdout",
     "output_type": "stream",
     "text": [
      "Accuracy test set 0.9875631558492033\n"
     ]
    }
   ],
   "source": [
    "print('Accuracy test set',metrics.accuracy_score(y_test,y_pred_test))"
   ]
  },
  {
   "cell_type": "code",
   "execution_count": 53,
   "id": "built-anchor",
   "metadata": {},
   "outputs": [
    {
     "name": "stdout",
     "output_type": "stream",
     "text": [
      "Accuracy 0.9875631558492033\n",
      "F1-score [0.99364827 0.7037037 ]\n",
      "              precision    recall  f1-score   support\n",
      "\n",
      "           0       0.99      0.99      0.99      2522\n",
      "           1       0.67      0.75      0.70        51\n",
      "\n",
      "    accuracy                           0.99      2573\n",
      "   macro avg       0.83      0.87      0.85      2573\n",
      "weighted avg       0.99      0.99      0.99      2573\n",
      "\n",
      "[[2503   19]\n",
      " [  13   38]]\n"
     ]
    }
   ],
   "source": [
    "print('Accuracy %s' % accuracy_score(y_test,y_pred_test))\n",
    "print('F1-score %s' % f1_score(y_test,y_pred_test,average=None))\n",
    "print(classification_report(y_test,y_pred_test))\n",
    "print(confusion_matrix(y_test,y_pred_test)) "
   ]
  },
  {
   "cell_type": "code",
   "execution_count": 54,
   "id": "anonymous-reward",
   "metadata": {},
   "outputs": [
    {
     "name": "stdout",
     "output_type": "stream",
     "text": [
      "[[2503   19]\n",
      " [  13   38]]\n"
     ]
    },
    {
     "data": {
      "image/png": "[encoded data removed]",
      "text/plain": [
       "<Figure size 432x288 with 2 Axes>"
      ]
     },
     "metadata": {},
     "output_type": "display_data"
    }
   ],
   "source": [
    "from sklearn.metrics import plot_confusion_matrix\n",
    "sns.set_style('white')\n",
    "\n",
    "disp = plot_confusion_matrix(clf,X_test,y_test,\n",
    "                            cmap = plt.cm.Blues)\n",
    "disp.ax_.set_title('Confusion Matrix')\n",
    "print(disp.confusion_matrix)\n",
    "plt.show()"
   ]
  },
  {
   "cell_type": "code",
   "execution_count": 55,
   "id": "wrapped-gentleman",
   "metadata": {},
   "outputs": [
    {
     "name": "stdout",
     "output_type": "stream",
     "text": [
      "0.8687821679028471\n"
     ]
    }
   ],
   "source": [
    "fpr, tpr, _ = roc_curve(y_test, y_pred_test)\n",
    "roc_auc = auc(fpr, tpr)\n",
    "print(roc_auc)\n",
    "\n",
    "#metodo alternativo calcolare roc\n",
    "roc_auc = roc_auc_score(y_test, y_pred_test, average=None)"
   ]
  },
  {
   "cell_type": "code",
   "execution_count": 56,
   "id": "growing-bracket",
   "metadata": {},
   "outputs": [
    {
     "data": {
      "image/png": "[encoded data removed]",
      "text/plain": [
       "<Figure size 576x360 with 1 Axes>"
      ]
     },
     "metadata": {},
     "output_type": "display_data"
    }
   ],
   "source": [
    "plt.figure(figsize=(8, 5))\n",
    "plt.plot(fpr, tpr, label='ROC curve (area = %0.2f)' % (roc_auc))\n",
    "    \n",
    "plt.plot([0, 1], [0, 1], 'k--')\n",
    "plt.xlim([0.0, 1.0])\n",
    "plt.ylim([0.0, 1.05])\n",
    "plt.xlabel('False Positive Rate', fontsize=20)\n",
    "plt.ylabel('True Positive Rate', fontsize=20) \n",
    "plt.tick_params(axis='both', which='major', labelsize=22)\n",
    "plt.legend(loc=\"lower right\", fontsize=14, frameon=False)\n",
    "plt.show()"
   ]
  },
  {
   "cell_type": "markdown",
   "id": "prerequisite-appeal",
   "metadata": {},
   "source": [
    "## Random Oversamling"
   ]
  },
  {
   "cell_type": "code",
   "execution_count": 57,
   "id": "postal-valentine",
   "metadata": {},
   "outputs": [],
   "source": [
    "from collections import Counter\n",
    "from imblearn.over_sampling import RandomOverSampler"
   ]
  },
  {
   "cell_type": "code",
   "execution_count": 58,
   "id": "understood-venezuela",
   "metadata": {},
   "outputs": [
    {
     "name": "stdout",
     "output_type": "stream",
     "text": [
      "Resampled dataset shape Counter({0: 18808, 1: 18808})\n"
     ]
    }
   ],
   "source": [
    "ros = RandomOverSampler(random_state=42)\n",
    "X_res, y_res = ros.fit_resample(X_train, y_train)\n",
    "print('Resampled dataset shape %s' % Counter(y_res))"
   ]
  },
  {
   "cell_type": "code",
   "execution_count": 64,
   "id": "rough-state",
   "metadata": {},
   "outputs": [
    {
     "name": "stdout",
     "output_type": "stream",
     "text": [
      "Accuracy 0.881849980567431\n",
      "F1-score [0.93594606 0.24      ]\n",
      "              precision    recall  f1-score   support\n",
      "\n",
      "           0       1.00      0.88      0.94      2522\n",
      "           1       0.14      0.94      0.24        51\n",
      "\n",
      "    accuracy                           0.88      2573\n",
      "   macro avg       0.57      0.91      0.59      2573\n",
      "weighted avg       0.98      0.88      0.92      2573\n",
      "\n",
      "[[2221  301]\n",
      " [   3   48]]\n"
     ]
    }
   ],
   "source": [
    "clf.fit(X_res, y_res)\n",
    "\n",
    "y_pred_random = clf.predict(X_test)\n",
    "\n",
    "print('Accuracy %s' % accuracy_score(y_test, y_pred))\n",
    "print('F1-score %s' % f1_score(y_test, y_pred, average=None))\n",
    "print(classification_report(y_test, y_pred))\n",
    "print(confusion_matrix(y_test,y_pred))"
   ]
  },
  {
   "cell_type": "markdown",
   "id": "expired-waterproof",
   "metadata": {},
   "source": [
    "### CondenseNearestNeighbour"
   ]
  },
  {
   "cell_type": "code",
   "execution_count": 60,
   "id": "labeled-transsexual",
   "metadata": {},
   "outputs": [],
   "source": [
    "from imblearn.under_sampling import CondensedNearestNeighbour"
   ]
  },
  {
   "cell_type": "code",
   "execution_count": 61,
   "id": "genuine-audio",
   "metadata": {},
   "outputs": [
    {
     "name": "stdout",
     "output_type": "stream",
     "text": [
      "Resampled dataset shape Counter({0: 585, 1: 371})\n"
     ]
    }
   ],
   "source": [
    "cnn = CondensedNearestNeighbour(random_state=42, n_jobs=10)\n",
    "X_res_cnn, y_res_cnn = cnn.fit_resample(X_train, y_train)\n",
    "print('Resampled dataset shape %s' % Counter(y_res_cnn))"
   ]
  },
  {
   "cell_type": "code",
   "execution_count": 62,
   "id": "present-frame",
   "metadata": {},
   "outputs": [
    {
     "name": "stdout",
     "output_type": "stream",
     "text": [
      "Accuracy 0.9852312475709288\n",
      "F1-score [0.99245133 0.66071429]\n",
      "              precision    recall  f1-score   support\n",
      "\n",
      "           0       0.99      0.99      0.99      2522\n",
      "           1       0.61      0.73      0.66        51\n",
      "\n",
      "    accuracy                           0.99      2573\n",
      "   macro avg       0.80      0.86      0.83      2573\n",
      "weighted avg       0.99      0.99      0.99      2573\n",
      "\n",
      "[[2498   24]\n",
      " [  14   37]]\n"
     ]
    }
   ],
   "source": [
    "clf.fit(X_res_cnn, y_res_cnn)\n",
    "\n",
    "dt_pred_cnn = clf.predict(X_test)\n",
    "\n",
    "print('Accuracy %s' % accuracy_score(y_test, dt_pred_cnn))\n",
    "print('F1-score %s' % f1_score(y_test, dt_pred_cnn, average=None))\n",
    "print(classification_report(y_test, dt_pred_cnn))\n",
    "print(confusion_matrix(y_test,dt_pred_cnn))"
   ]
  },
  {
   "cell_type": "code",
   "execution_count": 65,
   "id": "centered-albany",
   "metadata": {},
   "outputs": [
    {
     "name": "stdout",
     "output_type": "stream",
     "text": [
      "0.9109133740728647\n"
     ]
    }
   ],
   "source": [
    "fpr_random,tpr_random,_=roc_curve(y_test,y_pred_random)\n",
    "roc_auc_random=auc(fpr_random,tpr_random)\n",
    "print(roc_auc_random)"
   ]
  },
  {
   "cell_type": "code",
   "execution_count": 66,
   "id": "becoming-identification",
   "metadata": {},
   "outputs": [
    {
     "name": "stdout",
     "output_type": "stream",
     "text": [
      "0.8579869695697471\n"
     ]
    }
   ],
   "source": [
    "fpr_cnn,tpr_cnn,_=roc_curve(y_test,dt_pred_cnn)\n",
    "roc_auc_cnn=auc(fpr_cnn,tpr_cnn)\n",
    "print(roc_auc_cnn)"
   ]
  },
  {
   "cell_type": "code",
   "execution_count": 67,
   "id": "accurate-musician",
   "metadata": {},
   "outputs": [
    {
     "data": {
      "image/png": "[encoded data removed]",
      "text/plain": [
       "<Figure size 576x360 with 1 Axes>"
      ]
     },
     "metadata": {},
     "output_type": "display_data"
    }
   ],
   "source": [
    "plt.figure(figsize=(8, 5))\n",
    "plt.plot(fpr_random, tpr_random, label='Rule based classifier + Random oversampling ROC curve (area = %0.2f)' % (roc_auc_random))\n",
    "plt.plot(fpr_cnn, tpr_cnn, label='Rule based classifier + Condensed nearest neighbor ROC curve (area = %0.2f)' % (roc_auc_cnn))\n",
    "    \n",
    "plt.plot([0, 1], [0, 1], 'k--')\n",
    "plt.xlim([0.0, 1.0])\n",
    "plt.ylim([0.0, 1.03])\n",
    "plt.xlabel('False Positive Rate', fontsize=20)\n",
    "plt.ylabel('True Positive Rate', fontsize=20) \n",
    "plt.tick_params(axis='both', which='major', labelsize=22)\n",
    "plt.legend(loc=\"lower right\", fontsize=9, frameon=False)\n",
    "plt.show()"
   ]
  },
  {
   "cell_type": "code",
   "execution_count": null,
   "id": "ranking-lover",
   "metadata": {},
   "outputs": [],
   "source": []
  }
 ],
 "metadata": {
  "kernelspec": {
   "display_name": "Python 3 (ipykernel)",
   "language": "python",
   "name": "python3"
  },
  "language_info": {
   "codemirror_mode": {
    "name": "ipython",
    "version": 3
   },
   "file_extension": ".py",
   "mimetype": "text/x-python",
   "name": "python",
   "nbconvert_exporter": "python",
   "pygments_lexer": "ipython3",
   "version": "3.10.5"
  }
 },
 "nbformat": 4,
 "nbformat_minor": 5
}
