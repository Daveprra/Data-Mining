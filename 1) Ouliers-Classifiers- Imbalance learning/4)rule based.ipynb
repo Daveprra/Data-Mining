{
 "cells": [
  {
   "cell_type": "code",
   "execution_count": 1,
   "id": "6eecc82a",
   "metadata": {},
   "outputs": [],
   "source": [
    "%matplotlib inline\n",
    "import utils\n",
    "import os\n",
    "import IPython.display as ipd\n",
    "import numpy as np\n",
    "import pandas as pd\n",
    "import matplotlib.pyplot as plt\n",
    "import seaborn as sns\n",
    "import sklearn as skl\n",
    "import sklearn.utils, sklearn.preprocessing, sklearn.decomposition, sklearn.svm\n",
    "from sklearn import preprocessing\n",
    "from sklearn.preprocessing import label_binarize\n",
    "import librosa\n",
    "import librosa.display\n",
    "import missingno as msno \n",
    "%matplotlib inline\n",
    "import seaborn as sns\n",
    "from sklearn.utils import shuffle\n",
    "from sklearn.preprocessing import MultiLabelBinarizer\n",
    "from sklearn.decomposition import PCA\n",
    "from sklearn.preprocessing import LabelEncoder, LabelBinarizer, StandardScaler, RobustScaler\n",
    "# importing warning in order to ignore them\n",
    "import warnings \n",
    "warnings.filterwarnings('always')   #suppresses all warnings\n",
    "warnings.filterwarnings('ignore')"
   ]
  },
  {
   "cell_type": "code",
   "execution_count": 2,
   "id": "2cb97d74",
   "metadata": {},
   "outputs": [
    {
     "data": {
      "text/plain": [
       "((106574, 52), (163, 4), (106574, 518), (13129, 249))"
      ]
     },
     "execution_count": 2,
     "metadata": {},
     "output_type": "execute_result"
    }
   ],
   "source": [
    "# Directory where mp3 are stored.\n",
    "AUDIO_DIR = os.environ.get('AUDIO_DIR')\n",
    "\n",
    "tracks= utils.load('C:/Users/giuli/Desktop/DM2 PROGETTO/file/tracks.csv')\n",
    "genres= utils.load('C:/Users/giuli/Desktop/DM2 PROGETTO/file/genres.csv')\n",
    "features= utils.load('C:/Users/giuli/Desktop/DM2 PROGETTO/file/features.csv')\n",
    "echonest= utils.load('C:/Users/giuli/Desktop/DM2 PROGETTO/file/echonest.csv')\n",
    "\n",
    "np.testing.assert_array_equal(features.index, tracks.index)\n",
    "assert echonest.index.isin(tracks.index).all()\n",
    "\n",
    "tracks.shape, genres.shape, features.shape, echonest.shape"
   ]
  },
  {
   "cell_type": "code",
   "execution_count": 3,
   "id": "44b10e26",
   "metadata": {},
   "outputs": [
    {
     "data": {
      "text/plain": [
       "(106574, 22)"
      ]
     },
     "execution_count": 3,
     "metadata": {},
     "output_type": "execute_result"
    }
   ],
   "source": [
    "tracks_cut=['album','artist']\n",
    "tracks.drop(tracks_cut,axis=1,inplace=True)\n",
    "tracks.shape"
   ]
  },
  {
   "cell_type": "code",
   "execution_count": 4,
   "id": "6bfb0dc8",
   "metadata": {},
   "outputs": [],
   "source": [
    "tracks=tracks.droplevel(0,axis=1)"
   ]
  },
  {
   "cell_type": "code",
   "execution_count": 5,
   "id": "4298fa61",
   "metadata": {},
   "outputs": [],
   "source": [
    "tracks_cut=['composer','comments', 'date_created','date_recorded',\n",
    "            'license','number','title','language_code',\n",
    "            'publisher', 'tags','information','lyricist','genres','genres_all',\n",
    "            'favorites','listens','interest','bit_rate', 'duration']\n",
    "tracks.drop(tracks_cut,axis=1,inplace=True)"
   ]
  },
  {
   "cell_type": "code",
   "execution_count": 6,
   "id": "be955262",
   "metadata": {},
   "outputs": [],
   "source": [
    "df_target=features[['spectral_rolloff','spectral_centroid']]"
   ]
  },
  {
   "cell_type": "code",
   "execution_count": 7,
   "id": "2cd4d31b",
   "metadata": {},
   "outputs": [],
   "source": [
    "df_target=df_target.droplevel(0,axis=1)"
   ]
  },
  {
   "cell_type": "code",
   "execution_count": 8,
   "id": "f472d30f",
   "metadata": {},
   "outputs": [
    {
     "data": {
      "text/html": [
       "<div>\n",
       "<style scoped>\n",
       "    .dataframe tbody tr th:only-of-type {\n",
       "        vertical-align: middle;\n",
       "    }\n",
       "\n",
       "    .dataframe tbody tr th {\n",
       "        vertical-align: top;\n",
       "    }\n",
       "\n",
       "    .dataframe thead th {\n",
       "        text-align: right;\n",
       "    }\n",
       "</style>\n",
       "<table border=\"1\" class=\"dataframe\">\n",
       "  <thead>\n",
       "    <tr style=\"text-align: right;\">\n",
       "      <th></th>\n",
       "      <th>roll_kurtosis</th>\n",
       "      <th>roll_max</th>\n",
       "      <th>roll_mean</th>\n",
       "      <th>roll_median</th>\n",
       "      <th>roll_min</th>\n",
       "      <th>roll_skew</th>\n",
       "      <th>roll_std</th>\n",
       "      <th>centr_kurtosis</th>\n",
       "      <th>centr_max</th>\n",
       "      <th>centr_mean</th>\n",
       "      <th>centr_median</th>\n",
       "      <th>centr_min</th>\n",
       "      <th>centr_skew</th>\n",
       "      <th>centr_std</th>\n",
       "    </tr>\n",
       "    <tr>\n",
       "      <th>track_id</th>\n",
       "      <th></th>\n",
       "      <th></th>\n",
       "      <th></th>\n",
       "      <th></th>\n",
       "      <th></th>\n",
       "      <th></th>\n",
       "      <th></th>\n",
       "      <th></th>\n",
       "      <th></th>\n",
       "      <th></th>\n",
       "      <th></th>\n",
       "      <th></th>\n",
       "      <th></th>\n",
       "      <th></th>\n",
       "    </tr>\n",
       "  </thead>\n",
       "  <tbody>\n",
       "    <tr>\n",
       "      <th>2</th>\n",
       "      <td>0.840540</td>\n",
       "      <td>9410.009766</td>\n",
       "      <td>3267.804688</td>\n",
       "      <td>3143.847656</td>\n",
       "      <td>0.000000</td>\n",
       "      <td>0.347372</td>\n",
       "      <td>1300.729736</td>\n",
       "      <td>2.406808</td>\n",
       "      <td>5514.049805</td>\n",
       "      <td>1639.583252</td>\n",
       "      <td>1503.496704</td>\n",
       "      <td>0.000000</td>\n",
       "      <td>1.079815</td>\n",
       "      <td>719.770508</td>\n",
       "    </tr>\n",
       "    <tr>\n",
       "      <th>3</th>\n",
       "      <td>2.379145</td>\n",
       "      <td>10002.172852</td>\n",
       "      <td>3514.619629</td>\n",
       "      <td>3413.012695</td>\n",
       "      <td>0.000000</td>\n",
       "      <td>1.118952</td>\n",
       "      <td>1650.357788</td>\n",
       "      <td>3.519866</td>\n",
       "      <td>6288.426758</td>\n",
       "      <td>1763.012451</td>\n",
       "      <td>1517.993652</td>\n",
       "      <td>0.000000</td>\n",
       "      <td>1.652693</td>\n",
       "      <td>972.758423</td>\n",
       "    </tr>\n",
       "    <tr>\n",
       "      <th>5</th>\n",
       "      <td>-0.238572</td>\n",
       "      <td>9442.309570</td>\n",
       "      <td>2773.931885</td>\n",
       "      <td>2863.916016</td>\n",
       "      <td>0.000000</td>\n",
       "      <td>0.266975</td>\n",
       "      <td>1323.465210</td>\n",
       "      <td>1.322586</td>\n",
       "      <td>5648.614746</td>\n",
       "      <td>1292.958130</td>\n",
       "      <td>1186.514038</td>\n",
       "      <td>0.000000</td>\n",
       "      <td>0.937101</td>\n",
       "      <td>665.319275</td>\n",
       "    </tr>\n",
       "    <tr>\n",
       "      <th>10</th>\n",
       "      <td>3.619834</td>\n",
       "      <td>10056.005859</td>\n",
       "      <td>2603.491943</td>\n",
       "      <td>2002.587891</td>\n",
       "      <td>0.000000</td>\n",
       "      <td>1.800220</td>\n",
       "      <td>1524.401245</td>\n",
       "      <td>9.729688</td>\n",
       "      <td>5739.394531</td>\n",
       "      <td>1360.028687</td>\n",
       "      <td>1180.966797</td>\n",
       "      <td>0.000000</td>\n",
       "      <td>2.523783</td>\n",
       "      <td>668.700806</td>\n",
       "    </tr>\n",
       "    <tr>\n",
       "      <th>20</th>\n",
       "      <td>-0.744805</td>\n",
       "      <td>9496.142578</td>\n",
       "      <td>4201.346191</td>\n",
       "      <td>4166.674805</td>\n",
       "      <td>75.366211</td>\n",
       "      <td>0.160345</td>\n",
       "      <td>1495.297119</td>\n",
       "      <td>2.177669</td>\n",
       "      <td>5540.209961</td>\n",
       "      <td>1732.971802</td>\n",
       "      <td>1640.781128</td>\n",
       "      <td>123.611168</td>\n",
       "      <td>0.960959</td>\n",
       "      <td>481.929871</td>\n",
       "    </tr>\n",
       "  </tbody>\n",
       "</table>\n",
       "</div>"
      ],
      "text/plain": [
       "          roll_kurtosis      roll_max    roll_mean  roll_median   roll_min  \\\n",
       "track_id                                                                     \n",
       "2              0.840540   9410.009766  3267.804688  3143.847656   0.000000   \n",
       "3              2.379145  10002.172852  3514.619629  3413.012695   0.000000   \n",
       "5             -0.238572   9442.309570  2773.931885  2863.916016   0.000000   \n",
       "10             3.619834  10056.005859  2603.491943  2002.587891   0.000000   \n",
       "20            -0.744805   9496.142578  4201.346191  4166.674805  75.366211   \n",
       "\n",
       "          roll_skew     roll_std  centr_kurtosis    centr_max   centr_mean  \\\n",
       "track_id                                                                     \n",
       "2          0.347372  1300.729736        2.406808  5514.049805  1639.583252   \n",
       "3          1.118952  1650.357788        3.519866  6288.426758  1763.012451   \n",
       "5          0.266975  1323.465210        1.322586  5648.614746  1292.958130   \n",
       "10         1.800220  1524.401245        9.729688  5739.394531  1360.028687   \n",
       "20         0.160345  1495.297119        2.177669  5540.209961  1732.971802   \n",
       "\n",
       "          centr_median   centr_min  centr_skew   centr_std  \n",
       "track_id                                                    \n",
       "2          1503.496704    0.000000    1.079815  719.770508  \n",
       "3          1517.993652    0.000000    1.652693  972.758423  \n",
       "5          1186.514038    0.000000    0.937101  665.319275  \n",
       "10         1180.966797    0.000000    2.523783  668.700806  \n",
       "20         1640.781128  123.611168    0.960959  481.929871  "
      ]
     },
     "execution_count": 8,
     "metadata": {},
     "output_type": "execute_result"
    }
   ],
   "source": [
    "df_target.columns=['roll_kurtosis','roll_max','roll_mean','roll_median','roll_min','roll_skew','roll_std',\n",
    "                   'centr_kurtosis','centr_max','centr_mean','centr_median','centr_min','centr_skew','centr_std']\n",
    "                   \n",
    "                   #'bandw_kurtosis','bandw_max','bandw_mean','bandw_median','bandw_min','bandw_skew','bandw_std']\n",
    "df_target.head()"
   ]
  },
  {
   "cell_type": "code",
   "execution_count": 9,
   "id": "4a9bb564",
   "metadata": {},
   "outputs": [],
   "source": [
    "df=pd.merge(tracks,df_target, on='track_id')"
   ]
  },
  {
   "cell_type": "code",
   "execution_count": 10,
   "id": "e7e29b30",
   "metadata": {},
   "outputs": [],
   "source": [
    "df.drop(index=df[df.subset=='large'].index, inplace=True)"
   ]
  },
  {
   "cell_type": "markdown",
   "id": "b60a2ae5",
   "metadata": {},
   "source": [
    "# Pre-processing"
   ]
  },
  {
   "cell_type": "code",
   "execution_count": 11,
   "id": "80689190",
   "metadata": {},
   "outputs": [],
   "source": [
    "train = df.index[df['split'] == 'training']\n",
    "val = df.index[df['split'] == 'validation']\n",
    "test = df.index[df['split'] == 'test']"
   ]
  },
  {
   "cell_type": "code",
   "execution_count": 12,
   "id": "233f3961",
   "metadata": {},
   "outputs": [],
   "source": [
    "#copy dataframe\n",
    "df_enc=df.copy()"
   ]
  },
  {
   "cell_type": "code",
   "execution_count": 13,
   "id": "99243446",
   "metadata": {},
   "outputs": [],
   "source": [
    "le=LabelEncoder()\n",
    "ple= preprocessing.LabelEncoder()\n",
    "df_enc['genre_top']=le.fit_transform(df_enc['genre_top'])"
   ]
  },
  {
   "cell_type": "code",
   "execution_count": 14,
   "id": "d7cf8b09",
   "metadata": {},
   "outputs": [
    {
     "data": {
      "text/plain": [
       "array([ 7, 12, 13,  6,  5, 10,  4,  9, 14,  0, 15,  2,  1, 11,  8,  3])"
      ]
     },
     "execution_count": 14,
     "metadata": {},
     "output_type": "execute_result"
    }
   ],
   "source": [
    "df_enc['genre_top'].unique()"
   ]
  },
  {
   "cell_type": "code",
   "execution_count": 15,
   "id": "403c81d8",
   "metadata": {},
   "outputs": [],
   "source": [
    "replace_values=[ 7, 12, 13,  6,  5, 10,  4,  9, 14,  0, 15,  2,  1,  8,  3]\n",
    "df_enc['genre_top']=df_enc['genre_top'].replace(replace_values,0)\n",
    "df_enc['genre_top']=df_enc['genre_top'].replace(11,1)"
   ]
  },
  {
   "cell_type": "code",
   "execution_count": 16,
   "id": "0bfc8de5",
   "metadata": {},
   "outputs": [
    {
     "data": {
      "text/plain": [
       "((19922,), (2505,), (2573,))"
      ]
     },
     "execution_count": 16,
     "metadata": {},
     "output_type": "execute_result"
    }
   ],
   "source": [
    "y_train = df_enc['genre_top'].loc[df_enc['split'] == 'training']\n",
    "y_val = df_enc['genre_top'].loc[df_enc['split'] == 'validation']\n",
    "y_test = df_enc['genre_top'].loc[df_enc['split'] == 'test']\n",
    "y_train.shape, y_val.shape, y_test.shape"
   ]
  },
  {
   "cell_type": "code",
   "execution_count": 17,
   "id": "ce8c4502",
   "metadata": {},
   "outputs": [],
   "source": [
    "X=df_enc.drop('genre_top',axis=1)"
   ]
  },
  {
   "cell_type": "code",
   "execution_count": 18,
   "id": "034b7d54",
   "metadata": {},
   "outputs": [
    {
     "data": {
      "text/plain": [
       "((19922, 16), (2505, 16), (2573, 16))"
      ]
     },
     "execution_count": 18,
     "metadata": {},
     "output_type": "execute_result"
    }
   ],
   "source": [
    "X_train = X.loc[X['split'] == 'training']\n",
    "X_val = X.loc[X['split'] == 'validation']\n",
    "X_test = X.loc[X['split'] == 'test']\n",
    "X_train.shape, X_val.shape, X_test.shape"
   ]
  },
  {
   "cell_type": "code",
   "execution_count": 19,
   "id": "7611027e",
   "metadata": {},
   "outputs": [],
   "source": [
    "X_train, y_train = shuffle(X_train, y_train, random_state=42)"
   ]
  },
  {
   "cell_type": "code",
   "execution_count": 20,
   "id": "4d504c3e",
   "metadata": {},
   "outputs": [],
   "source": [
    "cut_columns=['split','subset',]#'genres_all'\n",
    "X_train.drop(cut_columns,axis=1,inplace=True)\n",
    "X_val.drop(cut_columns,axis=1,inplace=True)\n",
    "X_test.drop(cut_columns,axis=1,inplace=True)"
   ]
  },
  {
   "cell_type": "code",
   "execution_count": 21,
   "id": "bf1b444a",
   "metadata": {
    "scrolled": true
   },
   "outputs": [],
   "source": [
    "from sklearn.preprocessing import StandardScaler, RobustScaler, MinMaxScaler\n",
    "#normalize data with Robust scaler\n",
    "#scaler = RobustScaler()\n",
    "#scaler.fit_transform(X_train)\n",
    "#scaler.fit_transform(X_val)\n",
    "#scaler.fit_transform(X_test)"
   ]
  },
  {
   "cell_type": "raw",
   "id": "ba683c70",
   "metadata": {},
   "source": [
    "OUTLIER DETECTOR"
   ]
  },
  {
   "cell_type": "code",
   "execution_count": 22,
   "id": "4a2cb945",
   "metadata": {},
   "outputs": [],
   "source": [
    "#task:rimuovere l'1% degli outliers:\n",
    "outlier_fraction = 0.1\n",
    "#andremo a cercare slamente l'1% degli outliers e li rimuoveremo o sostituiremo in seguito"
   ]
  },
  {
   "cell_type": "raw",
   "id": "8e96a772",
   "metadata": {},
   "source": [
    "ABOD"
   ]
  },
  {
   "cell_type": "code",
   "execution_count": 23,
   "id": "87d7a8bd",
   "metadata": {},
   "outputs": [],
   "source": [
    "from pyod.models.abod import ABOD"
   ]
  },
  {
   "cell_type": "code",
   "execution_count": 24,
   "id": "5ba84440",
   "metadata": {},
   "outputs": [
    {
     "data": {
      "text/plain": [
       "ABOD(contamination=0.1, method='fast', n_neighbors=5)"
      ]
     },
     "execution_count": 24,
     "metadata": {},
     "output_type": "execute_result"
    }
   ],
   "source": [
    "abod=ABOD(contamination=outlier_fraction)\n",
    "abod.fit(X_train)"
   ]
  },
  {
   "cell_type": "code",
   "execution_count": 25,
   "id": "3a4e1e91",
   "metadata": {},
   "outputs": [
    {
     "data": {
      "text/plain": [
       "(array([0, 1]), array([17666,  2256], dtype=int64))"
      ]
     },
     "execution_count": 25,
     "metadata": {},
     "output_type": "execute_result"
    }
   ],
   "source": [
    "abod_anomalies = abod.predict(X_train)\n",
    "np.unique(abod_anomalies, return_counts=True)"
   ]
  },
  {
   "cell_type": "code",
   "execution_count": 26,
   "id": "90aeccb9",
   "metadata": {},
   "outputs": [
    {
     "data": {
      "text/plain": [
       "(19922, 14)"
      ]
     },
     "execution_count": 26,
     "metadata": {},
     "output_type": "execute_result"
    }
   ],
   "source": [
    "# select all rows that are not outliers\n",
    "abod_inlier= abod_anomalies!=1\n",
    "abod_outliers= X_train[abod_anomalies==1]\n",
    "X_train.shape"
   ]
  },
  {
   "cell_type": "code",
   "execution_count": 27,
   "id": "201f94ad",
   "metadata": {},
   "outputs": [
    {
     "name": "stdout",
     "output_type": "stream",
     "text": [
      "(17666, 14) (17666,)\n"
     ]
    }
   ],
   "source": [
    "# select all rows that are not outliers\n",
    "abod_inlier= abod_anomalies!=1\n",
    "abod_outlier= X_train[abod_anomalies==1]\n",
    "X_train1, y_train1 = X_train.iloc[abod_inlier, :], y_train.iloc[abod_inlier]\n",
    "# summarize the shape of the updated training dataset\n",
    "print(X_train1.shape, y_train1.shape)"
   ]
  },
  {
   "cell_type": "raw",
   "id": "c6ded1dd",
   "metadata": {},
   "source": [
    "### Isolation Forest"
   ]
  },
  {
   "cell_type": "code",
   "execution_count": 28,
   "id": "1ee6b1cf",
   "metadata": {},
   "outputs": [],
   "source": [
    "from sklearn.ensemble import IsolationForest"
   ]
  },
  {
   "cell_type": "code",
   "execution_count": 29,
   "id": "cc6a09f0",
   "metadata": {},
   "outputs": [],
   "source": [
    "iso = IsolationForest(max_samples=100,random_state=42, contamination=0.1) \n",
    "iso.fit(X_train)\n",
    "if_anomalies=iso.predict(X_train)"
   ]
  },
  {
   "cell_type": "code",
   "execution_count": 30,
   "id": "7ac78884",
   "metadata": {},
   "outputs": [
    {
     "data": {
      "text/plain": [
       "(array([-1,  1]), array([ 1993, 17929], dtype=int64))"
      ]
     },
     "execution_count": 30,
     "metadata": {},
     "output_type": "execute_result"
    }
   ],
   "source": [
    "np.unique(if_anomalies,return_counts=True)"
   ]
  },
  {
   "cell_type": "code",
   "execution_count": 31,
   "id": "37694e5a",
   "metadata": {},
   "outputs": [
    {
     "name": "stdout",
     "output_type": "stream",
     "text": [
      "(17929, 14) (17929,)\n"
     ]
    }
   ],
   "source": [
    "# select all rows that are not outliers\n",
    "if_inlier=if_anomalies!=-1\n",
    "if_outlier=X_train[if_anomalies==-1]\n",
    "X_train4, y_train4 = X_train.iloc[if_inlier, :], y_train.iloc[if_inlier]\n",
    "# summarize the shape of the updated training dataset\n",
    "print(X_train4.shape, y_train4.shape)"
   ]
  },
  {
   "cell_type": "raw",
   "id": "8732935c",
   "metadata": {},
   "source": [
    "Comparison"
   ]
  },
  {
   "cell_type": "code",
   "execution_count": 32,
   "id": "2f6d1a0a",
   "metadata": {},
   "outputs": [],
   "source": [
    "if_indexes=if_outlier.index.tolist()\n",
    "abod_indexes=abod_outlier.index.tolist()"
   ]
  },
  {
   "cell_type": "code",
   "execution_count": 33,
   "id": "7f73ac6e",
   "metadata": {},
   "outputs": [
    {
     "name": "stdout",
     "output_type": "stream",
     "text": [
      "743\n"
     ]
    }
   ],
   "source": [
    "#comparison if with abod\n",
    "count_if_abod=0\n",
    "for i in set(if_indexes).intersection(set(abod_indexes)):\n",
    "    count_if_abod= count_if_abod+1\n",
    "print(count_if_abod)"
   ]
  },
  {
   "cell_type": "code",
   "execution_count": 34,
   "id": "37431e06",
   "metadata": {},
   "outputs": [],
   "source": [
    "X_train_clean=X_train.copy()\n",
    "y_train_clean=y_train.copy()"
   ]
  },
  {
   "cell_type": "code",
   "execution_count": 35,
   "id": "d832e649",
   "metadata": {},
   "outputs": [
    {
     "name": "stdout",
     "output_type": "stream",
     "text": [
      "Dataset before outliers removed: (19922, 14) (19922,)\n",
      "Dataset cleaned: (19179, 14) (19179,)\n"
     ]
    }
   ],
   "source": [
    "for index in set(if_indexes).intersection(set(abod_indexes)):\n",
    "    X_train_clean.drop(index,inplace=True)\n",
    "    y_train_clean.drop(index, inplace=True)\n",
    "print('Dataset before outliers removed:',X_train.shape, y_train.shape)\n",
    "print('Dataset cleaned:', X_train_clean.shape, y_train_clean.shape)"
   ]
  },
  {
   "cell_type": "code",
   "execution_count": 36,
   "id": "0c5a42b6",
   "metadata": {},
   "outputs": [
    {
     "data": {
      "text/plain": [
       "((19179, 14), (19179,))"
      ]
     },
     "execution_count": 36,
     "metadata": {},
     "output_type": "execute_result"
    }
   ],
   "source": [
    "X_train=X_train_clean\n",
    "y_train=y_train_clean\n",
    "X_train.shape,y_train.shape"
   ]
  },
  {
   "cell_type": "code",
   "execution_count": 37,
   "id": "7127ab6a",
   "metadata": {},
   "outputs": [],
   "source": [
    "from sklearn.metrics import accuracy_score, f1_score, classification_report, confusion_matrix\n",
    "from sklearn.metrics import roc_curve, auc, roc_auc_score\n",
    "from sklearn.model_selection import GridSearchCV\n",
    "from sklearn.metrics import plot_confusion_matrix\n",
    "from sklearn import metrics"
   ]
  },
  {
   "cell_type": "code",
   "execution_count": null,
   "id": "5a3641ed",
   "metadata": {},
   "outputs": [],
   "source": []
  },
  {
   "cell_type": "code",
   "execution_count": null,
   "id": "d819b384",
   "metadata": {},
   "outputs": [],
   "source": []
  },
  {
   "cell_type": "code",
   "execution_count": null,
   "id": "4fd7d1e6",
   "metadata": {},
   "outputs": [],
   "source": []
  },
  {
   "cell_type": "markdown",
   "id": "a29125b5",
   "metadata": {},
   "source": [
    "# Rule-based Classifiers "
   ]
  },
  {
   "cell_type": "code",
   "execution_count": 38,
   "id": "dc16632d",
   "metadata": {},
   "outputs": [],
   "source": [
    "import wittgenstein as lw\n",
    "import matplotlib.pyplot as plt"
   ]
  },
  {
   "cell_type": "code",
   "execution_count": 39,
   "id": "8dc38eb8",
   "metadata": {},
   "outputs": [],
   "source": [
    "ripper_clf = lw.RIPPER()"
   ]
  },
  {
   "cell_type": "code",
   "execution_count": 40,
   "id": "5963ce46",
   "metadata": {},
   "outputs": [],
   "source": [
    "ripper_clf.fit(X_train, y_train)"
   ]
  },
  {
   "cell_type": "code",
   "execution_count": 41,
   "id": "6084a66a",
   "metadata": {},
   "outputs": [
    {
     "data": {
      "text/plain": [
       "<RIPPER(max_rule_conds=None, verbosity=0, dl_allowance=64, random_state=None, k=2, prune_size=0.33, max_rules=None, max_total_conds=None, n_discretize_bins=10)>"
      ]
     },
     "execution_count": 41,
     "metadata": {},
     "output_type": "execute_result"
    }
   ],
   "source": [
    "ripper_clf"
   ]
  },
  {
   "cell_type": "code",
   "execution_count": 42,
   "id": "e2ee43a1",
   "metadata": {},
   "outputs": [
    {
     "data": {
      "text/plain": [
       "<Ruleset [roll_std=106.42-637.2^centr_min=349.78-562.51^roll_median=796.73-1184.33] V [roll_std=106.42-637.2^roll_mean=1111.77-1506.09^roll_min=495.26-4920.34^centr_min=562.51-2101.92] V [roll_std=106.42-637.2^roll_mean=1111.77-1506.09^centr_min=349.78-562.51^centr_mean=801.03-934.46^centr_median=677.78-812.19] V [roll_std=106.42-637.2^roll_mean=1111.77-1506.09^centr_min=349.78-562.51^centr_median=812.19-930.36^roll_max=9399.24-9463.84] V [roll_kurtosis=29.27-1572.71^roll_mean=1111.77-1506.09^centr_min=349.78-562.51^roll_std=106.42-637.2] V [roll_kurtosis=29.27-1572.71^roll_mean=1111.77-1506.09^centr_max=5500.23-5523.86^centr_mean=801.03-934.46] V [roll_std=106.42-637.2^roll_skew=4.32-28.32^roll_mean=1111.77-1506.09^centr_median=812.19-930.36] V [roll_std=106.42-637.2^roll_median=796.73-1184.33^centr_median=677.78-812.19^roll_skew=4.32-28.32^centr_max=5500.23-5523.86] V [roll_std=106.42-637.2^roll_mean=1111.77-1506.09^centr_min=349.78-562.51] V [roll_kurtosis=29.27-1572.71^roll_min=495.26-4920.34^centr_median=1442.78-1684.5] V [roll_kurtosis=29.27-1572.71^roll_std=106.42-637.2^centr_median=508.13-677.78^roll_min=269.17-495.26^roll_mean=134.74-1111.77^roll_median=0.0-796.73] V [roll_kurtosis=29.27-1572.71^roll_median=796.73-1184.33^centr_std=60.06-285.62^centr_median=677.78-812.19^centr_skew=5.19-28.53] V [roll_kurtosis=29.27-1572.71^centr_min=259.37-349.78^centr_median=508.13-677.78^roll_std=106.42-637.2^roll_mean=134.74-1111.77^centr_kurtosis=45.98-1083.54] V [roll_kurtosis=29.27-1572.71^roll_mean=1111.77-1506.09^centr_min=349.78-562.51^roll_std=637.2-820.85^roll_max=9539.21-9636.11] V [roll_kurtosis=29.27-1572.71^centr_skew=3.51-5.19^centr_mean=1552.12-1775.74] V [roll_std=106.42-637.2^roll_median=796.73-1184.33^roll_skew=1.14-1.47^roll_kurtosis=6.9-12.87] V [roll_kurtosis=29.27-1572.71^centr_mean=934.46-1052.4^roll_median=1184.33-1507.32] V [roll_kurtosis=29.27-1572.71^roll_median=796.73-1184.33^roll_min=495.26-4920.34^centr_std=285.62-361.4] V [centr_min=562.51-2101.92^roll_median=1184.33-1507.32] V [centr_min=562.51-2101.92^centr_mean=1392.42-1552.12^roll_kurtosis=29.27-1572.71]>"
      ]
     },
     "execution_count": 42,
     "metadata": {},
     "output_type": "execute_result"
    }
   ],
   "source": [
    "ripper_clf.ruleset_"
   ]
  },
  {
   "cell_type": "code",
   "execution_count": 43,
   "id": "28739ae2",
   "metadata": {},
   "outputs": [
    {
     "data": {
      "text/plain": [
       "0.9875631558492033"
      ]
     },
     "execution_count": 43,
     "metadata": {},
     "output_type": "execute_result"
    }
   ],
   "source": [
    "ripper_clf.score(X_test, y_test)"
   ]
  },
  {
   "cell_type": "code",
   "execution_count": 44,
   "id": "f97d66ea",
   "metadata": {},
   "outputs": [],
   "source": [
    "from sklearn.metrics import accuracy_score, f1_score, classification_report\n",
    "from sklearn.metrics import roc_curve, auc, roc_auc_score\n",
    "from sklearn.model_selection import train_test_split, cross_val_score \n"
   ]
  },
  {
   "cell_type": "code",
   "execution_count": 45,
   "id": "5ea43ba7",
   "metadata": {},
   "outputs": [],
   "source": [
    "y_pred = ripper_clf.predict(X_test)"
   ]
  },
  {
   "cell_type": "code",
   "execution_count": 46,
   "id": "98d0a505",
   "metadata": {},
   "outputs": [
    {
     "name": "stdout",
     "output_type": "stream",
     "text": [
      "Accuracy 0.9875631558492033\n",
      "F1-score [0.99364827 0.7037037 ]\n",
      "              precision    recall  f1-score   support\n",
      "\n",
      "           0       0.99      0.99      0.99      2522\n",
      "           1       0.67      0.75      0.70        51\n",
      "\n",
      "    accuracy                           0.99      2573\n",
      "   macro avg       0.83      0.87      0.85      2573\n",
      "weighted avg       0.99      0.99      0.99      2573\n",
      "\n"
     ]
    }
   ],
   "source": [
    "print('Accuracy %s' % accuracy_score(y_test, y_pred))\n",
    "print('F1-score %s' % f1_score(y_test, y_pred, average=None))\n",
    "print(classification_report(y_test, y_pred))"
   ]
  },
  {
   "cell_type": "code",
   "execution_count": 47,
   "id": "c567dd98",
   "metadata": {},
   "outputs": [
    {
     "name": "stdout",
     "output_type": "stream",
     "text": [
      "0.8687821679028471\n"
     ]
    }
   ],
   "source": [
    "from sklearn.metrics import roc_curve, auc, roc_auc_score\n",
    "fpr,tpr,_=roc_curve(y_test,y_pred)\n",
    "roc_auc=auc(fpr,tpr)\n",
    "print(roc_auc)"
   ]
  },
  {
   "cell_type": "code",
   "execution_count": 48,
   "id": "3203301e",
   "metadata": {},
   "outputs": [
    {
     "name": "stdout",
     "output_type": "stream",
     "text": [
      "[[2503   19]\n",
      " [  13   38]]\n"
     ]
    }
   ],
   "source": [
    "from sklearn.metrics import confusion_matrix\n",
    "print (confusion_matrix(y_test, y_pred))"
   ]
  },
  {
   "cell_type": "code",
   "execution_count": 49,
   "id": "18a7a9ff",
   "metadata": {},
   "outputs": [],
   "source": [
    "y_pred_val = ripper_clf.predict(X_val)"
   ]
  },
  {
   "cell_type": "code",
   "execution_count": 50,
   "id": "115a5711",
   "metadata": {},
   "outputs": [
    {
     "name": "stdout",
     "output_type": "stream",
     "text": [
      "Accuracy 0.9844311377245509\n",
      "F1-score [0.99204893 0.62857143]\n",
      "              precision    recall  f1-score   support\n",
      "\n",
      "           0       0.99      0.99      0.99      2454\n",
      "           1       0.61      0.65      0.63        51\n",
      "\n",
      "    accuracy                           0.98      2505\n",
      "   macro avg       0.80      0.82      0.81      2505\n",
      "weighted avg       0.98      0.98      0.98      2505\n",
      "\n"
     ]
    }
   ],
   "source": [
    "print('Accuracy %s' % accuracy_score(y_val, y_pred_val))\n",
    "print('F1-score %s' % f1_score(y_val, y_pred_val, average=None))\n",
    "print(classification_report(y_val, y_pred_val))"
   ]
  },
  {
   "cell_type": "code",
   "execution_count": 51,
   "id": "7ce74eb5",
   "metadata": {},
   "outputs": [
    {
     "name": "stdout",
     "output_type": "stream",
     "text": [
      "0.8192506831583488\n"
     ]
    }
   ],
   "source": [
    "from sklearn.metrics import roc_curve, auc, roc_auc_score\n",
    "fpr,tpr,_=roc_curve(y_val, y_pred_val)\n",
    "roc_auc=auc(fpr,tpr)\n",
    "print(roc_auc)"
   ]
  },
  {
   "cell_type": "code",
   "execution_count": 52,
   "id": "d3e10046",
   "metadata": {},
   "outputs": [
    {
     "name": "stdout",
     "output_type": "stream",
     "text": [
      "[[2433   21]\n",
      " [  18   33]]\n"
     ]
    }
   ],
   "source": [
    "from sklearn.metrics import confusion_matrix\n",
    "disp = confusion_matrix(y_val, y_pred_val)\n",
    "print(disp)\n"
   ]
  },
  {
   "cell_type": "code",
   "execution_count": 53,
   "id": "a821fff3",
   "metadata": {},
   "outputs": [],
   "source": [
    "y_pred_train = ripper_clf.predict(X_train)"
   ]
  },
  {
   "cell_type": "code",
   "execution_count": 54,
   "id": "e66b8916",
   "metadata": {},
   "outputs": [
    {
     "name": "stdout",
     "output_type": "stream",
     "text": [
      "Accuracy 0.9921789457218834\n",
      "F1-score [0.99601995 0.7761194 ]\n",
      "              precision    recall  f1-score   support\n",
      "\n",
      "           0       0.99      1.00      1.00     18808\n",
      "           1       0.87      0.70      0.78       371\n",
      "\n",
      "    accuracy                           0.99     19179\n",
      "   macro avg       0.93      0.85      0.89     19179\n",
      "weighted avg       0.99      0.99      0.99     19179\n",
      "\n"
     ]
    }
   ],
   "source": [
    "print('Accuracy %s' % accuracy_score(y_train, y_pred_train))\n",
    "print('F1-score %s' % f1_score(y_train, y_pred_train, average=None))\n",
    "print(classification_report(y_train, y_pred_train))"
   ]
  },
  {
   "cell_type": "code",
   "execution_count": 55,
   "id": "f1b08e97",
   "metadata": {},
   "outputs": [
    {
     "name": "stdout",
     "output_type": "stream",
     "text": [
      "0.849367519814359\n"
     ]
    }
   ],
   "source": [
    "fpr,tpr,_=roc_curve(y_train, y_pred_train)\n",
    "roc_auc=auc(fpr,tpr)\n",
    "print(roc_auc)"
   ]
  },
  {
   "cell_type": "code",
   "execution_count": 56,
   "id": "ea1a7130",
   "metadata": {},
   "outputs": [
    {
     "name": "stdout",
     "output_type": "stream",
     "text": [
      "[[18769    39]\n",
      " [  111   260]]\n"
     ]
    }
   ],
   "source": [
    "print (confusion_matrix(y_train, y_pred_train))"
   ]
  },
  {
   "cell_type": "markdown",
   "id": "c407d0a7",
   "metadata": {},
   "source": [
    "# Random Oversamling"
   ]
  },
  {
   "cell_type": "code",
   "execution_count": 57,
   "id": "eb41de38",
   "metadata": {},
   "outputs": [],
   "source": [
    "from collections import Counter\n",
    "from imblearn.over_sampling import RandomOverSampler"
   ]
  },
  {
   "cell_type": "code",
   "execution_count": 58,
   "id": "c696e912",
   "metadata": {},
   "outputs": [
    {
     "name": "stdout",
     "output_type": "stream",
     "text": [
      "Resampled dataset shape Counter({0: 18808, 1: 18808})\n"
     ]
    }
   ],
   "source": [
    "ros = RandomOverSampler(random_state=42)\n",
    "X_res, y_res = ros.fit_resample(X_train, y_train)\n",
    "print('Resampled dataset shape %s' % Counter(y_res))"
   ]
  },
  {
   "cell_type": "code",
   "execution_count": 59,
   "id": "128b4e93",
   "metadata": {},
   "outputs": [
    {
     "name": "stdout",
     "output_type": "stream",
     "text": [
      "Accuracy 0.9747376603186941\n",
      "F1-score [0.98706982 0.45378151]\n",
      "              precision    recall  f1-score   support\n",
      "\n",
      "           0       0.99      0.98      0.99      2522\n",
      "           1       0.40      0.53      0.45        51\n",
      "\n",
      "    accuracy                           0.97      2573\n",
      "   macro avg       0.69      0.76      0.72      2573\n",
      "weighted avg       0.98      0.97      0.98      2573\n",
      "\n",
      "[[2481   41]\n",
      " [  24   27]]\n"
     ]
    }
   ],
   "source": [
    "ripper_clf.fit(X_res, y_res)\n",
    "\n",
    "y_pred_random = ripper_clf.predict(X_test)\n",
    "\n",
    "print('Accuracy %s' % accuracy_score(y_test, y_pred_random))\n",
    "print('F1-score %s' % f1_score(y_test, y_pred_random, average=None))\n",
    "print(classification_report(y_test, y_pred_random))\n",
    "print(confusion_matrix(y_test,y_pred_random))"
   ]
  },
  {
   "cell_type": "markdown",
   "id": "c0858ec3",
   "metadata": {},
   "source": [
    "# CondenseNearestNeighbour"
   ]
  },
  {
   "cell_type": "code",
   "execution_count": 60,
   "id": "cca007a3",
   "metadata": {},
   "outputs": [],
   "source": [
    "from imblearn.under_sampling import CondensedNearestNeighbour"
   ]
  },
  {
   "cell_type": "code",
   "execution_count": 61,
   "id": "9a71f3ea",
   "metadata": {},
   "outputs": [
    {
     "name": "stdout",
     "output_type": "stream",
     "text": [
      "Resampled dataset shape Counter({0: 585, 1: 371})\n"
     ]
    }
   ],
   "source": [
    "cnn = CondensedNearestNeighbour(random_state=42, n_jobs=10)\n",
    "X_res_cnn, y_res_cnn = cnn.fit_resample(X_train, y_train)\n",
    "print('Resampled dataset shape %s' % Counter(y_res_cnn))"
   ]
  },
  {
   "cell_type": "code",
   "execution_count": 62,
   "id": "0cd69383",
   "metadata": {},
   "outputs": [
    {
     "name": "stdout",
     "output_type": "stream",
     "text": [
      "Accuracy 0.9770695685969685\n",
      "F1-score [0.98826805 0.4957265 ]\n",
      "              precision    recall  f1-score   support\n",
      "\n",
      "           0       0.99      0.99      0.99      2522\n",
      "           1       0.44      0.57      0.50        51\n",
      "\n",
      "    accuracy                           0.98      2573\n",
      "   macro avg       0.72      0.78      0.74      2573\n",
      "weighted avg       0.98      0.98      0.98      2573\n",
      "\n",
      "[[2485   37]\n",
      " [  22   29]]\n"
     ]
    }
   ],
   "source": [
    "ripper_clf.fit(X_res_cnn, y_res_cnn)\n",
    "\n",
    "dt_pred_cnn = ripper_clf.predict(X_test)\n",
    "\n",
    "print('Accuracy %s' % accuracy_score(y_test, dt_pred_cnn))\n",
    "print('F1-score %s' % f1_score(y_test, dt_pred_cnn, average=None))\n",
    "print(classification_report(y_test, dt_pred_cnn))\n",
    "print(confusion_matrix(y_test,dt_pred_cnn))"
   ]
  },
  {
   "cell_type": "code",
   "execution_count": 69,
   "id": "d510c951",
   "metadata": {},
   "outputs": [
    {
     "name": "stdout",
     "output_type": "stream",
     "text": [
      "0.7565774128842654\n"
     ]
    }
   ],
   "source": [
    "fpr_random,tpr_random,_=roc_curve(y_test,y_pred_random)\n",
    "roc_auc_random=auc(fpr_random,tpr_random)\n",
    "print(roc_auc_random)"
   ]
  },
  {
   "cell_type": "code",
   "execution_count": 70,
   "id": "eccb504e",
   "metadata": {},
   "outputs": [
    {
     "name": "stdout",
     "output_type": "stream",
     "text": [
      "0.7769782774330986\n"
     ]
    }
   ],
   "source": [
    "fpr_cnn,tpr_cnn,_=roc_curve(y_test,dt_pred_cnn)\n",
    "roc_auc_cnn=auc(fpr_cnn,tpr_cnn)\n",
    "print(roc_auc_cnn)"
   ]
  },
  {
   "cell_type": "code",
   "execution_count": 75,
   "id": "daf3a244",
   "metadata": {},
   "outputs": [
    {
     "data": {
      "image/png": "[encoded data removed]",
      "text/plain": [
       "<Figure size 576x360 with 1 Axes>"
      ]
     },
     "metadata": {
      "needs_background": "light"
     },
     "output_type": "display_data"
    }
   ],
   "source": [
    "plt.figure(figsize=(8, 5))\n",
    "plt.plot(fpr_random, tpr_random, label='Rule based classifier + Random oversampling ROC curve (area = %0.2f)' % (roc_auc_random))\n",
    "plt.plot(fpr_cnn, tpr_cnn, label='Rule based classifier + Condensed nearest neighbor ROC curve (area = %0.2f)' % (roc_auc_cnn))\n",
    "    \n",
    "plt.plot([0, 1], [0, 1], 'k--')\n",
    "plt.xlim([0.0, 1.0])\n",
    "plt.ylim([0.0, 1.03])\n",
    "plt.xlabel('False Positive Rate', fontsize=20)\n",
    "plt.ylabel('True Positive Rate', fontsize=20) \n",
    "plt.tick_params(axis='both', which='major', labelsize=22)\n",
    "plt.legend(loc=\"lower right\", fontsize=9, frameon=False)\n",
    "plt.show()"
   ]
  },
  {
   "cell_type": "code",
   "execution_count": null,
   "id": "2032b4b8",
   "metadata": {},
   "outputs": [],
   "source": []
  },
  {
   "cell_type": "code",
   "execution_count": null,
   "id": "f89d1297",
   "metadata": {},
   "outputs": [],
   "source": []
  }
 ],
 "metadata": {
  "kernelspec": {
   "display_name": "Python 3 (ipykernel)",
   "language": "python",
   "name": "python3"
  },
  "language_info": {
   "codemirror_mode": {
    "name": "ipython",
    "version": 3
   },
   "file_extension": ".py",
   "mimetype": "text/x-python",
   "name": "python",
   "nbconvert_exporter": "python",
   "pygments_lexer": "ipython3",
   "version": "3.10.5"
  }
 },
 "nbformat": 4,
 "nbformat_minor": 5
}
