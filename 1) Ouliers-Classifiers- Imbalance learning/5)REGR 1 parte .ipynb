{
 "cells": [
  {
   "cell_type": "code",
   "execution_count": 100,
   "id": "acute-cholesterol",
   "metadata": {},
   "outputs": [],
   "source": [
    "%matplotlib inline\n",
    "import utils\n",
    "import os\n",
    "import IPython.display as ipd\n",
    "import numpy as np\n",
    "import pandas as pd\n",
    "import matplotlib.pyplot as plt\n",
    "import seaborn as sns\n",
    "import sklearn as skl\n",
    "import sklearn.utils, sklearn.preprocessing, sklearn.decomposition, sklearn.svm\n",
    "from sklearn import preprocessing\n",
    "from sklearn.preprocessing import label_binarize\n",
    "import librosa\n",
    "import librosa.display\n",
    "import missingno as msno \n",
    "%matplotlib inline\n",
    "import seaborn as sns\n",
    "from sklearn.utils import shuffle\n",
    "from sklearn.preprocessing import MultiLabelBinarizer\n",
    "from sklearn.decomposition import PCA\n",
    "from sklearn.preprocessing import LabelEncoder, LabelBinarizer, StandardScaler, RobustScaler\n",
    "# importing warning in order to ignore them\n",
    "import warnings \n",
    "warnings.filterwarnings('always')   #suppresses all warnings\n",
    "warnings.filterwarnings('ignore')"
   ]
  },
  {
   "cell_type": "code",
   "execution_count": 101,
   "id": "comfortable-length",
   "metadata": {},
   "outputs": [
    {
     "data": {
      "text/plain": [
       "((106574, 52), (163, 4), (106574, 518), (13129, 249))"
      ]
     },
     "execution_count": 101,
     "metadata": {},
     "output_type": "execute_result"
    }
   ],
   "source": [
    "# Directory where mp3 are stored.\n",
    "AUDIO_DIR = os.environ.get('AUDIO_DIR')\n",
    "\n",
    "tracks= utils.load(\"/Users/david/Desktop/DM2 project/fma_metadata/tracks.csv\")\n",
    "genres= utils.load(\"/Users/david/Desktop/DM2 project/fma_metadata/genres.csv\")\n",
    "features= utils.load(\"/Users/david/Desktop/DM2 project/fma_metadata/features.csv\")\n",
    "echonest= utils.load(\"/Users/david/Desktop/DM2 project/fma_metadata/echonest.csv\")\n",
    "\n",
    "np.testing.assert_array_equal(features.index, tracks.index)\n",
    "assert echonest.index.isin(tracks.index).all()\n",
    "\n",
    "tracks.shape, genres.shape, features.shape, echonest.shape"
   ]
  },
  {
   "cell_type": "code",
   "execution_count": 102,
   "id": "realistic-state",
   "metadata": {},
   "outputs": [],
   "source": [
    "regr_tracks=tracks.copy()"
   ]
  },
  {
   "cell_type": "code",
   "execution_count": 103,
   "id": "accepted-cricket",
   "metadata": {},
   "outputs": [
    {
     "data": {
      "text/plain": [
       "(106574, 22)"
      ]
     },
     "execution_count": 103,
     "metadata": {},
     "output_type": "execute_result"
    }
   ],
   "source": [
    "tracks_cut=['album','artist']\n",
    "tracks.drop(tracks_cut,axis=1,inplace=True)\n",
    "tracks.shape"
   ]
  },
  {
   "cell_type": "code",
   "execution_count": 104,
   "id": "affecting-carry",
   "metadata": {},
   "outputs": [],
   "source": [
    "tracks=tracks.droplevel(0,axis=1)"
   ]
  },
  {
   "cell_type": "code",
   "execution_count": 105,
   "id": "covered-hardware",
   "metadata": {},
   "outputs": [],
   "source": [
    "tracks_cut=['composer','comments', 'date_created','date_recorded',\n",
    "            'license','number','title','language_code',\n",
    "            'publisher', 'tags','information','lyricist','genres','genres_all',\n",
    "            'favorites','listens','interest','bit_rate', 'duration']\n",
    "tracks.drop(tracks_cut,axis=1,inplace=True)"
   ]
  },
  {
   "cell_type": "code",
   "execution_count": 106,
   "id": "rubber-break",
   "metadata": {},
   "outputs": [],
   "source": [
    "df_target=features[['spectral_rolloff','spectral_centroid']]"
   ]
  },
  {
   "cell_type": "code",
   "execution_count": 107,
   "id": "focal-opportunity",
   "metadata": {},
   "outputs": [],
   "source": [
    "df_target=df_target.droplevel(0,axis=1)"
   ]
  },
  {
   "cell_type": "code",
   "execution_count": 108,
   "id": "preceding-difficulty",
   "metadata": {},
   "outputs": [
    {
     "data": {
      "text/html": [
       "<div>\n",
       "<style scoped>\n",
       "    .dataframe tbody tr th:only-of-type {\n",
       "        vertical-align: middle;\n",
       "    }\n",
       "\n",
       "    .dataframe tbody tr th {\n",
       "        vertical-align: top;\n",
       "    }\n",
       "\n",
       "    .dataframe thead th {\n",
       "        text-align: right;\n",
       "    }\n",
       "</style>\n",
       "<table border=\"1\" class=\"dataframe\">\n",
       "  <thead>\n",
       "    <tr style=\"text-align: right;\">\n",
       "      <th></th>\n",
       "      <th>roll_kurtosis</th>\n",
       "      <th>roll_max</th>\n",
       "      <th>roll_mean</th>\n",
       "      <th>roll_median</th>\n",
       "      <th>roll_min</th>\n",
       "      <th>roll_skew</th>\n",
       "      <th>roll_std</th>\n",
       "      <th>centr_kurtosis</th>\n",
       "      <th>centr_max</th>\n",
       "      <th>centr_mean</th>\n",
       "      <th>centr_median</th>\n",
       "      <th>centr_min</th>\n",
       "      <th>centr_skew</th>\n",
       "      <th>centr_std</th>\n",
       "    </tr>\n",
       "    <tr>\n",
       "      <th>track_id</th>\n",
       "      <th></th>\n",
       "      <th></th>\n",
       "      <th></th>\n",
       "      <th></th>\n",
       "      <th></th>\n",
       "      <th></th>\n",
       "      <th></th>\n",
       "      <th></th>\n",
       "      <th></th>\n",
       "      <th></th>\n",
       "      <th></th>\n",
       "      <th></th>\n",
       "      <th></th>\n",
       "      <th></th>\n",
       "    </tr>\n",
       "  </thead>\n",
       "  <tbody>\n",
       "    <tr>\n",
       "      <th>2</th>\n",
       "      <td>0.840540</td>\n",
       "      <td>9410.009766</td>\n",
       "      <td>3267.804688</td>\n",
       "      <td>3143.847656</td>\n",
       "      <td>0.000000</td>\n",
       "      <td>0.347372</td>\n",
       "      <td>1300.729736</td>\n",
       "      <td>2.406808</td>\n",
       "      <td>5514.049805</td>\n",
       "      <td>1639.583252</td>\n",
       "      <td>1503.496704</td>\n",
       "      <td>0.000000</td>\n",
       "      <td>1.079815</td>\n",
       "      <td>719.770508</td>\n",
       "    </tr>\n",
       "    <tr>\n",
       "      <th>3</th>\n",
       "      <td>2.379145</td>\n",
       "      <td>10002.172852</td>\n",
       "      <td>3514.619629</td>\n",
       "      <td>3413.012695</td>\n",
       "      <td>0.000000</td>\n",
       "      <td>1.118952</td>\n",
       "      <td>1650.357788</td>\n",
       "      <td>3.519866</td>\n",
       "      <td>6288.426758</td>\n",
       "      <td>1763.012451</td>\n",
       "      <td>1517.993652</td>\n",
       "      <td>0.000000</td>\n",
       "      <td>1.652693</td>\n",
       "      <td>972.758423</td>\n",
       "    </tr>\n",
       "    <tr>\n",
       "      <th>5</th>\n",
       "      <td>-0.238572</td>\n",
       "      <td>9442.309570</td>\n",
       "      <td>2773.931885</td>\n",
       "      <td>2863.916016</td>\n",
       "      <td>0.000000</td>\n",
       "      <td>0.266975</td>\n",
       "      <td>1323.465210</td>\n",
       "      <td>1.322586</td>\n",
       "      <td>5648.614746</td>\n",
       "      <td>1292.958130</td>\n",
       "      <td>1186.514038</td>\n",
       "      <td>0.000000</td>\n",
       "      <td>0.937101</td>\n",
       "      <td>665.319275</td>\n",
       "    </tr>\n",
       "    <tr>\n",
       "      <th>10</th>\n",
       "      <td>3.619834</td>\n",
       "      <td>10056.005859</td>\n",
       "      <td>2603.491943</td>\n",
       "      <td>2002.587891</td>\n",
       "      <td>0.000000</td>\n",
       "      <td>1.800220</td>\n",
       "      <td>1524.401245</td>\n",
       "      <td>9.729688</td>\n",
       "      <td>5739.394531</td>\n",
       "      <td>1360.028687</td>\n",
       "      <td>1180.966797</td>\n",
       "      <td>0.000000</td>\n",
       "      <td>2.523783</td>\n",
       "      <td>668.700806</td>\n",
       "    </tr>\n",
       "    <tr>\n",
       "      <th>20</th>\n",
       "      <td>-0.744805</td>\n",
       "      <td>9496.142578</td>\n",
       "      <td>4201.346191</td>\n",
       "      <td>4166.674805</td>\n",
       "      <td>75.366211</td>\n",
       "      <td>0.160345</td>\n",
       "      <td>1495.297119</td>\n",
       "      <td>2.177669</td>\n",
       "      <td>5540.209961</td>\n",
       "      <td>1732.971802</td>\n",
       "      <td>1640.781128</td>\n",
       "      <td>123.611168</td>\n",
       "      <td>0.960959</td>\n",
       "      <td>481.929871</td>\n",
       "    </tr>\n",
       "  </tbody>\n",
       "</table>\n",
       "</div>"
      ],
      "text/plain": [
       "          roll_kurtosis      roll_max    roll_mean  roll_median   roll_min  \\\n",
       "track_id                                                                     \n",
       "2              0.840540   9410.009766  3267.804688  3143.847656   0.000000   \n",
       "3              2.379145  10002.172852  3514.619629  3413.012695   0.000000   \n",
       "5             -0.238572   9442.309570  2773.931885  2863.916016   0.000000   \n",
       "10             3.619834  10056.005859  2603.491943  2002.587891   0.000000   \n",
       "20            -0.744805   9496.142578  4201.346191  4166.674805  75.366211   \n",
       "\n",
       "          roll_skew     roll_std  centr_kurtosis    centr_max   centr_mean  \\\n",
       "track_id                                                                     \n",
       "2          0.347372  1300.729736        2.406808  5514.049805  1639.583252   \n",
       "3          1.118952  1650.357788        3.519866  6288.426758  1763.012451   \n",
       "5          0.266975  1323.465210        1.322586  5648.614746  1292.958130   \n",
       "10         1.800220  1524.401245        9.729688  5739.394531  1360.028687   \n",
       "20         0.160345  1495.297119        2.177669  5540.209961  1732.971802   \n",
       "\n",
       "          centr_median   centr_min  centr_skew   centr_std  \n",
       "track_id                                                    \n",
       "2          1503.496704    0.000000    1.079815  719.770508  \n",
       "3          1517.993652    0.000000    1.652693  972.758423  \n",
       "5          1186.514038    0.000000    0.937101  665.319275  \n",
       "10         1180.966797    0.000000    2.523783  668.700806  \n",
       "20         1640.781128  123.611168    0.960959  481.929871  "
      ]
     },
     "execution_count": 108,
     "metadata": {},
     "output_type": "execute_result"
    }
   ],
   "source": [
    "df_target.columns=['roll_kurtosis','roll_max','roll_mean','roll_median','roll_min','roll_skew','roll_std',\n",
    "                   'centr_kurtosis','centr_max','centr_mean','centr_median','centr_min','centr_skew','centr_std']\n",
    "                   \n",
    "                   #'bandw_kurtosis','bandw_max','bandw_mean','bandw_median','bandw_min','bandw_skew','bandw_std']\n",
    "df_target.head()"
   ]
  },
  {
   "cell_type": "code",
   "execution_count": 109,
   "id": "twenty-product",
   "metadata": {},
   "outputs": [],
   "source": [
    "df=pd.merge(tracks,df_target, on='track_id')"
   ]
  },
  {
   "cell_type": "code",
   "execution_count": 110,
   "id": "improving-terrace",
   "metadata": {},
   "outputs": [],
   "source": [
    "df.drop(index=df[df.subset=='large'].index, inplace=True)"
   ]
  },
  {
   "cell_type": "markdown",
   "id": "qualified-flight",
   "metadata": {},
   "source": [
    "# Pre-processing"
   ]
  },
  {
   "cell_type": "code",
   "execution_count": 111,
   "id": "written-defense",
   "metadata": {},
   "outputs": [],
   "source": [
    "train = df.index[df['split'] == 'training']\n",
    "val = df.index[df['split'] == 'validation']\n",
    "test = df.index[df['split'] == 'test']"
   ]
  },
  {
   "cell_type": "code",
   "execution_count": 112,
   "id": "fifteen-device",
   "metadata": {},
   "outputs": [],
   "source": [
    "#copy dataframe\n",
    "df_enc=df.copy()"
   ]
  },
  {
   "cell_type": "code",
   "execution_count": 113,
   "id": "fresh-carter",
   "metadata": {},
   "outputs": [
    {
     "data": {
      "text/html": [
       "<div>\n",
       "<style scoped>\n",
       "    .dataframe tbody tr th:only-of-type {\n",
       "        vertical-align: middle;\n",
       "    }\n",
       "\n",
       "    .dataframe tbody tr th {\n",
       "        vertical-align: top;\n",
       "    }\n",
       "\n",
       "    .dataframe thead th {\n",
       "        text-align: right;\n",
       "    }\n",
       "</style>\n",
       "<table border=\"1\" class=\"dataframe\">\n",
       "  <thead>\n",
       "    <tr style=\"text-align: right;\">\n",
       "      <th></th>\n",
       "      <th>split</th>\n",
       "      <th>subset</th>\n",
       "      <th>genre_top</th>\n",
       "      <th>roll_kurtosis</th>\n",
       "      <th>roll_max</th>\n",
       "      <th>roll_mean</th>\n",
       "      <th>roll_median</th>\n",
       "      <th>roll_min</th>\n",
       "      <th>roll_skew</th>\n",
       "      <th>roll_std</th>\n",
       "      <th>centr_kurtosis</th>\n",
       "      <th>centr_max</th>\n",
       "      <th>centr_mean</th>\n",
       "      <th>centr_median</th>\n",
       "      <th>centr_min</th>\n",
       "      <th>centr_skew</th>\n",
       "      <th>centr_std</th>\n",
       "    </tr>\n",
       "    <tr>\n",
       "      <th>track_id</th>\n",
       "      <th></th>\n",
       "      <th></th>\n",
       "      <th></th>\n",
       "      <th></th>\n",
       "      <th></th>\n",
       "      <th></th>\n",
       "      <th></th>\n",
       "      <th></th>\n",
       "      <th></th>\n",
       "      <th></th>\n",
       "      <th></th>\n",
       "      <th></th>\n",
       "      <th></th>\n",
       "      <th></th>\n",
       "      <th></th>\n",
       "      <th></th>\n",
       "      <th></th>\n",
       "    </tr>\n",
       "  </thead>\n",
       "  <tbody>\n",
       "    <tr>\n",
       "      <th>2</th>\n",
       "      <td>training</td>\n",
       "      <td>small</td>\n",
       "      <td>Hip-Hop</td>\n",
       "      <td>0.840540</td>\n",
       "      <td>9410.009766</td>\n",
       "      <td>3267.804688</td>\n",
       "      <td>3143.847656</td>\n",
       "      <td>0.000000</td>\n",
       "      <td>0.347372</td>\n",
       "      <td>1300.729736</td>\n",
       "      <td>2.406808</td>\n",
       "      <td>5514.049805</td>\n",
       "      <td>1639.583252</td>\n",
       "      <td>1503.496704</td>\n",
       "      <td>0.000000</td>\n",
       "      <td>1.079815</td>\n",
       "      <td>719.770508</td>\n",
       "    </tr>\n",
       "    <tr>\n",
       "      <th>3</th>\n",
       "      <td>training</td>\n",
       "      <td>medium</td>\n",
       "      <td>Hip-Hop</td>\n",
       "      <td>2.379145</td>\n",
       "      <td>10002.172852</td>\n",
       "      <td>3514.619629</td>\n",
       "      <td>3413.012695</td>\n",
       "      <td>0.000000</td>\n",
       "      <td>1.118952</td>\n",
       "      <td>1650.357788</td>\n",
       "      <td>3.519866</td>\n",
       "      <td>6288.426758</td>\n",
       "      <td>1763.012451</td>\n",
       "      <td>1517.993652</td>\n",
       "      <td>0.000000</td>\n",
       "      <td>1.652693</td>\n",
       "      <td>972.758423</td>\n",
       "    </tr>\n",
       "    <tr>\n",
       "      <th>5</th>\n",
       "      <td>training</td>\n",
       "      <td>small</td>\n",
       "      <td>Hip-Hop</td>\n",
       "      <td>-0.238572</td>\n",
       "      <td>9442.309570</td>\n",
       "      <td>2773.931885</td>\n",
       "      <td>2863.916016</td>\n",
       "      <td>0.000000</td>\n",
       "      <td>0.266975</td>\n",
       "      <td>1323.465210</td>\n",
       "      <td>1.322586</td>\n",
       "      <td>5648.614746</td>\n",
       "      <td>1292.958130</td>\n",
       "      <td>1186.514038</td>\n",
       "      <td>0.000000</td>\n",
       "      <td>0.937101</td>\n",
       "      <td>665.319275</td>\n",
       "    </tr>\n",
       "    <tr>\n",
       "      <th>10</th>\n",
       "      <td>training</td>\n",
       "      <td>small</td>\n",
       "      <td>Pop</td>\n",
       "      <td>3.619834</td>\n",
       "      <td>10056.005859</td>\n",
       "      <td>2603.491943</td>\n",
       "      <td>2002.587891</td>\n",
       "      <td>0.000000</td>\n",
       "      <td>1.800220</td>\n",
       "      <td>1524.401245</td>\n",
       "      <td>9.729688</td>\n",
       "      <td>5739.394531</td>\n",
       "      <td>1360.028687</td>\n",
       "      <td>1180.966797</td>\n",
       "      <td>0.000000</td>\n",
       "      <td>2.523783</td>\n",
       "      <td>668.700806</td>\n",
       "    </tr>\n",
       "    <tr>\n",
       "      <th>134</th>\n",
       "      <td>training</td>\n",
       "      <td>medium</td>\n",
       "      <td>Hip-Hop</td>\n",
       "      <td>0.488314</td>\n",
       "      <td>9442.309570</td>\n",
       "      <td>2462.616943</td>\n",
       "      <td>2099.487305</td>\n",
       "      <td>0.000000</td>\n",
       "      <td>0.750207</td>\n",
       "      <td>1406.506592</td>\n",
       "      <td>2.208298</td>\n",
       "      <td>5518.117188</td>\n",
       "      <td>1257.696289</td>\n",
       "      <td>1118.902588</td>\n",
       "      <td>0.000000</td>\n",
       "      <td>1.120293</td>\n",
       "      <td>718.104797</td>\n",
       "    </tr>\n",
       "    <tr>\n",
       "      <th>...</th>\n",
       "      <td>...</td>\n",
       "      <td>...</td>\n",
       "      <td>...</td>\n",
       "      <td>...</td>\n",
       "      <td>...</td>\n",
       "      <td>...</td>\n",
       "      <td>...</td>\n",
       "      <td>...</td>\n",
       "      <td>...</td>\n",
       "      <td>...</td>\n",
       "      <td>...</td>\n",
       "      <td>...</td>\n",
       "      <td>...</td>\n",
       "      <td>...</td>\n",
       "      <td>...</td>\n",
       "      <td>...</td>\n",
       "      <td>...</td>\n",
       "    </tr>\n",
       "    <tr>\n",
       "      <th>155297</th>\n",
       "      <td>training</td>\n",
       "      <td>medium</td>\n",
       "      <td>Instrumental</td>\n",
       "      <td>32.431602</td>\n",
       "      <td>9883.740234</td>\n",
       "      <td>1189.471436</td>\n",
       "      <td>1033.593750</td>\n",
       "      <td>204.565430</td>\n",
       "      <td>5.377576</td>\n",
       "      <td>1276.645996</td>\n",
       "      <td>55.303261</td>\n",
       "      <td>8601.571289</td>\n",
       "      <td>750.424744</td>\n",
       "      <td>636.640259</td>\n",
       "      <td>220.715759</td>\n",
       "      <td>7.249722</td>\n",
       "      <td>919.452454</td>\n",
       "    </tr>\n",
       "    <tr>\n",
       "      <th>155298</th>\n",
       "      <td>training</td>\n",
       "      <td>medium</td>\n",
       "      <td>Folk</td>\n",
       "      <td>7.010324</td>\n",
       "      <td>9991.406250</td>\n",
       "      <td>1504.343750</td>\n",
       "      <td>1313.525391</td>\n",
       "      <td>0.000000</td>\n",
       "      <td>2.150454</td>\n",
       "      <td>1135.410767</td>\n",
       "      <td>18.339352</td>\n",
       "      <td>6361.462402</td>\n",
       "      <td>770.230652</td>\n",
       "      <td>676.175720</td>\n",
       "      <td>0.000000</td>\n",
       "      <td>3.141982</td>\n",
       "      <td>449.027496</td>\n",
       "    </tr>\n",
       "    <tr>\n",
       "      <th>155306</th>\n",
       "      <td>training</td>\n",
       "      <td>medium</td>\n",
       "      <td>Folk</td>\n",
       "      <td>7.370663</td>\n",
       "      <td>9453.076172</td>\n",
       "      <td>1562.254517</td>\n",
       "      <td>1238.159180</td>\n",
       "      <td>193.798828</td>\n",
       "      <td>2.179922</td>\n",
       "      <td>1146.488037</td>\n",
       "      <td>10.664659</td>\n",
       "      <td>5597.755859</td>\n",
       "      <td>780.710510</td>\n",
       "      <td>650.279541</td>\n",
       "      <td>193.229736</td>\n",
       "      <td>2.397812</td>\n",
       "      <td>472.045807</td>\n",
       "    </tr>\n",
       "    <tr>\n",
       "      <th>155307</th>\n",
       "      <td>training</td>\n",
       "      <td>medium</td>\n",
       "      <td>Experimental</td>\n",
       "      <td>-0.546878</td>\n",
       "      <td>9496.142578</td>\n",
       "      <td>3154.937744</td>\n",
       "      <td>3090.014648</td>\n",
       "      <td>129.199219</td>\n",
       "      <td>-0.114283</td>\n",
       "      <td>1222.558594</td>\n",
       "      <td>0.757221</td>\n",
       "      <td>5676.028809</td>\n",
       "      <td>1534.082275</td>\n",
       "      <td>1469.584961</td>\n",
       "      <td>192.527817</td>\n",
       "      <td>0.546836</td>\n",
       "      <td>584.459290</td>\n",
       "    </tr>\n",
       "    <tr>\n",
       "      <th>155314</th>\n",
       "      <td>training</td>\n",
       "      <td>medium</td>\n",
       "      <td>Rock</td>\n",
       "      <td>1.741085</td>\n",
       "      <td>8602.514648</td>\n",
       "      <td>2080.285889</td>\n",
       "      <td>1841.088867</td>\n",
       "      <td>710.595703</td>\n",
       "      <td>1.233641</td>\n",
       "      <td>690.444214</td>\n",
       "      <td>3.424468</td>\n",
       "      <td>4474.959473</td>\n",
       "      <td>1033.740112</td>\n",
       "      <td>992.651306</td>\n",
       "      <td>355.737061</td>\n",
       "      <td>1.110507</td>\n",
       "      <td>282.995117</td>\n",
       "    </tr>\n",
       "  </tbody>\n",
       "</table>\n",
       "<p>25000 rows × 17 columns</p>\n",
       "</div>"
      ],
      "text/plain": [
       "             split  subset     genre_top  roll_kurtosis      roll_max  \\\n",
       "track_id                                                                \n",
       "2         training   small       Hip-Hop       0.840540   9410.009766   \n",
       "3         training  medium       Hip-Hop       2.379145  10002.172852   \n",
       "5         training   small       Hip-Hop      -0.238572   9442.309570   \n",
       "10        training   small           Pop       3.619834  10056.005859   \n",
       "134       training  medium       Hip-Hop       0.488314   9442.309570   \n",
       "...            ...     ...           ...            ...           ...   \n",
       "155297    training  medium  Instrumental      32.431602   9883.740234   \n",
       "155298    training  medium          Folk       7.010324   9991.406250   \n",
       "155306    training  medium          Folk       7.370663   9453.076172   \n",
       "155307    training  medium  Experimental      -0.546878   9496.142578   \n",
       "155314    training  medium          Rock       1.741085   8602.514648   \n",
       "\n",
       "            roll_mean  roll_median    roll_min  roll_skew     roll_std  \\\n",
       "track_id                                                                 \n",
       "2         3267.804688  3143.847656    0.000000   0.347372  1300.729736   \n",
       "3         3514.619629  3413.012695    0.000000   1.118952  1650.357788   \n",
       "5         2773.931885  2863.916016    0.000000   0.266975  1323.465210   \n",
       "10        2603.491943  2002.587891    0.000000   1.800220  1524.401245   \n",
       "134       2462.616943  2099.487305    0.000000   0.750207  1406.506592   \n",
       "...               ...          ...         ...        ...          ...   \n",
       "155297    1189.471436  1033.593750  204.565430   5.377576  1276.645996   \n",
       "155298    1504.343750  1313.525391    0.000000   2.150454  1135.410767   \n",
       "155306    1562.254517  1238.159180  193.798828   2.179922  1146.488037   \n",
       "155307    3154.937744  3090.014648  129.199219  -0.114283  1222.558594   \n",
       "155314    2080.285889  1841.088867  710.595703   1.233641   690.444214   \n",
       "\n",
       "          centr_kurtosis    centr_max   centr_mean  centr_median   centr_min  \\\n",
       "track_id                                                                       \n",
       "2               2.406808  5514.049805  1639.583252   1503.496704    0.000000   \n",
       "3               3.519866  6288.426758  1763.012451   1517.993652    0.000000   \n",
       "5               1.322586  5648.614746  1292.958130   1186.514038    0.000000   \n",
       "10              9.729688  5739.394531  1360.028687   1180.966797    0.000000   \n",
       "134             2.208298  5518.117188  1257.696289   1118.902588    0.000000   \n",
       "...                  ...          ...          ...           ...         ...   \n",
       "155297         55.303261  8601.571289   750.424744    636.640259  220.715759   \n",
       "155298         18.339352  6361.462402   770.230652    676.175720    0.000000   \n",
       "155306         10.664659  5597.755859   780.710510    650.279541  193.229736   \n",
       "155307          0.757221  5676.028809  1534.082275   1469.584961  192.527817   \n",
       "155314          3.424468  4474.959473  1033.740112    992.651306  355.737061   \n",
       "\n",
       "          centr_skew   centr_std  \n",
       "track_id                          \n",
       "2           1.079815  719.770508  \n",
       "3           1.652693  972.758423  \n",
       "5           0.937101  665.319275  \n",
       "10          2.523783  668.700806  \n",
       "134         1.120293  718.104797  \n",
       "...              ...         ...  \n",
       "155297      7.249722  919.452454  \n",
       "155298      3.141982  449.027496  \n",
       "155306      2.397812  472.045807  \n",
       "155307      0.546836  584.459290  \n",
       "155314      1.110507  282.995117  \n",
       "\n",
       "[25000 rows x 17 columns]"
      ]
     },
     "execution_count": 113,
     "metadata": {},
     "output_type": "execute_result"
    }
   ],
   "source": [
    "df_enc"
   ]
  },
  {
   "cell_type": "code",
   "execution_count": 114,
   "id": "miniature-angel",
   "metadata": {},
   "outputs": [],
   "source": [
    "le=LabelEncoder()\n",
    "ple= preprocessing.LabelEncoder()\n",
    "df_enc['genre_top']=le.fit_transform(df_enc['genre_top'])"
   ]
  },
  {
   "cell_type": "code",
   "execution_count": 115,
   "id": "outdoor-prior",
   "metadata": {},
   "outputs": [
    {
     "data": {
      "text/plain": [
       "array([ 7, 12, 13,  6,  5, 10,  4,  9, 14,  0, 15,  2,  1, 11,  8,  3])"
      ]
     },
     "execution_count": 115,
     "metadata": {},
     "output_type": "execute_result"
    }
   ],
   "source": [
    "df_enc['genre_top'].unique()"
   ]
  },
  {
   "cell_type": "code",
   "execution_count": 116,
   "id": "derived-looking",
   "metadata": {},
   "outputs": [],
   "source": [
    "replace_values=[ 7, 12, 13,  6,  5, 10,  4,  9, 14,  0, 15,  2,  1,  8,  3]\n",
    "df_enc['genre_top']=df_enc['genre_top'].replace(replace_values,0)\n",
    "df_enc['genre_top']=df_enc['genre_top'].replace(11,1)"
   ]
  },
  {
   "cell_type": "code",
   "execution_count": 117,
   "id": "aerial-detroit",
   "metadata": {},
   "outputs": [
    {
     "data": {
      "text/plain": [
       "((19922,), (2505,), (2573,))"
      ]
     },
     "execution_count": 117,
     "metadata": {},
     "output_type": "execute_result"
    }
   ],
   "source": [
    "y_train = df_enc['genre_top'].loc[df_enc['split'] == 'training']\n",
    "y_val = df_enc['genre_top'].loc[df_enc['split'] == 'validation']\n",
    "y_test = df_enc['genre_top'].loc[df_enc['split'] == 'test']\n",
    "y_train.shape, y_val.shape, y_test.shape"
   ]
  },
  {
   "cell_type": "code",
   "execution_count": 118,
   "id": "loving-harvey",
   "metadata": {},
   "outputs": [],
   "source": [
    "X=df_enc.drop('genre_top',axis=1)"
   ]
  },
  {
   "cell_type": "code",
   "execution_count": 119,
   "id": "abandoned-serve",
   "metadata": {},
   "outputs": [
    {
     "data": {
      "text/plain": [
       "((19922, 16), (2505, 16), (2573, 16))"
      ]
     },
     "execution_count": 119,
     "metadata": {},
     "output_type": "execute_result"
    }
   ],
   "source": [
    "X_train = X.loc[X['split'] == 'training']\n",
    "X_val = X.loc[X['split'] == 'validation']\n",
    "X_test = X.loc[X['split'] == 'test']\n",
    "X_train.shape, X_val.shape, X_test.shape"
   ]
  },
  {
   "cell_type": "code",
   "execution_count": 120,
   "id": "expanded-contributor",
   "metadata": {},
   "outputs": [],
   "source": [
    "X_train, y_train = shuffle(X_train, y_train, random_state=42)"
   ]
  },
  {
   "cell_type": "code",
   "execution_count": 121,
   "id": "planned-meeting",
   "metadata": {},
   "outputs": [],
   "source": [
    "cut_columns=['split','subset',\n",
    "             'roll_max','roll_mean','roll_median','roll_min','roll_skew','roll_std'\n",
    "            ,'centr_kurtosis','centr_max','centr_mean','centr_median','centr_min','centr_skew','centr_std']\n",
    "X_train.drop(cut_columns,axis=1,inplace=True)\n",
    "X_val.drop(cut_columns,axis=1,inplace=True)\n",
    "X_test.drop(cut_columns,axis=1,inplace=True)"
   ]
  },
  {
   "cell_type": "code",
   "execution_count": 122,
   "id": "beautiful-defendant",
   "metadata": {},
   "outputs": [
    {
     "data": {
      "text/plain": [
       "array([[ 1.39836398],\n",
       "       [ 0.03145794],\n",
       "       [ 0.47839267],\n",
       "       ...,\n",
       "       [-0.26400148],\n",
       "       [ 0.98246302],\n",
       "       [-0.25908031]])"
      ]
     },
     "execution_count": 122,
     "metadata": {},
     "output_type": "execute_result"
    }
   ],
   "source": [
    "from sklearn.preprocessing import StandardScaler, RobustScaler, MinMaxScaler\n",
    "#normalize data with Robust scaler\n",
    "scaler = RobustScaler()\n",
    "scaler.fit_transform(X_train)\n",
    "scaler.fit_transform(X_val)\n",
    "scaler.fit_transform(X_test)"
   ]
  },
  {
   "cell_type": "code",
   "execution_count": 123,
   "id": "underlying-improvement",
   "metadata": {},
   "outputs": [],
   "source": [
    "#task:rimuovere l'1% degli outliers:\n",
    "outlier_fraction = 0.1\n",
    "#andremo a cercare slamente l'1% degli outliers e li rimuoveremo o sostituiremo in seguito"
   ]
  },
  {
   "cell_type": "code",
   "execution_count": 124,
   "id": "fitting-account",
   "metadata": {},
   "outputs": [
    {
     "name": "stdout",
     "output_type": "stream",
     "text": [
      "(17984, 1) (17984,)\n"
     ]
    }
   ],
   "source": [
    "from pyod.models.abod import ABOD\n",
    "abod=ABOD(contamination=outlier_fraction)\n",
    "abod.fit(X_train)\n",
    "abod_anomalies = abod.predict(X_train)\n",
    "np.unique(abod_anomalies, return_counts=True)\n",
    "# select all rows that are not outliers\n",
    "abod_inlier= abod_anomalies!=1\n",
    "abod_outliers= X_train[abod_anomalies==1]\n",
    "X_train.shape\n",
    "# select all rows that are not outliers\n",
    "abod_inlier= abod_anomalies!=1\n",
    "abod_outlier= X_train[abod_anomalies==1]\n",
    "X_train1, y_train1 = X_train.iloc[abod_inlier, :], y_train.iloc[abod_inlier]\n",
    "# summarize the shape of the updated training dataset\n",
    "print(X_train1.shape, y_train1.shape)"
   ]
  },
  {
   "cell_type": "code",
   "execution_count": 125,
   "id": "forward-briefing",
   "metadata": {},
   "outputs": [
    {
     "name": "stdout",
     "output_type": "stream",
     "text": [
      "(17929, 1) (17929,)\n"
     ]
    }
   ],
   "source": [
    "from sklearn.ensemble import IsolationForest\n",
    "iso = IsolationForest(max_samples=100,random_state=42, contamination=0.1) \n",
    "iso.fit(X_train)\n",
    "if_anomalies=iso.predict(X_train)\n",
    "np.unique(if_anomalies,return_counts=True)\n",
    "# select all rows that are not outliers\n",
    "if_inlier=if_anomalies!=-1\n",
    "if_outlier=X_train[if_anomalies==-1]\n",
    "X_train4, y_train4 = X_train.iloc[if_inlier, :], y_train.iloc[if_inlier]\n",
    "# summarize the shape of the updated training dataset\n",
    "print(X_train4.shape, y_train4.shape)"
   ]
  },
  {
   "cell_type": "code",
   "execution_count": 126,
   "id": "following-combine",
   "metadata": {},
   "outputs": [
    {
     "name": "stdout",
     "output_type": "stream",
     "text": [
      "1637\n"
     ]
    }
   ],
   "source": [
    "if_indexes=if_outlier.index.tolist()\n",
    "abod_indexes=abod_outlier.index.tolist()\n",
    "#comparison if with abod\n",
    "count_if_abod=0\n",
    "for i in set(if_indexes).intersection(set(abod_indexes)):\n",
    "    count_if_abod= count_if_abod+1\n",
    "print(count_if_abod) "
   ]
  },
  {
   "cell_type": "code",
   "execution_count": 127,
   "id": "collectible-camcorder",
   "metadata": {},
   "outputs": [
    {
     "name": "stdout",
     "output_type": "stream",
     "text": [
      "Dataset before outliers removed: (19922, 1) (19922,)\n",
      "Dataset cleaned: (18285, 1) (18285,)\n"
     ]
    }
   ],
   "source": [
    "X_train_clean=X_train.copy()\n",
    "y_train_clean=y_train.copy()\n",
    "for index in set(if_indexes).intersection(set(abod_indexes)):\n",
    "    X_train_clean.drop(index,inplace=True)\n",
    "    y_train_clean.drop(index, inplace=True)\n",
    "print('Dataset before outliers removed:',X_train.shape, y_train.shape)\n",
    "print('Dataset cleaned:', X_train_clean.shape, y_train_clean.shape)"
   ]
  },
  {
   "cell_type": "code",
   "execution_count": 128,
   "id": "painted-vertical",
   "metadata": {},
   "outputs": [
    {
     "data": {
      "text/plain": [
       "((18285, 1), (18285,))"
      ]
     },
     "execution_count": 128,
     "metadata": {},
     "output_type": "execute_result"
    }
   ],
   "source": [
    "X_train=X_train_clean\n",
    "y_train=y_train_clean\n",
    "X_train.shape,y_train.shape"
   ]
  },
  {
   "cell_type": "code",
   "execution_count": 129,
   "id": "egyptian-revelation",
   "metadata": {},
   "outputs": [],
   "source": [
    "from sklearn.metrics import accuracy_score, f1_score, classification_report, confusion_matrix, r2_score, mean_absolute_error, mean_squared_error\n",
    "from sklearn.metrics import roc_curve, auc, roc_auc_score\n",
    "from sklearn.model_selection import GridSearchCV\n",
    "from sklearn.metrics import plot_confusion_matrix\n",
    "from sklearn import metrics\n",
    "from sklearn import datasets, linear_model\n",
    "from sklearn.linear_model import LinearRegression, Ridge, Lasso"
   ]
  },
  {
   "cell_type": "markdown",
   "id": "neural-chile",
   "metadata": {},
   "source": [
    "# REGRESSION PROBLEM"
   ]
  },
  {
   "cell_type": "code",
   "execution_count": 130,
   "id": "postal-valentine",
   "metadata": {},
   "outputs": [
    {
     "data": {
      "text/plain": [
       "(106574, 52)"
      ]
     },
     "execution_count": 130,
     "metadata": {},
     "output_type": "execute_result"
    }
   ],
   "source": [
    "regr_tracks.shape"
   ]
  },
  {
   "cell_type": "code",
   "execution_count": 131,
   "id": "floating-surge",
   "metadata": {},
   "outputs": [
    {
     "data": {
      "text/plain": [
       "(106574, 22)"
      ]
     },
     "execution_count": 131,
     "metadata": {},
     "output_type": "execute_result"
    }
   ],
   "source": [
    "tracks_cut=['album','artist']\n",
    "regr_tracks.drop(tracks_cut,axis=1,inplace=True)\n",
    "regr_tracks.shape"
   ]
  },
  {
   "cell_type": "code",
   "execution_count": 132,
   "id": "statewide-spoke",
   "metadata": {},
   "outputs": [],
   "source": [
    "regr_tracks=regr_tracks.droplevel(0,axis=1)"
   ]
  },
  {
   "cell_type": "code",
   "execution_count": 133,
   "id": "desperate-beauty",
   "metadata": {},
   "outputs": [],
   "source": [
    "tracks_cut=['composer', 'date_created','date_recorded',\n",
    "            'license','number','title','language_code',\n",
    "            'publisher', 'tags','information','lyricist','genres','genres_all',\n",
    "            'bit_rate','genre_top']\n",
    "regr_tracks.drop(tracks_cut,axis=1,inplace=True)"
   ]
  },
  {
   "cell_type": "code",
   "execution_count": 134,
   "id": "mysterious-luther",
   "metadata": {},
   "outputs": [
    {
     "data": {
      "text/html": [
       "<div>\n",
       "<style scoped>\n",
       "    .dataframe tbody tr th:only-of-type {\n",
       "        vertical-align: middle;\n",
       "    }\n",
       "\n",
       "    .dataframe tbody tr th {\n",
       "        vertical-align: top;\n",
       "    }\n",
       "\n",
       "    .dataframe thead th {\n",
       "        text-align: right;\n",
       "    }\n",
       "</style>\n",
       "<table border=\"1\" class=\"dataframe\">\n",
       "  <thead>\n",
       "    <tr style=\"text-align: right;\">\n",
       "      <th></th>\n",
       "      <th>split</th>\n",
       "      <th>subset</th>\n",
       "      <th>comments</th>\n",
       "      <th>duration</th>\n",
       "      <th>favorites</th>\n",
       "      <th>interest</th>\n",
       "      <th>listens</th>\n",
       "    </tr>\n",
       "    <tr>\n",
       "      <th>track_id</th>\n",
       "      <th></th>\n",
       "      <th></th>\n",
       "      <th></th>\n",
       "      <th></th>\n",
       "      <th></th>\n",
       "      <th></th>\n",
       "      <th></th>\n",
       "    </tr>\n",
       "  </thead>\n",
       "  <tbody>\n",
       "    <tr>\n",
       "      <th>2</th>\n",
       "      <td>training</td>\n",
       "      <td>small</td>\n",
       "      <td>0</td>\n",
       "      <td>168</td>\n",
       "      <td>2</td>\n",
       "      <td>4656</td>\n",
       "      <td>1293</td>\n",
       "    </tr>\n",
       "    <tr>\n",
       "      <th>3</th>\n",
       "      <td>training</td>\n",
       "      <td>medium</td>\n",
       "      <td>0</td>\n",
       "      <td>237</td>\n",
       "      <td>1</td>\n",
       "      <td>1470</td>\n",
       "      <td>514</td>\n",
       "    </tr>\n",
       "    <tr>\n",
       "      <th>5</th>\n",
       "      <td>training</td>\n",
       "      <td>small</td>\n",
       "      <td>0</td>\n",
       "      <td>206</td>\n",
       "      <td>6</td>\n",
       "      <td>1933</td>\n",
       "      <td>1151</td>\n",
       "    </tr>\n",
       "    <tr>\n",
       "      <th>10</th>\n",
       "      <td>training</td>\n",
       "      <td>small</td>\n",
       "      <td>0</td>\n",
       "      <td>161</td>\n",
       "      <td>178</td>\n",
       "      <td>54881</td>\n",
       "      <td>50135</td>\n",
       "    </tr>\n",
       "    <tr>\n",
       "      <th>20</th>\n",
       "      <td>training</td>\n",
       "      <td>large</td>\n",
       "      <td>0</td>\n",
       "      <td>311</td>\n",
       "      <td>0</td>\n",
       "      <td>978</td>\n",
       "      <td>361</td>\n",
       "    </tr>\n",
       "    <tr>\n",
       "      <th>...</th>\n",
       "      <td>...</td>\n",
       "      <td>...</td>\n",
       "      <td>...</td>\n",
       "      <td>...</td>\n",
       "      <td>...</td>\n",
       "      <td>...</td>\n",
       "      <td>...</td>\n",
       "    </tr>\n",
       "    <tr>\n",
       "      <th>155316</th>\n",
       "      <td>training</td>\n",
       "      <td>large</td>\n",
       "      <td>0</td>\n",
       "      <td>162</td>\n",
       "      <td>1</td>\n",
       "      <td>122</td>\n",
       "      <td>102</td>\n",
       "    </tr>\n",
       "    <tr>\n",
       "      <th>155317</th>\n",
       "      <td>training</td>\n",
       "      <td>large</td>\n",
       "      <td>0</td>\n",
       "      <td>217</td>\n",
       "      <td>1</td>\n",
       "      <td>194</td>\n",
       "      <td>165</td>\n",
       "    </tr>\n",
       "    <tr>\n",
       "      <th>155318</th>\n",
       "      <td>training</td>\n",
       "      <td>large</td>\n",
       "      <td>0</td>\n",
       "      <td>404</td>\n",
       "      <td>2</td>\n",
       "      <td>214</td>\n",
       "      <td>168</td>\n",
       "    </tr>\n",
       "    <tr>\n",
       "      <th>155319</th>\n",
       "      <td>training</td>\n",
       "      <td>large</td>\n",
       "      <td>0</td>\n",
       "      <td>146</td>\n",
       "      <td>0</td>\n",
       "      <td>336</td>\n",
       "      <td>294</td>\n",
       "    </tr>\n",
       "    <tr>\n",
       "      <th>155320</th>\n",
       "      <td>validation</td>\n",
       "      <td>large</td>\n",
       "      <td>0</td>\n",
       "      <td>198</td>\n",
       "      <td>1</td>\n",
       "      <td>972</td>\n",
       "      <td>705</td>\n",
       "    </tr>\n",
       "  </tbody>\n",
       "</table>\n",
       "<p>106574 rows × 7 columns</p>\n",
       "</div>"
      ],
      "text/plain": [
       "               split  subset  comments  duration  favorites  interest  listens\n",
       "track_id                                                                      \n",
       "2           training   small         0       168          2      4656     1293\n",
       "3           training  medium         0       237          1      1470      514\n",
       "5           training   small         0       206          6      1933     1151\n",
       "10          training   small         0       161        178     54881    50135\n",
       "20          training   large         0       311          0       978      361\n",
       "...              ...     ...       ...       ...        ...       ...      ...\n",
       "155316      training   large         0       162          1       122      102\n",
       "155317      training   large         0       217          1       194      165\n",
       "155318      training   large         0       404          2       214      168\n",
       "155319      training   large         0       146          0       336      294\n",
       "155320    validation   large         0       198          1       972      705\n",
       "\n",
       "[106574 rows x 7 columns]"
      ]
     },
     "execution_count": 134,
     "metadata": {},
     "output_type": "execute_result"
    }
   ],
   "source": [
    "regr_tracks"
   ]
  },
  {
   "cell_type": "code",
   "execution_count": 135,
   "id": "heard-pantyhose",
   "metadata": {},
   "outputs": [],
   "source": [
    "target_regr=features[['spectral_rolloff','spectral_centroid']]"
   ]
  },
  {
   "cell_type": "code",
   "execution_count": 136,
   "id": "sunrise-annex",
   "metadata": {},
   "outputs": [],
   "source": [
    "target_regr=target_regr.droplevel(0,axis=1)"
   ]
  },
  {
   "cell_type": "code",
   "execution_count": 137,
   "id": "cross-contrast",
   "metadata": {},
   "outputs": [
    {
     "data": {
      "text/html": [
       "<div>\n",
       "<style scoped>\n",
       "    .dataframe tbody tr th:only-of-type {\n",
       "        vertical-align: middle;\n",
       "    }\n",
       "\n",
       "    .dataframe tbody tr th {\n",
       "        vertical-align: top;\n",
       "    }\n",
       "\n",
       "    .dataframe thead th {\n",
       "        text-align: right;\n",
       "    }\n",
       "</style>\n",
       "<table border=\"1\" class=\"dataframe\">\n",
       "  <thead>\n",
       "    <tr style=\"text-align: right;\">\n",
       "      <th></th>\n",
       "      <th>roll_kurtosis</th>\n",
       "      <th>roll_max</th>\n",
       "      <th>roll_mean</th>\n",
       "      <th>roll_median</th>\n",
       "      <th>roll_min</th>\n",
       "      <th>roll_skew</th>\n",
       "      <th>roll_std</th>\n",
       "      <th>centr_kurtosis</th>\n",
       "      <th>centr_max</th>\n",
       "      <th>centr_mean</th>\n",
       "      <th>centr_median</th>\n",
       "      <th>centr_min</th>\n",
       "      <th>centr_skew</th>\n",
       "      <th>centr_std</th>\n",
       "    </tr>\n",
       "    <tr>\n",
       "      <th>track_id</th>\n",
       "      <th></th>\n",
       "      <th></th>\n",
       "      <th></th>\n",
       "      <th></th>\n",
       "      <th></th>\n",
       "      <th></th>\n",
       "      <th></th>\n",
       "      <th></th>\n",
       "      <th></th>\n",
       "      <th></th>\n",
       "      <th></th>\n",
       "      <th></th>\n",
       "      <th></th>\n",
       "      <th></th>\n",
       "    </tr>\n",
       "  </thead>\n",
       "  <tbody>\n",
       "    <tr>\n",
       "      <th>2</th>\n",
       "      <td>0.840540</td>\n",
       "      <td>9410.009766</td>\n",
       "      <td>3267.804688</td>\n",
       "      <td>3143.847656</td>\n",
       "      <td>0.000000</td>\n",
       "      <td>0.347372</td>\n",
       "      <td>1300.729736</td>\n",
       "      <td>2.406808</td>\n",
       "      <td>5514.049805</td>\n",
       "      <td>1639.583252</td>\n",
       "      <td>1503.496704</td>\n",
       "      <td>0.000000</td>\n",
       "      <td>1.079815</td>\n",
       "      <td>719.770508</td>\n",
       "    </tr>\n",
       "    <tr>\n",
       "      <th>3</th>\n",
       "      <td>2.379145</td>\n",
       "      <td>10002.172852</td>\n",
       "      <td>3514.619629</td>\n",
       "      <td>3413.012695</td>\n",
       "      <td>0.000000</td>\n",
       "      <td>1.118952</td>\n",
       "      <td>1650.357788</td>\n",
       "      <td>3.519866</td>\n",
       "      <td>6288.426758</td>\n",
       "      <td>1763.012451</td>\n",
       "      <td>1517.993652</td>\n",
       "      <td>0.000000</td>\n",
       "      <td>1.652693</td>\n",
       "      <td>972.758423</td>\n",
       "    </tr>\n",
       "    <tr>\n",
       "      <th>5</th>\n",
       "      <td>-0.238572</td>\n",
       "      <td>9442.309570</td>\n",
       "      <td>2773.931885</td>\n",
       "      <td>2863.916016</td>\n",
       "      <td>0.000000</td>\n",
       "      <td>0.266975</td>\n",
       "      <td>1323.465210</td>\n",
       "      <td>1.322586</td>\n",
       "      <td>5648.614746</td>\n",
       "      <td>1292.958130</td>\n",
       "      <td>1186.514038</td>\n",
       "      <td>0.000000</td>\n",
       "      <td>0.937101</td>\n",
       "      <td>665.319275</td>\n",
       "    </tr>\n",
       "    <tr>\n",
       "      <th>10</th>\n",
       "      <td>3.619834</td>\n",
       "      <td>10056.005859</td>\n",
       "      <td>2603.491943</td>\n",
       "      <td>2002.587891</td>\n",
       "      <td>0.000000</td>\n",
       "      <td>1.800220</td>\n",
       "      <td>1524.401245</td>\n",
       "      <td>9.729688</td>\n",
       "      <td>5739.394531</td>\n",
       "      <td>1360.028687</td>\n",
       "      <td>1180.966797</td>\n",
       "      <td>0.000000</td>\n",
       "      <td>2.523783</td>\n",
       "      <td>668.700806</td>\n",
       "    </tr>\n",
       "    <tr>\n",
       "      <th>20</th>\n",
       "      <td>-0.744805</td>\n",
       "      <td>9496.142578</td>\n",
       "      <td>4201.346191</td>\n",
       "      <td>4166.674805</td>\n",
       "      <td>75.366211</td>\n",
       "      <td>0.160345</td>\n",
       "      <td>1495.297119</td>\n",
       "      <td>2.177669</td>\n",
       "      <td>5540.209961</td>\n",
       "      <td>1732.971802</td>\n",
       "      <td>1640.781128</td>\n",
       "      <td>123.611168</td>\n",
       "      <td>0.960959</td>\n",
       "      <td>481.929871</td>\n",
       "    </tr>\n",
       "  </tbody>\n",
       "</table>\n",
       "</div>"
      ],
      "text/plain": [
       "          roll_kurtosis      roll_max    roll_mean  roll_median   roll_min  \\\n",
       "track_id                                                                     \n",
       "2              0.840540   9410.009766  3267.804688  3143.847656   0.000000   \n",
       "3              2.379145  10002.172852  3514.619629  3413.012695   0.000000   \n",
       "5             -0.238572   9442.309570  2773.931885  2863.916016   0.000000   \n",
       "10             3.619834  10056.005859  2603.491943  2002.587891   0.000000   \n",
       "20            -0.744805   9496.142578  4201.346191  4166.674805  75.366211   \n",
       "\n",
       "          roll_skew     roll_std  centr_kurtosis    centr_max   centr_mean  \\\n",
       "track_id                                                                     \n",
       "2          0.347372  1300.729736        2.406808  5514.049805  1639.583252   \n",
       "3          1.118952  1650.357788        3.519866  6288.426758  1763.012451   \n",
       "5          0.266975  1323.465210        1.322586  5648.614746  1292.958130   \n",
       "10         1.800220  1524.401245        9.729688  5739.394531  1360.028687   \n",
       "20         0.160345  1495.297119        2.177669  5540.209961  1732.971802   \n",
       "\n",
       "          centr_median   centr_min  centr_skew   centr_std  \n",
       "track_id                                                    \n",
       "2          1503.496704    0.000000    1.079815  719.770508  \n",
       "3          1517.993652    0.000000    1.652693  972.758423  \n",
       "5          1186.514038    0.000000    0.937101  665.319275  \n",
       "10         1180.966797    0.000000    2.523783  668.700806  \n",
       "20         1640.781128  123.611168    0.960959  481.929871  "
      ]
     },
     "execution_count": 137,
     "metadata": {},
     "output_type": "execute_result"
    }
   ],
   "source": [
    "target_regr.columns=['roll_kurtosis','roll_max','roll_mean','roll_median','roll_min','roll_skew','roll_std',\n",
    "                   'centr_kurtosis','centr_max','centr_mean','centr_median','centr_min','centr_skew','centr_std']\n",
    "                   \n",
    "                   #'bandw_kurtosis','bandw_max','bandw_mean','bandw_median','bandw_min','bandw_skew','bandw_std']\n",
    "target_regr.head()"
   ]
  },
  {
   "cell_type": "code",
   "execution_count": 138,
   "id": "twelve-great",
   "metadata": {},
   "outputs": [],
   "source": [
    "df_regr=pd.merge(regr_tracks,target_regr, on='track_id')"
   ]
  },
  {
   "cell_type": "code",
   "execution_count": 139,
   "id": "connected-marijuana",
   "metadata": {},
   "outputs": [],
   "source": [
    "df_regr.drop(index=df_regr[df_regr.subset=='large'].index, inplace=True)"
   ]
  },
  {
   "cell_type": "raw",
   "id": "likely-tourist",
   "metadata": {},
   "source": [
    "sns.pairplot(df_regr)"
   ]
  },
  {
   "cell_type": "code",
   "execution_count": 140,
   "id": "therapeutic-gambling",
   "metadata": {},
   "outputs": [],
   "source": [
    "a='listens'\n",
    "b='favorites'"
   ]
  },
  {
   "cell_type": "code",
   "execution_count": 141,
   "id": "academic-gabriel",
   "metadata": {},
   "outputs": [
    {
     "data": {
      "text/plain": [
       "<seaborn.axisgrid.FacetGrid at 0x1a39f4f72e0>"
      ]
     },
     "execution_count": 141,
     "metadata": {},
     "output_type": "execute_result"
    },
    {
     "data": {
      "image/png": "[encoded data removed]",
      "text/plain": [
       "<Figure size 360x360 with 1 Axes>"
      ]
     },
     "metadata": {
      "needs_background": "light"
     },
     "output_type": "display_data"
    }
   ],
   "source": [
    "sns.lmplot(x=a,y=b, data=df_regr)"
   ]
  },
  {
   "cell_type": "markdown",
   "id": "facial-pastor",
   "metadata": {},
   "source": [
    "# Pre-processing"
   ]
  },
  {
   "cell_type": "code",
   "execution_count": 142,
   "id": "italic-haven",
   "metadata": {},
   "outputs": [],
   "source": [
    "train = df_regr.index[df_regr['split'] == 'training']\n",
    "val = df_regr.index[df_regr['split'] == 'validation']\n",
    "test = df_regr.index[df_regr['split'] == 'test']"
   ]
  },
  {
   "cell_type": "code",
   "execution_count": 143,
   "id": "straight-candy",
   "metadata": {},
   "outputs": [
    {
     "data": {
      "text/plain": [
       "((19922,), (2505,), (2573,))"
      ]
     },
     "execution_count": 143,
     "metadata": {},
     "output_type": "execute_result"
    }
   ],
   "source": [
    "y_train = df_regr[b].loc[df_regr['split'] == 'training']\n",
    "y_val = df_regr[b].loc[df_regr['split'] == 'validation']\n",
    "y_test = df_regr[b].loc[df_regr['split'] == 'test']\n",
    "y_train.shape, y_val.shape, y_test.shape"
   ]
  },
  {
   "cell_type": "code",
   "execution_count": 144,
   "id": "injured-portable",
   "metadata": {},
   "outputs": [],
   "source": [
    "X=df_regr.drop(b,axis=1)"
   ]
  },
  {
   "cell_type": "code",
   "execution_count": 145,
   "id": "golden-hunger",
   "metadata": {},
   "outputs": [
    {
     "data": {
      "text/plain": [
       "((19922, 20), (2505, 20), (2573, 20))"
      ]
     },
     "execution_count": 145,
     "metadata": {},
     "output_type": "execute_result"
    }
   ],
   "source": [
    "X_train = X.loc[X['split'] == 'training']\n",
    "X_val = X.loc[X['split'] == 'validation']\n",
    "X_test = X.loc[X['split'] == 'test']\n",
    "X_train.shape, X_val.shape, X_test.shape"
   ]
  },
  {
   "cell_type": "code",
   "execution_count": 146,
   "id": "appropriate-charger",
   "metadata": {},
   "outputs": [
    {
     "data": {
      "text/plain": [
       "array([[-0.10119983],\n",
       "       [ 0.26257962],\n",
       "       [-0.17658378],\n",
       "       ...,\n",
       "       [-0.05832088],\n",
       "       [ 0.01689017],\n",
       "       [ 0.09331152]])"
      ]
     },
     "execution_count": 146,
     "metadata": {},
     "output_type": "execute_result"
    }
   ],
   "source": [
    "#per fare multiregressor con più x\n",
    "df_multi_regr=df_regr.copy()\n",
    "\n",
    "cut_columns_multi_regr=['split','subset',\n",
    "            'roll_kurtosis','roll_max','roll_min','roll_skew','roll_mean','roll_median',\n",
    "            'centr_kurtosis','centr_max','centr_mean','centr_median','centr_min','centr_skew',\n",
    "            'centr_std','interest','duration','roll_std','comments']\n",
    "\n",
    "X_train1=X_train.copy()\n",
    "X_val1=X_val.copy()\n",
    "X_test1=X_test.copy()\n",
    "\n",
    "X_train1.drop(cut_columns_multi_regr,axis=1,inplace=True)\n",
    "X_val1.drop(cut_columns_multi_regr,axis=1,inplace=True)\n",
    "X_test1.drop(cut_columns_multi_regr,axis=1,inplace=True)\n",
    "\n",
    "from sklearn.preprocessing import StandardScaler, RobustScaler, MinMaxScaler\n",
    "#normalize data with Robust scaler\n",
    "scaler = RobustScaler()\n",
    "scaler.fit_transform(X_train1)\n",
    "scaler.fit_transform(X_val1)\n",
    "scaler.fit_transform(X_test1)\n",
    "\n",
    "scaler = StandardScaler()\n",
    "scaler.fit_transform(X_train1)\n",
    "scaler.fit_transform(X_val1)\n",
    "scaler.fit_transform(X_test1)\n",
    "\n"
   ]
  },
  {
   "cell_type": "code",
   "execution_count": 147,
   "id": "available-movie",
   "metadata": {},
   "outputs": [
    {
     "data": {
      "text/plain": [
       "array([[-0.10119983],\n",
       "       [ 0.26257962],\n",
       "       [-0.17658378],\n",
       "       ...,\n",
       "       [-0.05832088],\n",
       "       [ 0.01689017],\n",
       "       [ 0.09331152]])"
      ]
     },
     "execution_count": 147,
     "metadata": {},
     "output_type": "execute_result"
    }
   ],
   "source": [
    "#for plot 2d linear regressor\n",
    "cut_columns_2d_regr=['split','subset',\n",
    "            'roll_kurtosis','roll_max','roll_min','roll_skew','roll_mean','roll_median',\n",
    "            'centr_kurtosis','centr_max','centr_mean','centr_median','centr_min','centr_skew',\n",
    "            'centr_std','interest','duration','roll_std','comments']\n",
    "#'roll_std',           \n",
    "X_train.drop(cut_columns_2d_regr,axis=1,inplace=True)\n",
    "X_val.drop(cut_columns_2d_regr,axis=1,inplace=True)\n",
    "X_test.drop(cut_columns_2d_regr,axis=1,inplace=True)\n",
    "\n",
    "from sklearn.preprocessing import StandardScaler, RobustScaler, MinMaxScaler\n",
    "#normalize data with Robust scaler\n",
    "scaler = RobustScaler()\n",
    "scaler.fit_transform(X_train)\n",
    "scaler.fit_transform(X_val)\n",
    "scaler.fit_transform(X_test)\n",
    "\n",
    "scaler = StandardScaler()\n",
    "scaler.fit_transform(X_train)\n",
    "scaler.fit_transform(X_val)\n",
    "scaler.fit_transform(X_test)"
   ]
  },
  {
   "cell_type": "code",
   "execution_count": 148,
   "id": "secure-blame",
   "metadata": {},
   "outputs": [],
   "source": [
    "X_train, y_train = shuffle(X_train, y_train, random_state=42)"
   ]
  },
  {
   "cell_type": "code",
   "execution_count": 149,
   "id": "exclusive-detective",
   "metadata": {},
   "outputs": [
    {
     "data": {
      "text/html": [
       "<div>\n",
       "<style scoped>\n",
       "    .dataframe tbody tr th:only-of-type {\n",
       "        vertical-align: middle;\n",
       "    }\n",
       "\n",
       "    .dataframe tbody tr th {\n",
       "        vertical-align: top;\n",
       "    }\n",
       "\n",
       "    .dataframe thead th {\n",
       "        text-align: right;\n",
       "    }\n",
       "</style>\n",
       "<table border=\"1\" class=\"dataframe\">\n",
       "  <thead>\n",
       "    <tr style=\"text-align: right;\">\n",
       "      <th></th>\n",
       "      <th>listens</th>\n",
       "    </tr>\n",
       "    <tr>\n",
       "      <th>track_id</th>\n",
       "      <th></th>\n",
       "    </tr>\n",
       "  </thead>\n",
       "  <tbody>\n",
       "    <tr>\n",
       "      <th>138917</th>\n",
       "      <td>390</td>\n",
       "    </tr>\n",
       "    <tr>\n",
       "      <th>55956</th>\n",
       "      <td>35768</td>\n",
       "    </tr>\n",
       "    <tr>\n",
       "      <th>33242</th>\n",
       "      <td>1492</td>\n",
       "    </tr>\n",
       "    <tr>\n",
       "      <th>76134</th>\n",
       "      <td>420</td>\n",
       "    </tr>\n",
       "    <tr>\n",
       "      <th>6669</th>\n",
       "      <td>627</td>\n",
       "    </tr>\n",
       "  </tbody>\n",
       "</table>\n",
       "</div>"
      ],
      "text/plain": [
       "          listens\n",
       "track_id         \n",
       "138917        390\n",
       "55956       35768\n",
       "33242        1492\n",
       "76134         420\n",
       "6669          627"
      ]
     },
     "execution_count": 149,
     "metadata": {},
     "output_type": "execute_result"
    }
   ],
   "source": [
    "X_train.head()"
   ]
  },
  {
   "cell_type": "code",
   "execution_count": 150,
   "id": "minus-recommendation",
   "metadata": {},
   "outputs": [
    {
     "data": {
      "text/plain": [
       "LinearRegression()"
      ]
     },
     "execution_count": 150,
     "metadata": {},
     "output_type": "execute_result"
    }
   ],
   "source": [
    "\n",
    "reg=LinearRegression()\n",
    "reg.fit(X_train,y_train)"
   ]
  },
  {
   "cell_type": "code",
   "execution_count": 151,
   "id": "moderate-coordination",
   "metadata": {},
   "outputs": [],
   "source": [
    "y_pred=reg.predict(X_test)"
   ]
  },
  {
   "cell_type": "markdown",
   "id": "periodic-marketing",
   "metadata": {},
   "source": [
    "### Second way 2D"
   ]
  },
  {
   "cell_type": "code",
   "execution_count": 162,
   "id": "bright-underwear",
   "metadata": {
    "scrolled": false
   },
   "outputs": [
    {
     "name": "stdout",
     "output_type": "stream",
     "text": [
      "Coefficients: [0.00130032]\n",
      "Intercept: 0.42616081419835083\n",
      "R2: 0.707\n",
      "MSE: 267.181\n",
      "MAE: 2.812\n",
      "Coefficient of determination: 0.71\n"
     ]
    },
    {
     "data": {
      "image/png": "[encoded data removed]",
      "text/plain": [
       "<Figure size 432x288 with 1 Axes>"
      ]
     },
     "metadata": {
      "needs_background": "light"
     },
     "output_type": "display_data"
    }
   ],
   "source": [
    "# The coefficients\n",
    "print('Coefficients:', reg.coef_)\n",
    "print('Intercept:', reg.intercept_)\n",
    "# The mean squared error\n",
    "print('R2: %.3f' % r2_score(y_test, y_pred))\n",
    "print('MSE: %.3f' % mean_squared_error(y_test, y_pred))\n",
    "print('MAE: %.3f' % mean_absolute_error(y_test, y_pred))\n",
    "# The coefficient of determination: 1 is perfect prediction\n",
    "print('Coefficient of determination: %.2f'% r2_score(y_test, y_pred))\n",
    "\n",
    "plt.scatter(X_test, y_test, color='dodgerblue', edgecolors='k')\n",
    "plt.plot(X_test, y_pred, color='salmon', linewidth=3)\n",
    "plt.xlim([0,50000])\n",
    "plt.ylim([0,200])\n",
    "plt.xlabel('Listens')\n",
    "plt.ylabel('Favorites')\n",
    "plt.show()"
   ]
  },
  {
   "cell_type": "code",
   "execution_count": 153,
   "id": "intimate-brief",
   "metadata": {},
   "outputs": [],
   "source": [
    "x_values = list(sorted([v for v in X_test]))\n",
    "y_values = y_pred[np.argsort(X_test)]"
   ]
  },
  {
   "cell_type": "raw",
   "id": "jewish-formula",
   "metadata": {},
   "source": [
    "plt.scatter(X_test, y_test,  color='black')\n",
    "plt.plot(x_values, y_values, color='blue', linewidth=3)\n",
    "plt.xlim([0,60000])\n",
    "plt.ylim([0,200])\n",
    "plt.xlabel('Listens')\n",
    "plt.ylabel('Favorites')\n",
    "plt.show()"
   ]
  },
  {
   "cell_type": "markdown",
   "id": "architectural-fountain",
   "metadata": {},
   "source": [
    "# LASSO"
   ]
  },
  {
   "cell_type": "code",
   "execution_count": 154,
   "id": "clinical-making",
   "metadata": {},
   "outputs": [
    {
     "name": "stdout",
     "output_type": "stream",
     "text": [
      "Coefficients: \n",
      " [0.0013003]\n",
      "Intercept: \n",
      " 0.4262044416616\n"
     ]
    }
   ],
   "source": [
    "reg = Lasso()\n",
    "reg.fit(X_train, y_train)\n",
    "print('Coefficients: \\n', reg.coef_)\n",
    "print('Intercept: \\n', reg.intercept_)"
   ]
  },
  {
   "cell_type": "code",
   "execution_count": 155,
   "id": "catholic-vermont",
   "metadata": {},
   "outputs": [
    {
     "name": "stdout",
     "output_type": "stream",
     "text": [
      "R2: 0.707\n",
      "MSE: 267.187\n",
      "MAE: 2.812\n"
     ]
    }
   ],
   "source": [
    "y_pred = reg.predict(X_test)\n",
    "print('R2: %.3f' % r2_score(y_test, y_pred))\n",
    "print('MSE: %.3f' % mean_squared_error(y_test, y_pred))\n",
    "print('MAE: %.3f' % mean_absolute_error(y_test, y_pred))"
   ]
  },
  {
   "cell_type": "markdown",
   "id": "behavioral-friday",
   "metadata": {},
   "source": [
    "# RIDGE"
   ]
  },
  {
   "cell_type": "code",
   "execution_count": 156,
   "id": "protective-purchase",
   "metadata": {},
   "outputs": [
    {
     "name": "stdout",
     "output_type": "stream",
     "text": [
      "Coefficients: \n",
      " [0.00130032]\n",
      "Intercept: \n",
      " 0.42616081419835083\n"
     ]
    }
   ],
   "source": [
    "reg = Ridge()\n",
    "reg.fit(X_train, y_train)\n",
    "print('Coefficients: \\n', reg.coef_)\n",
    "print('Intercept: \\n', reg.intercept_)"
   ]
  },
  {
   "cell_type": "code",
   "execution_count": 157,
   "id": "early-maximum",
   "metadata": {},
   "outputs": [
    {
     "name": "stdout",
     "output_type": "stream",
     "text": [
      "R2: 0.707\n",
      "MSE: 267.181\n",
      "MAE: 2.812\n"
     ]
    }
   ],
   "source": [
    "y_pred = reg.predict(X_test)\n",
    "print('R2: %.3f' % r2_score(y_test, y_pred))\n",
    "print('MSE: %.3f' % mean_squared_error(y_test, y_pred))\n",
    "print('MAE: %.3f' % mean_absolute_error(y_test, y_pred))"
   ]
  },
  {
   "cell_type": "code",
   "execution_count": null,
   "id": "soviet-constitutional",
   "metadata": {},
   "outputs": [],
   "source": []
  }
 ],
 "metadata": {
  "kernelspec": {
   "display_name": "Python 3 (ipykernel)",
   "language": "python",
   "name": "python3"
  },
  "language_info": {
   "codemirror_mode": {
    "name": "ipython",
    "version": 3
   },
   "file_extension": ".py",
   "mimetype": "text/x-python",
   "name": "python",
   "nbconvert_exporter": "python",
   "pygments_lexer": "ipython3",
   "version": "3.10.5"
  }
 },
 "nbformat": 4,
 "nbformat_minor": 5
}
