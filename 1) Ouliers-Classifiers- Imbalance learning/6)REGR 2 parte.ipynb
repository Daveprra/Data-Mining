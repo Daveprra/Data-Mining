{
 "cells": [
  {
   "cell_type": "code",
   "execution_count": 1,
   "id": "acute-cholesterol",
   "metadata": {},
   "outputs": [],
   "source": [
    "%matplotlib inline\n",
    "import utils\n",
    "import os\n",
    "import IPython.display as ipd\n",
    "import numpy as np\n",
    "import pandas as pd\n",
    "import matplotlib.pyplot as plt\n",
    "import seaborn as sns\n",
    "import sklearn as skl\n",
    "import sklearn.utils, sklearn.preprocessing, sklearn.decomposition, sklearn.svm\n",
    "from sklearn import preprocessing\n",
    "from sklearn.preprocessing import label_binarize\n",
    "import librosa\n",
    "import librosa.display\n",
    "import missingno as msno \n",
    "%matplotlib inline\n",
    "import seaborn as sns\n",
    "from sklearn.utils import shuffle\n",
    "from sklearn.preprocessing import MultiLabelBinarizer\n",
    "from sklearn.decomposition import PCA\n",
    "from sklearn.preprocessing import LabelEncoder, LabelBinarizer, StandardScaler, RobustScaler\n",
    "# importing warning in order to ignore them\n",
    "import warnings \n",
    "warnings.filterwarnings('always')   #suppresses all warnings\n",
    "warnings.filterwarnings('ignore')"
   ]
  },
  {
   "cell_type": "code",
   "execution_count": 2,
   "id": "alone-bowling",
   "metadata": {},
   "outputs": [],
   "source": [
    "from sklearn.metrics import r2_score, mean_absolute_error, mean_squared_error\n",
    "from sklearn.metrics import roc_curve, auc, roc_auc_score\n",
    "from sklearn.model_selection import GridSearchCV\n",
    "from sklearn.metrics import plot_confusion_matrix\n",
    "from sklearn import metrics\n",
    "from sklearn import datasets, linear_model\n",
    "from sklearn.linear_model import LinearRegression, Ridge, Lasso"
   ]
  },
  {
   "cell_type": "code",
   "execution_count": 3,
   "id": "comfortable-length",
   "metadata": {},
   "outputs": [
    {
     "data": {
      "text/plain": [
       "((106574, 52), (163, 4), (106574, 518), (13129, 249))"
      ]
     },
     "execution_count": 3,
     "metadata": {},
     "output_type": "execute_result"
    }
   ],
   "source": [
    "# Directory where mp3 are stored.\n",
    "AUDIO_DIR = os.environ.get('AUDIO_DIR')\n",
    "\n",
    "tracks= utils.load(\"/Users/david/Desktop/DM2 project/fma_metadata/tracks.csv\")\n",
    "genres= utils.load(\"/Users/david/Desktop/DM2 project/fma_metadata/genres.csv\")\n",
    "features= utils.load(\"/Users/david/Desktop/DM2 project/fma_metadata/features.csv\")\n",
    "echonest= utils.load(\"/Users/david/Desktop/DM2 project/fma_metadata/echonest.csv\")\n",
    "\n",
    "np.testing.assert_array_equal(features.index, tracks.index)\n",
    "assert echonest.index.isin(tracks.index).all()\n",
    "\n",
    "tracks.shape, genres.shape, features.shape, echonest.shape"
   ]
  },
  {
   "cell_type": "code",
   "execution_count": 4,
   "id": "realistic-state",
   "metadata": {},
   "outputs": [],
   "source": [
    "regr_tracks=tracks.copy()"
   ]
  },
  {
   "cell_type": "markdown",
   "id": "neural-chile",
   "metadata": {},
   "source": [
    "# REGRESSION PROBLEM"
   ]
  },
  {
   "cell_type": "code",
   "execution_count": 5,
   "id": "postal-valentine",
   "metadata": {},
   "outputs": [
    {
     "data": {
      "text/plain": [
       "(106574, 52)"
      ]
     },
     "execution_count": 5,
     "metadata": {},
     "output_type": "execute_result"
    }
   ],
   "source": [
    "regr_tracks.shape"
   ]
  },
  {
   "cell_type": "code",
   "execution_count": 6,
   "id": "floating-surge",
   "metadata": {},
   "outputs": [
    {
     "data": {
      "text/plain": [
       "(106574, 22)"
      ]
     },
     "execution_count": 6,
     "metadata": {},
     "output_type": "execute_result"
    }
   ],
   "source": [
    "tracks_cut=['album','artist']\n",
    "regr_tracks.drop(tracks_cut,axis=1,inplace=True)\n",
    "regr_tracks.shape"
   ]
  },
  {
   "cell_type": "code",
   "execution_count": 7,
   "id": "statewide-spoke",
   "metadata": {},
   "outputs": [],
   "source": [
    "regr_tracks=regr_tracks.droplevel(0,axis=1)"
   ]
  },
  {
   "cell_type": "code",
   "execution_count": 8,
   "id": "desperate-beauty",
   "metadata": {},
   "outputs": [],
   "source": [
    "tracks_cut=['composer', 'date_created','date_recorded',\n",
    "            'license','number','title','language_code',\n",
    "            'publisher', 'tags','information','lyricist','genres','genres_all',\n",
    "            'bit_rate','genre_top']\n",
    "regr_tracks.drop(tracks_cut,axis=1,inplace=True)"
   ]
  },
  {
   "cell_type": "code",
   "execution_count": 9,
   "id": "mysterious-luther",
   "metadata": {},
   "outputs": [
    {
     "data": {
      "text/html": [
       "<div>\n",
       "<style scoped>\n",
       "    .dataframe tbody tr th:only-of-type {\n",
       "        vertical-align: middle;\n",
       "    }\n",
       "\n",
       "    .dataframe tbody tr th {\n",
       "        vertical-align: top;\n",
       "    }\n",
       "\n",
       "    .dataframe thead th {\n",
       "        text-align: right;\n",
       "    }\n",
       "</style>\n",
       "<table border=\"1\" class=\"dataframe\">\n",
       "  <thead>\n",
       "    <tr style=\"text-align: right;\">\n",
       "      <th></th>\n",
       "      <th>split</th>\n",
       "      <th>subset</th>\n",
       "      <th>comments</th>\n",
       "      <th>duration</th>\n",
       "      <th>favorites</th>\n",
       "      <th>interest</th>\n",
       "      <th>listens</th>\n",
       "    </tr>\n",
       "    <tr>\n",
       "      <th>track_id</th>\n",
       "      <th></th>\n",
       "      <th></th>\n",
       "      <th></th>\n",
       "      <th></th>\n",
       "      <th></th>\n",
       "      <th></th>\n",
       "      <th></th>\n",
       "    </tr>\n",
       "  </thead>\n",
       "  <tbody>\n",
       "    <tr>\n",
       "      <th>2</th>\n",
       "      <td>training</td>\n",
       "      <td>small</td>\n",
       "      <td>0</td>\n",
       "      <td>168</td>\n",
       "      <td>2</td>\n",
       "      <td>4656</td>\n",
       "      <td>1293</td>\n",
       "    </tr>\n",
       "    <tr>\n",
       "      <th>3</th>\n",
       "      <td>training</td>\n",
       "      <td>medium</td>\n",
       "      <td>0</td>\n",
       "      <td>237</td>\n",
       "      <td>1</td>\n",
       "      <td>1470</td>\n",
       "      <td>514</td>\n",
       "    </tr>\n",
       "    <tr>\n",
       "      <th>5</th>\n",
       "      <td>training</td>\n",
       "      <td>small</td>\n",
       "      <td>0</td>\n",
       "      <td>206</td>\n",
       "      <td>6</td>\n",
       "      <td>1933</td>\n",
       "      <td>1151</td>\n",
       "    </tr>\n",
       "    <tr>\n",
       "      <th>10</th>\n",
       "      <td>training</td>\n",
       "      <td>small</td>\n",
       "      <td>0</td>\n",
       "      <td>161</td>\n",
       "      <td>178</td>\n",
       "      <td>54881</td>\n",
       "      <td>50135</td>\n",
       "    </tr>\n",
       "    <tr>\n",
       "      <th>20</th>\n",
       "      <td>training</td>\n",
       "      <td>large</td>\n",
       "      <td>0</td>\n",
       "      <td>311</td>\n",
       "      <td>0</td>\n",
       "      <td>978</td>\n",
       "      <td>361</td>\n",
       "    </tr>\n",
       "    <tr>\n",
       "      <th>...</th>\n",
       "      <td>...</td>\n",
       "      <td>...</td>\n",
       "      <td>...</td>\n",
       "      <td>...</td>\n",
       "      <td>...</td>\n",
       "      <td>...</td>\n",
       "      <td>...</td>\n",
       "    </tr>\n",
       "    <tr>\n",
       "      <th>155316</th>\n",
       "      <td>training</td>\n",
       "      <td>large</td>\n",
       "      <td>0</td>\n",
       "      <td>162</td>\n",
       "      <td>1</td>\n",
       "      <td>122</td>\n",
       "      <td>102</td>\n",
       "    </tr>\n",
       "    <tr>\n",
       "      <th>155317</th>\n",
       "      <td>training</td>\n",
       "      <td>large</td>\n",
       "      <td>0</td>\n",
       "      <td>217</td>\n",
       "      <td>1</td>\n",
       "      <td>194</td>\n",
       "      <td>165</td>\n",
       "    </tr>\n",
       "    <tr>\n",
       "      <th>155318</th>\n",
       "      <td>training</td>\n",
       "      <td>large</td>\n",
       "      <td>0</td>\n",
       "      <td>404</td>\n",
       "      <td>2</td>\n",
       "      <td>214</td>\n",
       "      <td>168</td>\n",
       "    </tr>\n",
       "    <tr>\n",
       "      <th>155319</th>\n",
       "      <td>training</td>\n",
       "      <td>large</td>\n",
       "      <td>0</td>\n",
       "      <td>146</td>\n",
       "      <td>0</td>\n",
       "      <td>336</td>\n",
       "      <td>294</td>\n",
       "    </tr>\n",
       "    <tr>\n",
       "      <th>155320</th>\n",
       "      <td>validation</td>\n",
       "      <td>large</td>\n",
       "      <td>0</td>\n",
       "      <td>198</td>\n",
       "      <td>1</td>\n",
       "      <td>972</td>\n",
       "      <td>705</td>\n",
       "    </tr>\n",
       "  </tbody>\n",
       "</table>\n",
       "<p>106574 rows × 7 columns</p>\n",
       "</div>"
      ],
      "text/plain": [
       "               split  subset  comments  duration  favorites  interest  listens\n",
       "track_id                                                                      \n",
       "2           training   small         0       168          2      4656     1293\n",
       "3           training  medium         0       237          1      1470      514\n",
       "5           training   small         0       206          6      1933     1151\n",
       "10          training   small         0       161        178     54881    50135\n",
       "20          training   large         0       311          0       978      361\n",
       "...              ...     ...       ...       ...        ...       ...      ...\n",
       "155316      training   large         0       162          1       122      102\n",
       "155317      training   large         0       217          1       194      165\n",
       "155318      training   large         0       404          2       214      168\n",
       "155319      training   large         0       146          0       336      294\n",
       "155320    validation   large         0       198          1       972      705\n",
       "\n",
       "[106574 rows x 7 columns]"
      ]
     },
     "execution_count": 9,
     "metadata": {},
     "output_type": "execute_result"
    }
   ],
   "source": [
    "regr_tracks"
   ]
  },
  {
   "cell_type": "code",
   "execution_count": 10,
   "id": "heard-pantyhose",
   "metadata": {},
   "outputs": [],
   "source": [
    "target_regr=features[['spectral_rolloff','spectral_centroid']]"
   ]
  },
  {
   "cell_type": "code",
   "execution_count": 11,
   "id": "sunrise-annex",
   "metadata": {},
   "outputs": [],
   "source": [
    "target_regr=target_regr.droplevel(0,axis=1)"
   ]
  },
  {
   "cell_type": "code",
   "execution_count": 12,
   "id": "cross-contrast",
   "metadata": {},
   "outputs": [
    {
     "data": {
      "text/html": [
       "<div>\n",
       "<style scoped>\n",
       "    .dataframe tbody tr th:only-of-type {\n",
       "        vertical-align: middle;\n",
       "    }\n",
       "\n",
       "    .dataframe tbody tr th {\n",
       "        vertical-align: top;\n",
       "    }\n",
       "\n",
       "    .dataframe thead th {\n",
       "        text-align: right;\n",
       "    }\n",
       "</style>\n",
       "<table border=\"1\" class=\"dataframe\">\n",
       "  <thead>\n",
       "    <tr style=\"text-align: right;\">\n",
       "      <th></th>\n",
       "      <th>roll_kurtosis</th>\n",
       "      <th>roll_max</th>\n",
       "      <th>roll_mean</th>\n",
       "      <th>roll_median</th>\n",
       "      <th>roll_min</th>\n",
       "      <th>roll_skew</th>\n",
       "      <th>roll_std</th>\n",
       "      <th>centr_kurtosis</th>\n",
       "      <th>centr_max</th>\n",
       "      <th>centr_mean</th>\n",
       "      <th>centr_median</th>\n",
       "      <th>centr_min</th>\n",
       "      <th>centr_skew</th>\n",
       "      <th>centr_std</th>\n",
       "    </tr>\n",
       "    <tr>\n",
       "      <th>track_id</th>\n",
       "      <th></th>\n",
       "      <th></th>\n",
       "      <th></th>\n",
       "      <th></th>\n",
       "      <th></th>\n",
       "      <th></th>\n",
       "      <th></th>\n",
       "      <th></th>\n",
       "      <th></th>\n",
       "      <th></th>\n",
       "      <th></th>\n",
       "      <th></th>\n",
       "      <th></th>\n",
       "      <th></th>\n",
       "    </tr>\n",
       "  </thead>\n",
       "  <tbody>\n",
       "    <tr>\n",
       "      <th>2</th>\n",
       "      <td>0.840540</td>\n",
       "      <td>9410.009766</td>\n",
       "      <td>3267.804688</td>\n",
       "      <td>3143.847656</td>\n",
       "      <td>0.000000</td>\n",
       "      <td>0.347372</td>\n",
       "      <td>1300.729736</td>\n",
       "      <td>2.406808</td>\n",
       "      <td>5514.049805</td>\n",
       "      <td>1639.583252</td>\n",
       "      <td>1503.496704</td>\n",
       "      <td>0.000000</td>\n",
       "      <td>1.079815</td>\n",
       "      <td>719.770508</td>\n",
       "    </tr>\n",
       "    <tr>\n",
       "      <th>3</th>\n",
       "      <td>2.379145</td>\n",
       "      <td>10002.172852</td>\n",
       "      <td>3514.619629</td>\n",
       "      <td>3413.012695</td>\n",
       "      <td>0.000000</td>\n",
       "      <td>1.118952</td>\n",
       "      <td>1650.357788</td>\n",
       "      <td>3.519866</td>\n",
       "      <td>6288.426758</td>\n",
       "      <td>1763.012451</td>\n",
       "      <td>1517.993652</td>\n",
       "      <td>0.000000</td>\n",
       "      <td>1.652693</td>\n",
       "      <td>972.758423</td>\n",
       "    </tr>\n",
       "    <tr>\n",
       "      <th>5</th>\n",
       "      <td>-0.238572</td>\n",
       "      <td>9442.309570</td>\n",
       "      <td>2773.931885</td>\n",
       "      <td>2863.916016</td>\n",
       "      <td>0.000000</td>\n",
       "      <td>0.266975</td>\n",
       "      <td>1323.465210</td>\n",
       "      <td>1.322586</td>\n",
       "      <td>5648.614746</td>\n",
       "      <td>1292.958130</td>\n",
       "      <td>1186.514038</td>\n",
       "      <td>0.000000</td>\n",
       "      <td>0.937101</td>\n",
       "      <td>665.319275</td>\n",
       "    </tr>\n",
       "    <tr>\n",
       "      <th>10</th>\n",
       "      <td>3.619834</td>\n",
       "      <td>10056.005859</td>\n",
       "      <td>2603.491943</td>\n",
       "      <td>2002.587891</td>\n",
       "      <td>0.000000</td>\n",
       "      <td>1.800220</td>\n",
       "      <td>1524.401245</td>\n",
       "      <td>9.729688</td>\n",
       "      <td>5739.394531</td>\n",
       "      <td>1360.028687</td>\n",
       "      <td>1180.966797</td>\n",
       "      <td>0.000000</td>\n",
       "      <td>2.523783</td>\n",
       "      <td>668.700806</td>\n",
       "    </tr>\n",
       "    <tr>\n",
       "      <th>20</th>\n",
       "      <td>-0.744805</td>\n",
       "      <td>9496.142578</td>\n",
       "      <td>4201.346191</td>\n",
       "      <td>4166.674805</td>\n",
       "      <td>75.366211</td>\n",
       "      <td>0.160345</td>\n",
       "      <td>1495.297119</td>\n",
       "      <td>2.177669</td>\n",
       "      <td>5540.209961</td>\n",
       "      <td>1732.971802</td>\n",
       "      <td>1640.781128</td>\n",
       "      <td>123.611168</td>\n",
       "      <td>0.960959</td>\n",
       "      <td>481.929871</td>\n",
       "    </tr>\n",
       "  </tbody>\n",
       "</table>\n",
       "</div>"
      ],
      "text/plain": [
       "          roll_kurtosis      roll_max    roll_mean  roll_median   roll_min  \\\n",
       "track_id                                                                     \n",
       "2              0.840540   9410.009766  3267.804688  3143.847656   0.000000   \n",
       "3              2.379145  10002.172852  3514.619629  3413.012695   0.000000   \n",
       "5             -0.238572   9442.309570  2773.931885  2863.916016   0.000000   \n",
       "10             3.619834  10056.005859  2603.491943  2002.587891   0.000000   \n",
       "20            -0.744805   9496.142578  4201.346191  4166.674805  75.366211   \n",
       "\n",
       "          roll_skew     roll_std  centr_kurtosis    centr_max   centr_mean  \\\n",
       "track_id                                                                     \n",
       "2          0.347372  1300.729736        2.406808  5514.049805  1639.583252   \n",
       "3          1.118952  1650.357788        3.519866  6288.426758  1763.012451   \n",
       "5          0.266975  1323.465210        1.322586  5648.614746  1292.958130   \n",
       "10         1.800220  1524.401245        9.729688  5739.394531  1360.028687   \n",
       "20         0.160345  1495.297119        2.177669  5540.209961  1732.971802   \n",
       "\n",
       "          centr_median   centr_min  centr_skew   centr_std  \n",
       "track_id                                                    \n",
       "2          1503.496704    0.000000    1.079815  719.770508  \n",
       "3          1517.993652    0.000000    1.652693  972.758423  \n",
       "5          1186.514038    0.000000    0.937101  665.319275  \n",
       "10         1180.966797    0.000000    2.523783  668.700806  \n",
       "20         1640.781128  123.611168    0.960959  481.929871  "
      ]
     },
     "execution_count": 12,
     "metadata": {},
     "output_type": "execute_result"
    }
   ],
   "source": [
    "target_regr.columns=['roll_kurtosis','roll_max','roll_mean','roll_median','roll_min','roll_skew','roll_std',\n",
    "                   'centr_kurtosis','centr_max','centr_mean','centr_median','centr_min','centr_skew','centr_std']\n",
    "                   \n",
    "                   #'bandw_kurtosis','bandw_max','bandw_mean','bandw_median','bandw_min','bandw_skew','bandw_std']\n",
    "target_regr.head()"
   ]
  },
  {
   "cell_type": "code",
   "execution_count": 13,
   "id": "twelve-great",
   "metadata": {},
   "outputs": [],
   "source": [
    "df_regr=pd.merge(regr_tracks,target_regr, on='track_id')"
   ]
  },
  {
   "cell_type": "code",
   "execution_count": 14,
   "id": "connected-marijuana",
   "metadata": {},
   "outputs": [],
   "source": [
    "df_regr.drop(index=df_regr[df_regr.subset=='large'].index, inplace=True)"
   ]
  },
  {
   "cell_type": "raw",
   "id": "likely-tourist",
   "metadata": {},
   "source": [
    "sns.pairplot(df_regr)"
   ]
  },
  {
   "cell_type": "code",
   "execution_count": 15,
   "id": "therapeutic-gambling",
   "metadata": {},
   "outputs": [],
   "source": [
    "a='listens'\n",
    "b='favorites'"
   ]
  },
  {
   "cell_type": "code",
   "execution_count": 16,
   "id": "academic-gabriel",
   "metadata": {},
   "outputs": [
    {
     "data": {
      "text/plain": [
       "<seaborn.axisgrid.FacetGrid at 0x1ee36418a60>"
      ]
     },
     "execution_count": 16,
     "metadata": {},
     "output_type": "execute_result"
    },
    {
     "data": {
      "image/png": "[encoded data removed]",
      "text/plain": [
       "<Figure size 360x360 with 1 Axes>"
      ]
     },
     "metadata": {
      "needs_background": "light"
     },
     "output_type": "display_data"
    }
   ],
   "source": [
    "sns.lmplot(x=a,y=b, data=df_regr)"
   ]
  },
  {
   "cell_type": "markdown",
   "id": "facial-pastor",
   "metadata": {},
   "source": [
    "# Pre-processing"
   ]
  },
  {
   "cell_type": "code",
   "execution_count": 17,
   "id": "italic-haven",
   "metadata": {},
   "outputs": [],
   "source": [
    "train = df_regr.index[df_regr['split'] == 'training']\n",
    "val = df_regr.index[df_regr['split'] == 'validation']\n",
    "test = df_regr.index[df_regr['split'] == 'test']"
   ]
  },
  {
   "cell_type": "code",
   "execution_count": 18,
   "id": "straight-candy",
   "metadata": {},
   "outputs": [
    {
     "data": {
      "text/plain": [
       "((19922,), (2505,), (2573,))"
      ]
     },
     "execution_count": 18,
     "metadata": {},
     "output_type": "execute_result"
    }
   ],
   "source": [
    "y_train = df_regr[b].loc[df_regr['split'] == 'training']\n",
    "y_val = df_regr[b].loc[df_regr['split'] == 'validation']\n",
    "y_test = df_regr[b].loc[df_regr['split'] == 'test']\n",
    "y_train.shape, y_val.shape, y_test.shape"
   ]
  },
  {
   "cell_type": "code",
   "execution_count": 19,
   "id": "injured-portable",
   "metadata": {},
   "outputs": [],
   "source": [
    "X=df_regr.drop(b,axis=1)"
   ]
  },
  {
   "cell_type": "code",
   "execution_count": 20,
   "id": "golden-hunger",
   "metadata": {},
   "outputs": [
    {
     "data": {
      "text/plain": [
       "((19922, 20), (2505, 20), (2573, 20))"
      ]
     },
     "execution_count": 20,
     "metadata": {},
     "output_type": "execute_result"
    }
   ],
   "source": [
    "X_train = X.loc[X['split'] == 'training']\n",
    "X_val = X.loc[X['split'] == 'validation']\n",
    "X_test = X.loc[X['split'] == 'test']\n",
    "X_train.shape, X_val.shape, X_test.shape"
   ]
  },
  {
   "cell_type": "code",
   "execution_count": 21,
   "id": "available-movie",
   "metadata": {},
   "outputs": [
    {
     "data": {
      "text/plain": [
       "array([[-0.07011414, -0.04362238, -0.10119983,  0.00815361],\n",
       "       [-0.07011414,  0.02170858,  0.26257962, -0.23303591],\n",
       "       [-0.07011414, -0.05495624, -0.17658378, -0.15417462],\n",
       "       ...,\n",
       "       [-0.07011414, -0.03534467, -0.05832088, -0.28516949],\n",
       "       [-0.07011414, -0.01851281,  0.01689017, -0.06523179],\n",
       "       [-0.07011414, -0.00079021,  0.09331152, -0.28430115]])"
      ]
     },
     "execution_count": 21,
     "metadata": {},
     "output_type": "execute_result"
    }
   ],
   "source": [
    "#for plot 2d linear regressor\n",
    "cut_columns_2d_regr=['split','subset',\n",
    "            'roll_max','roll_min','roll_skew','roll_mean','roll_median',\n",
    "            'centr_kurtosis','centr_max','centr_mean','centr_median','centr_min','centr_skew',\n",
    "            'centr_std','duration','roll_std']\n",
    "#'roll_std',           \n",
    "X_train.drop(cut_columns_2d_regr,axis=1,inplace=True)\n",
    "X_val.drop(cut_columns_2d_regr,axis=1,inplace=True)\n",
    "X_test.drop(cut_columns_2d_regr,axis=1,inplace=True)\n",
    "\n",
    "from sklearn.preprocessing import StandardScaler, RobustScaler, MinMaxScaler\n",
    "#normalize data with Robust scaler\n",
    "scaler = RobustScaler()\n",
    "scaler.fit_transform(X_train)\n",
    "scaler.fit_transform(X_val)\n",
    "scaler.fit_transform(X_test)\n",
    "\n",
    "scaler = StandardScaler()\n",
    "scaler.fit_transform(X_train)\n",
    "scaler.fit_transform(X_val)\n",
    "scaler.fit_transform(X_test)"
   ]
  },
  {
   "cell_type": "code",
   "execution_count": 22,
   "id": "outdoor-morris",
   "metadata": {},
   "outputs": [],
   "source": [
    "#task:rimuovere l'1% degli outliers:\n",
    "outlier_fraction = 0.1\n",
    "#andremo a cercare slamente l'1% degli outliers e li rimuoveremo o sostituiremo in seguito"
   ]
  },
  {
   "cell_type": "code",
   "execution_count": 23,
   "id": "dominican-country",
   "metadata": {},
   "outputs": [
    {
     "name": "stdout",
     "output_type": "stream",
     "text": [
      "(17963, 4) (17963,)\n"
     ]
    }
   ],
   "source": [
    "from pyod.models.abod import ABOD\n",
    "abod=ABOD(contamination=outlier_fraction)\n",
    "abod.fit(X_train)\n",
    "abod_anomalies = abod.predict(X_train)\n",
    "np.unique(abod_anomalies, return_counts=True)\n",
    "# select all rows that are not outliers\n",
    "abod_inlier= abod_anomalies!=1\n",
    "abod_outliers= X_train[abod_anomalies==1]\n",
    "X_train.shape\n",
    "# select all rows that are not outliers\n",
    "abod_inlier= abod_anomalies!=1\n",
    "abod_outlier= X_train[abod_anomalies==1]\n",
    "X_train1, y_train1 = X_train.iloc[abod_inlier, :], y_train.iloc[abod_inlier]\n",
    "# summarize the shape of the updated training dataset\n",
    "print(X_train1.shape, y_train1.shape)"
   ]
  },
  {
   "cell_type": "code",
   "execution_count": 24,
   "id": "joined-armstrong",
   "metadata": {},
   "outputs": [
    {
     "name": "stdout",
     "output_type": "stream",
     "text": [
      "(17929, 4) (17929,)\n"
     ]
    }
   ],
   "source": [
    "from sklearn.ensemble import IsolationForest\n",
    "iso = IsolationForest(max_samples=100,random_state=42, contamination=0.1) \n",
    "iso.fit(X_train)\n",
    "if_anomalies=iso.predict(X_train)\n",
    "np.unique(if_anomalies,return_counts=True)\n",
    "# select all rows that are not outliers\n",
    "if_inlier=if_anomalies!=-1\n",
    "if_outlier=X_train[if_anomalies==-1]\n",
    "X_train4, y_train4 = X_train.iloc[if_inlier, :], y_train.iloc[if_inlier]\n",
    "# summarize the shape of the updated training dataset\n",
    "print(X_train4.shape, y_train4.shape)"
   ]
  },
  {
   "cell_type": "code",
   "execution_count": 25,
   "id": "toxic-poverty",
   "metadata": {},
   "outputs": [
    {
     "name": "stdout",
     "output_type": "stream",
     "text": [
      "1385\n"
     ]
    }
   ],
   "source": [
    "if_indexes=if_outlier.index.tolist()\n",
    "abod_indexes=abod_outlier.index.tolist()\n",
    "#comparison if with abod\n",
    "count_if_abod=0\n",
    "for i in set(if_indexes).intersection(set(abod_indexes)):\n",
    "    count_if_abod= count_if_abod+1\n",
    "print(count_if_abod) "
   ]
  },
  {
   "cell_type": "code",
   "execution_count": 26,
   "id": "atomic-calibration",
   "metadata": {},
   "outputs": [
    {
     "name": "stdout",
     "output_type": "stream",
     "text": [
      "Dataset before outliers removed: (19922, 4) (19922,)\n",
      "Dataset cleaned: (18537, 4) (18537,)\n"
     ]
    }
   ],
   "source": [
    "X_train_clean=X_train.copy()\n",
    "y_train_clean=y_train.copy()\n",
    "for index in set(if_indexes).intersection(set(abod_indexes)):\n",
    "    X_train_clean.drop(index,inplace=True)\n",
    "    y_train_clean.drop(index, inplace=True)\n",
    "print('Dataset before outliers removed:',X_train.shape, y_train.shape)\n",
    "print('Dataset cleaned:', X_train_clean.shape, y_train_clean.shape)"
   ]
  },
  {
   "cell_type": "code",
   "execution_count": 27,
   "id": "magnetic-recipe",
   "metadata": {},
   "outputs": [
    {
     "data": {
      "text/plain": [
       "((18537, 4), (18537,))"
      ]
     },
     "execution_count": 27,
     "metadata": {},
     "output_type": "execute_result"
    }
   ],
   "source": [
    "X_train=X_train_clean\n",
    "y_train=y_train_clean\n",
    "X_train.shape,y_train.shape"
   ]
  },
  {
   "cell_type": "code",
   "execution_count": 28,
   "id": "secure-blame",
   "metadata": {},
   "outputs": [],
   "source": [
    "X_train, y_train = shuffle(X_train, y_train, random_state=42)"
   ]
  },
  {
   "cell_type": "code",
   "execution_count": 29,
   "id": "exclusive-detective",
   "metadata": {},
   "outputs": [
    {
     "data": {
      "text/html": [
       "<div>\n",
       "<style scoped>\n",
       "    .dataframe tbody tr th:only-of-type {\n",
       "        vertical-align: middle;\n",
       "    }\n",
       "\n",
       "    .dataframe tbody tr th {\n",
       "        vertical-align: top;\n",
       "    }\n",
       "\n",
       "    .dataframe thead th {\n",
       "        text-align: right;\n",
       "    }\n",
       "</style>\n",
       "<table border=\"1\" class=\"dataframe\">\n",
       "  <thead>\n",
       "    <tr style=\"text-align: right;\">\n",
       "      <th></th>\n",
       "      <th>comments</th>\n",
       "      <th>interest</th>\n",
       "      <th>listens</th>\n",
       "      <th>roll_kurtosis</th>\n",
       "    </tr>\n",
       "    <tr>\n",
       "      <th>track_id</th>\n",
       "      <th></th>\n",
       "      <th></th>\n",
       "      <th></th>\n",
       "      <th></th>\n",
       "    </tr>\n",
       "  </thead>\n",
       "  <tbody>\n",
       "    <tr>\n",
       "      <th>81884</th>\n",
       "      <td>0</td>\n",
       "      <td>2296</td>\n",
       "      <td>1940</td>\n",
       "      <td>0.445309</td>\n",
       "    </tr>\n",
       "    <tr>\n",
       "      <th>30084</th>\n",
       "      <td>0</td>\n",
       "      <td>1968</td>\n",
       "      <td>833</td>\n",
       "      <td>9.926342</td>\n",
       "    </tr>\n",
       "    <tr>\n",
       "      <th>71721</th>\n",
       "      <td>0</td>\n",
       "      <td>2998</td>\n",
       "      <td>2598</td>\n",
       "      <td>19.235535</td>\n",
       "    </tr>\n",
       "    <tr>\n",
       "      <th>19181</th>\n",
       "      <td>0</td>\n",
       "      <td>935</td>\n",
       "      <td>824</td>\n",
       "      <td>5.788989</td>\n",
       "    </tr>\n",
       "    <tr>\n",
       "      <th>17843</th>\n",
       "      <td>0</td>\n",
       "      <td>884</td>\n",
       "      <td>407</td>\n",
       "      <td>2.068973</td>\n",
       "    </tr>\n",
       "  </tbody>\n",
       "</table>\n",
       "</div>"
      ],
      "text/plain": [
       "          comments  interest  listens  roll_kurtosis\n",
       "track_id                                            \n",
       "81884            0      2296     1940       0.445309\n",
       "30084            0      1968      833       9.926342\n",
       "71721            0      2998     2598      19.235535\n",
       "19181            0       935      824       5.788989\n",
       "17843            0       884      407       2.068973"
      ]
     },
     "execution_count": 29,
     "metadata": {},
     "output_type": "execute_result"
    }
   ],
   "source": [
    "X_train.head()"
   ]
  },
  {
   "cell_type": "code",
   "execution_count": 30,
   "id": "popular-champagne",
   "metadata": {},
   "outputs": [
    {
     "data": {
      "text/plain": [
       "LinearRegression()"
      ]
     },
     "execution_count": 30,
     "metadata": {},
     "output_type": "execute_result"
    }
   ],
   "source": [
    "multi_reg=LinearRegression()\n",
    "multi_reg.fit(X_train,y_train)"
   ]
  },
  {
   "cell_type": "code",
   "execution_count": 31,
   "id": "painted-details",
   "metadata": {},
   "outputs": [
    {
     "name": "stdout",
     "output_type": "stream",
     "text": [
      "Coefficients: \n",
      " [1.52387688e+00 5.22625396e-04 6.76602804e-04 1.76743535e-03]\n",
      "Intercept: \n",
      " 0.09740163552448866\n"
     ]
    }
   ],
   "source": [
    "print('Coefficients: \\n', multi_reg.coef_)\n",
    "print('Intercept: \\n',multi_reg.intercept_)"
   ]
  },
  {
   "cell_type": "code",
   "execution_count": 32,
   "id": "wicked-habitat",
   "metadata": {},
   "outputs": [
    {
     "name": "stdout",
     "output_type": "stream",
     "text": [
      "R2: 0.779\n",
      "MSE: 201.062\n",
      "MAE: 2.685\n",
      "Coefficient of determination: 0.78\n"
     ]
    }
   ],
   "source": [
    "y_pred = multi_reg.predict(X_test)\n",
    "print('R2: %.3f' % r2_score(y_test, y_pred))\n",
    "print('MSE: %.3f' % mean_squared_error(y_test, y_pred))\n",
    "print('MAE: %.3f' % mean_absolute_error(y_test, y_pred))\n",
    "# The coefficient of determination: 1 is perfect prediction\n",
    "print('Coefficient of determination: %.2f'% r2_score(y_test, y_pred))"
   ]
  },
  {
   "cell_type": "markdown",
   "id": "secondary-newton",
   "metadata": {},
   "source": [
    "# LASSO"
   ]
  },
  {
   "cell_type": "code",
   "execution_count": 33,
   "id": "neither-committee",
   "metadata": {},
   "outputs": [
    {
     "name": "stdout",
     "output_type": "stream",
     "text": [
      "Coefficients: \n",
      " [0.         0.00052166 0.00069494 0.00081827]\n",
      "Intercept: \n",
      " 0.11403315919275947\n"
     ]
    }
   ],
   "source": [
    "reg = Lasso()\n",
    "reg.fit(X_train, y_train)\n",
    "print('Coefficients: \\n', reg.coef_)\n",
    "print('Intercept: \\n', reg.intercept_)"
   ]
  },
  {
   "cell_type": "code",
   "execution_count": 34,
   "id": "raised-journalist",
   "metadata": {},
   "outputs": [
    {
     "name": "stdout",
     "output_type": "stream",
     "text": [
      "R2: 0.806\n",
      "MSE: 177.232\n",
      "MAE: 2.667\n"
     ]
    }
   ],
   "source": [
    "y_pred = reg.predict(X_test)\n",
    "print('R2: %.3f' % r2_score(y_test, y_pred))\n",
    "print('MSE: %.3f' % mean_squared_error(y_test, y_pred))\n",
    "print('MAE: %.3f' % mean_absolute_error(y_test, y_pred))"
   ]
  },
  {
   "cell_type": "markdown",
   "id": "bright-distinction",
   "metadata": {},
   "source": [
    "# RIDGE"
   ]
  },
  {
   "cell_type": "code",
   "execution_count": 35,
   "id": "declared-devices",
   "metadata": {},
   "outputs": [
    {
     "name": "stdout",
     "output_type": "stream",
     "text": [
      "Coefficients: \n",
      " [1.52160555e+00 5.22625587e-04 6.76629888e-04 1.76740849e-03]\n",
      "Intercept: \n",
      " 0.09740844166392737\n"
     ]
    }
   ],
   "source": [
    "reg = Ridge()\n",
    "reg.fit(X_train, y_train)\n",
    "print('Coefficients: \\n', reg.coef_)\n",
    "print('Intercept: \\n', reg.intercept_)"
   ]
  },
  {
   "cell_type": "code",
   "execution_count": 36,
   "id": "meaning-lexington",
   "metadata": {},
   "outputs": [
    {
     "name": "stdout",
     "output_type": "stream",
     "text": [
      "R2: 0.779\n",
      "MSE: 201.027\n",
      "MAE: 2.685\n"
     ]
    }
   ],
   "source": [
    "y_pred = reg.predict(X_test)\n",
    "print('R2: %.3f' % r2_score(y_test, y_pred))\n",
    "print('MSE: %.3f' % mean_squared_error(y_test, y_pred))\n",
    "print('MAE: %.3f' % mean_absolute_error(y_test, y_pred))"
   ]
  },
  {
   "cell_type": "code",
   "execution_count": null,
   "id": "vulnerable-spell",
   "metadata": {},
   "outputs": [],
   "source": []
  },
  {
   "cell_type": "code",
   "execution_count": null,
   "id": "clinical-making",
   "metadata": {},
   "outputs": [],
   "source": []
  },
  {
   "cell_type": "code",
   "execution_count": null,
   "id": "catholic-vermont",
   "metadata": {},
   "outputs": [],
   "source": []
  },
  {
   "cell_type": "code",
   "execution_count": null,
   "id": "preceding-audio",
   "metadata": {},
   "outputs": [],
   "source": []
  }
 ],
 "metadata": {
  "kernelspec": {
   "display_name": "Python 3 (ipykernel)",
   "language": "python",
   "name": "python3"
  },
  "language_info": {
   "codemirror_mode": {
    "name": "ipython",
    "version": 3
   },
   "file_extension": ".py",
   "mimetype": "text/x-python",
   "name": "python",
   "nbconvert_exporter": "python",
   "pygments_lexer": "ipython3",
   "version": "3.10.5"
  }
 },
 "nbformat": 4,
 "nbformat_minor": 5
}
